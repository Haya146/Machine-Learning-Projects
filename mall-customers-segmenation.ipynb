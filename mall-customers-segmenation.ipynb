{
 "cells": [
  {
   "cell_type": "markdown",
   "id": "792225ba",
   "metadata": {
    "papermill": {
     "duration": 0.007061,
     "end_time": "2024-12-22T18:49:51.059943",
     "exception": false,
     "start_time": "2024-12-22T18:49:51.052882",
     "status": "completed"
    },
    "tags": []
   },
   "source": [
    "**Problem Statement**    \n",
    "You own the mall and want to understand the customers like who can be easily converge [Target Customers] so that the sense can be given to marketing team and plan the strategy accordingly."
   ]
  },
  {
   "cell_type": "markdown",
   "id": "fc19950d",
   "metadata": {
    "papermill": {
     "duration": 0.00565,
     "end_time": "2024-12-22T18:49:51.071854",
     "exception": false,
     "start_time": "2024-12-22T18:49:51.066204",
     "status": "completed"
    },
    "tags": []
   },
   "source": [
    "# Import Libraries"
   ]
  },
  {
   "cell_type": "code",
   "execution_count": 1,
   "id": "856b1a30",
   "metadata": {
    "_cell_guid": "b1076dfc-b9ad-4769-8c92-a6c4dae69d19",
    "_uuid": "8f2839f25d086af736a60e9eeb907d3b93b6e0e5",
    "execution": {
     "iopub.execute_input": "2024-12-22T18:49:51.086018Z",
     "iopub.status.busy": "2024-12-22T18:49:51.085539Z",
     "iopub.status.idle": "2024-12-22T18:49:54.147914Z",
     "shell.execute_reply": "2024-12-22T18:49:54.146734Z"
    },
    "papermill": {
     "duration": 3.072393,
     "end_time": "2024-12-22T18:49:54.150190",
     "exception": false,
     "start_time": "2024-12-22T18:49:51.077797",
     "status": "completed"
    },
    "tags": []
   },
   "outputs": [],
   "source": [
    "import numpy as np \n",
    "import pandas as pd \n",
    "import matplotlib.pyplot as plt \n",
    "import seaborn as sns \n",
    "sns.set()\n",
    "\n",
    "from sklearn.cluster import KMeans\n",
    "\n",
    "from sklearn.preprocessing import LabelEncoder\n",
    "from sklearn.preprocessing import StandardScaler\n",
    "\n",
    "import warnings \n",
    "warnings.filterwarnings('ignore')"
   ]
  },
  {
   "cell_type": "markdown",
   "id": "05cd5183",
   "metadata": {
    "papermill": {
     "duration": 0.005949,
     "end_time": "2024-12-22T18:49:54.162476",
     "exception": false,
     "start_time": "2024-12-22T18:49:54.156527",
     "status": "completed"
    },
    "tags": []
   },
   "source": [
    "# Explore the Data "
   ]
  },
  {
   "cell_type": "code",
   "execution_count": 2,
   "id": "913e3d33",
   "metadata": {
    "execution": {
     "iopub.execute_input": "2024-12-22T18:49:54.176245Z",
     "iopub.status.busy": "2024-12-22T18:49:54.175665Z",
     "iopub.status.idle": "2024-12-22T18:49:54.214216Z",
     "shell.execute_reply": "2024-12-22T18:49:54.212867Z"
    },
    "papermill": {
     "duration": 0.047755,
     "end_time": "2024-12-22T18:49:54.216298",
     "exception": false,
     "start_time": "2024-12-22T18:49:54.168543",
     "status": "completed"
    },
    "tags": []
   },
   "outputs": [
    {
     "data": {
      "text/html": [
       "<div>\n",
       "<style scoped>\n",
       "    .dataframe tbody tr th:only-of-type {\n",
       "        vertical-align: middle;\n",
       "    }\n",
       "\n",
       "    .dataframe tbody tr th {\n",
       "        vertical-align: top;\n",
       "    }\n",
       "\n",
       "    .dataframe thead th {\n",
       "        text-align: right;\n",
       "    }\n",
       "</style>\n",
       "<table border=\"1\" class=\"dataframe\">\n",
       "  <thead>\n",
       "    <tr style=\"text-align: right;\">\n",
       "      <th></th>\n",
       "      <th>CustomerID</th>\n",
       "      <th>Gender</th>\n",
       "      <th>Age</th>\n",
       "      <th>Annual Income (k$)</th>\n",
       "      <th>Spending Score (1-100)</th>\n",
       "    </tr>\n",
       "  </thead>\n",
       "  <tbody>\n",
       "    <tr>\n",
       "      <th>0</th>\n",
       "      <td>1</td>\n",
       "      <td>Male</td>\n",
       "      <td>19</td>\n",
       "      <td>15</td>\n",
       "      <td>39</td>\n",
       "    </tr>\n",
       "    <tr>\n",
       "      <th>1</th>\n",
       "      <td>2</td>\n",
       "      <td>Male</td>\n",
       "      <td>21</td>\n",
       "      <td>15</td>\n",
       "      <td>81</td>\n",
       "    </tr>\n",
       "    <tr>\n",
       "      <th>2</th>\n",
       "      <td>3</td>\n",
       "      <td>Female</td>\n",
       "      <td>20</td>\n",
       "      <td>16</td>\n",
       "      <td>6</td>\n",
       "    </tr>\n",
       "    <tr>\n",
       "      <th>3</th>\n",
       "      <td>4</td>\n",
       "      <td>Female</td>\n",
       "      <td>23</td>\n",
       "      <td>16</td>\n",
       "      <td>77</td>\n",
       "    </tr>\n",
       "    <tr>\n",
       "      <th>4</th>\n",
       "      <td>5</td>\n",
       "      <td>Female</td>\n",
       "      <td>31</td>\n",
       "      <td>17</td>\n",
       "      <td>40</td>\n",
       "    </tr>\n",
       "  </tbody>\n",
       "</table>\n",
       "</div>"
      ],
      "text/plain": [
       "   CustomerID  Gender  Age  Annual Income (k$)  Spending Score (1-100)\n",
       "0           1    Male   19                  15                      39\n",
       "1           2    Male   21                  15                      81\n",
       "2           3  Female   20                  16                       6\n",
       "3           4  Female   23                  16                      77\n",
       "4           5  Female   31                  17                      40"
      ]
     },
     "execution_count": 2,
     "metadata": {},
     "output_type": "execute_result"
    }
   ],
   "source": [
    "data = pd.read_csv('/kaggle/input/customer-segmentation-tutorial-in-python/Mall_Customers.csv')\n",
    "data.head()"
   ]
  },
  {
   "cell_type": "code",
   "execution_count": 3,
   "id": "dcfc6a92",
   "metadata": {
    "execution": {
     "iopub.execute_input": "2024-12-22T18:49:54.230265Z",
     "iopub.status.busy": "2024-12-22T18:49:54.229860Z",
     "iopub.status.idle": "2024-12-22T18:49:54.236448Z",
     "shell.execute_reply": "2024-12-22T18:49:54.235165Z"
    },
    "papermill": {
     "duration": 0.015589,
     "end_time": "2024-12-22T18:49:54.238305",
     "exception": false,
     "start_time": "2024-12-22T18:49:54.222716",
     "status": "completed"
    },
    "tags": []
   },
   "outputs": [
    {
     "data": {
      "text/plain": [
       "(200, 5)"
      ]
     },
     "execution_count": 3,
     "metadata": {},
     "output_type": "execute_result"
    }
   ],
   "source": [
    "data.shape"
   ]
  },
  {
   "cell_type": "code",
   "execution_count": 4,
   "id": "b483a60c",
   "metadata": {
    "execution": {
     "iopub.execute_input": "2024-12-22T18:49:54.254149Z",
     "iopub.status.busy": "2024-12-22T18:49:54.253635Z",
     "iopub.status.idle": "2024-12-22T18:49:54.281722Z",
     "shell.execute_reply": "2024-12-22T18:49:54.280047Z"
    },
    "papermill": {
     "duration": 0.038292,
     "end_time": "2024-12-22T18:49:54.284113",
     "exception": false,
     "start_time": "2024-12-22T18:49:54.245821",
     "status": "completed"
    },
    "tags": []
   },
   "outputs": [
    {
     "name": "stdout",
     "output_type": "stream",
     "text": [
      "<class 'pandas.core.frame.DataFrame'>\n",
      "RangeIndex: 200 entries, 0 to 199\n",
      "Data columns (total 5 columns):\n",
      " #   Column                  Non-Null Count  Dtype \n",
      "---  ------                  --------------  ----- \n",
      " 0   CustomerID              200 non-null    int64 \n",
      " 1   Gender                  200 non-null    object\n",
      " 2   Age                     200 non-null    int64 \n",
      " 3   Annual Income (k$)      200 non-null    int64 \n",
      " 4   Spending Score (1-100)  200 non-null    int64 \n",
      "dtypes: int64(4), object(1)\n",
      "memory usage: 7.9+ KB\n"
     ]
    }
   ],
   "source": [
    "data.info()"
   ]
  },
  {
   "cell_type": "code",
   "execution_count": 5,
   "id": "ff4aef15",
   "metadata": {
    "execution": {
     "iopub.execute_input": "2024-12-22T18:49:54.298708Z",
     "iopub.status.busy": "2024-12-22T18:49:54.298279Z",
     "iopub.status.idle": "2024-12-22T18:49:54.306371Z",
     "shell.execute_reply": "2024-12-22T18:49:54.305041Z"
    },
    "papermill": {
     "duration": 0.017803,
     "end_time": "2024-12-22T18:49:54.308533",
     "exception": false,
     "start_time": "2024-12-22T18:49:54.290730",
     "status": "completed"
    },
    "tags": []
   },
   "outputs": [
    {
     "data": {
      "text/plain": [
       "CustomerID                0\n",
       "Gender                    0\n",
       "Age                       0\n",
       "Annual Income (k$)        0\n",
       "Spending Score (1-100)    0\n",
       "dtype: int64"
      ]
     },
     "execution_count": 5,
     "metadata": {},
     "output_type": "execute_result"
    }
   ],
   "source": [
    "data.isnull().sum()"
   ]
  },
  {
   "cell_type": "code",
   "execution_count": 6,
   "id": "afa2d2f9",
   "metadata": {
    "execution": {
     "iopub.execute_input": "2024-12-22T18:49:54.323479Z",
     "iopub.status.busy": "2024-12-22T18:49:54.323127Z",
     "iopub.status.idle": "2024-12-22T18:49:54.348211Z",
     "shell.execute_reply": "2024-12-22T18:49:54.346805Z"
    },
    "papermill": {
     "duration": 0.035032,
     "end_time": "2024-12-22T18:49:54.350540",
     "exception": false,
     "start_time": "2024-12-22T18:49:54.315508",
     "status": "completed"
    },
    "tags": []
   },
   "outputs": [
    {
     "data": {
      "text/html": [
       "<div>\n",
       "<style scoped>\n",
       "    .dataframe tbody tr th:only-of-type {\n",
       "        vertical-align: middle;\n",
       "    }\n",
       "\n",
       "    .dataframe tbody tr th {\n",
       "        vertical-align: top;\n",
       "    }\n",
       "\n",
       "    .dataframe thead th {\n",
       "        text-align: right;\n",
       "    }\n",
       "</style>\n",
       "<table border=\"1\" class=\"dataframe\">\n",
       "  <thead>\n",
       "    <tr style=\"text-align: right;\">\n",
       "      <th></th>\n",
       "      <th>CustomerID</th>\n",
       "      <th>Age</th>\n",
       "      <th>Annual Income (k$)</th>\n",
       "      <th>Spending Score (1-100)</th>\n",
       "    </tr>\n",
       "  </thead>\n",
       "  <tbody>\n",
       "    <tr>\n",
       "      <th>count</th>\n",
       "      <td>200.000000</td>\n",
       "      <td>200.000000</td>\n",
       "      <td>200.000000</td>\n",
       "      <td>200.000000</td>\n",
       "    </tr>\n",
       "    <tr>\n",
       "      <th>mean</th>\n",
       "      <td>100.500000</td>\n",
       "      <td>38.850000</td>\n",
       "      <td>60.560000</td>\n",
       "      <td>50.200000</td>\n",
       "    </tr>\n",
       "    <tr>\n",
       "      <th>std</th>\n",
       "      <td>57.879185</td>\n",
       "      <td>13.969007</td>\n",
       "      <td>26.264721</td>\n",
       "      <td>25.823522</td>\n",
       "    </tr>\n",
       "    <tr>\n",
       "      <th>min</th>\n",
       "      <td>1.000000</td>\n",
       "      <td>18.000000</td>\n",
       "      <td>15.000000</td>\n",
       "      <td>1.000000</td>\n",
       "    </tr>\n",
       "    <tr>\n",
       "      <th>25%</th>\n",
       "      <td>50.750000</td>\n",
       "      <td>28.750000</td>\n",
       "      <td>41.500000</td>\n",
       "      <td>34.750000</td>\n",
       "    </tr>\n",
       "    <tr>\n",
       "      <th>50%</th>\n",
       "      <td>100.500000</td>\n",
       "      <td>36.000000</td>\n",
       "      <td>61.500000</td>\n",
       "      <td>50.000000</td>\n",
       "    </tr>\n",
       "    <tr>\n",
       "      <th>75%</th>\n",
       "      <td>150.250000</td>\n",
       "      <td>49.000000</td>\n",
       "      <td>78.000000</td>\n",
       "      <td>73.000000</td>\n",
       "    </tr>\n",
       "    <tr>\n",
       "      <th>max</th>\n",
       "      <td>200.000000</td>\n",
       "      <td>70.000000</td>\n",
       "      <td>137.000000</td>\n",
       "      <td>99.000000</td>\n",
       "    </tr>\n",
       "  </tbody>\n",
       "</table>\n",
       "</div>"
      ],
      "text/plain": [
       "       CustomerID         Age  Annual Income (k$)  Spending Score (1-100)\n",
       "count  200.000000  200.000000          200.000000              200.000000\n",
       "mean   100.500000   38.850000           60.560000               50.200000\n",
       "std     57.879185   13.969007           26.264721               25.823522\n",
       "min      1.000000   18.000000           15.000000                1.000000\n",
       "25%     50.750000   28.750000           41.500000               34.750000\n",
       "50%    100.500000   36.000000           61.500000               50.000000\n",
       "75%    150.250000   49.000000           78.000000               73.000000\n",
       "max    200.000000   70.000000          137.000000               99.000000"
      ]
     },
     "execution_count": 6,
     "metadata": {},
     "output_type": "execute_result"
    }
   ],
   "source": [
    "data.describe()"
   ]
  },
  {
   "cell_type": "markdown",
   "id": "7f9c1722",
   "metadata": {
    "papermill": {
     "duration": 0.007268,
     "end_time": "2024-12-22T18:49:54.364780",
     "exception": false,
     "start_time": "2024-12-22T18:49:54.357512",
     "status": "completed"
    },
    "tags": []
   },
   "source": [
    "# Preprocessing the Data"
   ]
  },
  {
   "cell_type": "markdown",
   "id": "74fbc4e8",
   "metadata": {
    "papermill": {
     "duration": 0.006946,
     "end_time": "2024-12-22T18:49:54.378660",
     "exception": false,
     "start_time": "2024-12-22T18:49:54.371714",
     "status": "completed"
    },
    "tags": []
   },
   "source": [
    "## Transform Object Data"
   ]
  },
  {
   "cell_type": "code",
   "execution_count": 7,
   "id": "375f8143",
   "metadata": {
    "execution": {
     "iopub.execute_input": "2024-12-22T18:49:54.393637Z",
     "iopub.status.busy": "2024-12-22T18:49:54.393224Z",
     "iopub.status.idle": "2024-12-22T18:49:54.397916Z",
     "shell.execute_reply": "2024-12-22T18:49:54.396625Z"
    },
    "papermill": {
     "duration": 0.014712,
     "end_time": "2024-12-22T18:49:54.400116",
     "exception": false,
     "start_time": "2024-12-22T18:49:54.385404",
     "status": "completed"
    },
    "tags": []
   },
   "outputs": [],
   "source": [
    "encoder = LabelEncoder()"
   ]
  },
  {
   "cell_type": "code",
   "execution_count": 8,
   "id": "e3ae0111",
   "metadata": {
    "execution": {
     "iopub.execute_input": "2024-12-22T18:49:54.415874Z",
     "iopub.status.busy": "2024-12-22T18:49:54.415447Z",
     "iopub.status.idle": "2024-12-22T18:49:54.420857Z",
     "shell.execute_reply": "2024-12-22T18:49:54.419813Z"
    },
    "papermill": {
     "duration": 0.015489,
     "end_time": "2024-12-22T18:49:54.422866",
     "exception": false,
     "start_time": "2024-12-22T18:49:54.407377",
     "status": "completed"
    },
    "tags": []
   },
   "outputs": [],
   "source": [
    "data.Gender = encoder.fit_transform(data.Gender)"
   ]
  },
  {
   "cell_type": "markdown",
   "id": "4aad66a8",
   "metadata": {
    "papermill": {
     "duration": 0.006946,
     "end_time": "2024-12-22T18:49:54.436729",
     "exception": false,
     "start_time": "2024-12-22T18:49:54.429783",
     "status": "completed"
    },
    "tags": []
   },
   "source": [
    "# Model "
   ]
  },
  {
   "cell_type": "code",
   "execution_count": 9,
   "id": "a8153555",
   "metadata": {
    "execution": {
     "iopub.execute_input": "2024-12-22T18:49:54.451364Z",
     "iopub.status.busy": "2024-12-22T18:49:54.450991Z",
     "iopub.status.idle": "2024-12-22T18:49:54.455643Z",
     "shell.execute_reply": "2024-12-22T18:49:54.454442Z"
    },
    "papermill": {
     "duration": 0.014264,
     "end_time": "2024-12-22T18:49:54.457617",
     "exception": false,
     "start_time": "2024-12-22T18:49:54.443353",
     "status": "completed"
    },
    "tags": []
   },
   "outputs": [],
   "source": [
    "n_clusters= []\n",
    "inertia = []"
   ]
  },
  {
   "cell_type": "code",
   "execution_count": 10,
   "id": "b240b056",
   "metadata": {
    "execution": {
     "iopub.execute_input": "2024-12-22T18:49:54.473377Z",
     "iopub.status.busy": "2024-12-22T18:49:54.472914Z",
     "iopub.status.idle": "2024-12-22T18:49:54.766365Z",
     "shell.execute_reply": "2024-12-22T18:49:54.765426Z"
    },
    "papermill": {
     "duration": 0.303452,
     "end_time": "2024-12-22T18:49:54.768551",
     "exception": false,
     "start_time": "2024-12-22T18:49:54.465099",
     "status": "completed"
    },
    "tags": []
   },
   "outputs": [],
   "source": [
    "for i in range (1,12): \n",
    "    model = KMeans(n_clusters = i)\n",
    "    model.fit(data)\n",
    "    n_clusters.append(i)\n",
    "    inertia.append(model.inertia_)"
   ]
  },
  {
   "cell_type": "code",
   "execution_count": 11,
   "id": "5d691061",
   "metadata": {
    "execution": {
     "iopub.execute_input": "2024-12-22T18:49:54.789217Z",
     "iopub.status.busy": "2024-12-22T18:49:54.788790Z",
     "iopub.status.idle": "2024-12-22T18:49:54.798692Z",
     "shell.execute_reply": "2024-12-22T18:49:54.797061Z"
    },
    "papermill": {
     "duration": 0.022953,
     "end_time": "2024-12-22T18:49:54.800872",
     "exception": false,
     "start_time": "2024-12-22T18:49:54.777919",
     "status": "completed"
    },
    "tags": []
   },
   "outputs": [
    {
     "data": {
      "text/html": [
       "<div>\n",
       "<style scoped>\n",
       "    .dataframe tbody tr th:only-of-type {\n",
       "        vertical-align: middle;\n",
       "    }\n",
       "\n",
       "    .dataframe tbody tr th {\n",
       "        vertical-align: top;\n",
       "    }\n",
       "\n",
       "    .dataframe thead th {\n",
       "        text-align: right;\n",
       "    }\n",
       "</style>\n",
       "<table border=\"1\" class=\"dataframe\">\n",
       "  <thead>\n",
       "    <tr style=\"text-align: right;\">\n",
       "      <th></th>\n",
       "      <th>0</th>\n",
       "    </tr>\n",
       "  </thead>\n",
       "  <tbody>\n",
       "    <tr>\n",
       "      <th>975512.060000</th>\n",
       "      <td>1</td>\n",
       "    </tr>\n",
       "    <tr>\n",
       "      <th>387065.713771</th>\n",
       "      <td>2</td>\n",
       "    </tr>\n",
       "    <tr>\n",
       "      <th>271384.508783</th>\n",
       "      <td>3</td>\n",
       "    </tr>\n",
       "    <tr>\n",
       "      <th>195393.503846</th>\n",
       "      <td>4</td>\n",
       "    </tr>\n",
       "    <tr>\n",
       "      <th>157179.693358</th>\n",
       "      <td>5</td>\n",
       "    </tr>\n",
       "    <tr>\n",
       "      <th>122630.441753</th>\n",
       "      <td>6</td>\n",
       "    </tr>\n",
       "    <tr>\n",
       "      <th>103325.560420</th>\n",
       "      <td>7</td>\n",
       "    </tr>\n",
       "    <tr>\n",
       "      <th>86053.674448</th>\n",
       "      <td>8</td>\n",
       "    </tr>\n",
       "    <tr>\n",
       "      <th>77296.251655</th>\n",
       "      <td>9</td>\n",
       "    </tr>\n",
       "    <tr>\n",
       "      <th>69292.622071</th>\n",
       "      <td>10</td>\n",
       "    </tr>\n",
       "    <tr>\n",
       "      <th>64455.618984</th>\n",
       "      <td>11</td>\n",
       "    </tr>\n",
       "  </tbody>\n",
       "</table>\n",
       "</div>"
      ],
      "text/plain": [
       "                0\n",
       "975512.060000   1\n",
       "387065.713771   2\n",
       "271384.508783   3\n",
       "195393.503846   4\n",
       "157179.693358   5\n",
       "122630.441753   6\n",
       "103325.560420   7\n",
       "86053.674448    8\n",
       "77296.251655    9\n",
       "69292.622071   10\n",
       "64455.618984   11"
      ]
     },
     "execution_count": 11,
     "metadata": {},
     "output_type": "execute_result"
    }
   ],
   "source": [
    "pd.DataFrame(n_clusters , inertia )"
   ]
  },
  {
   "cell_type": "code",
   "execution_count": 12,
   "id": "c731f7b6",
   "metadata": {
    "execution": {
     "iopub.execute_input": "2024-12-22T18:49:54.817926Z",
     "iopub.status.busy": "2024-12-22T18:49:54.817554Z",
     "iopub.status.idle": "2024-12-22T18:49:55.218679Z",
     "shell.execute_reply": "2024-12-22T18:49:55.217412Z"
    },
    "papermill": {
     "duration": 0.41188,
     "end_time": "2024-12-22T18:49:55.220704",
     "exception": false,
     "start_time": "2024-12-22T18:49:54.808824",
     "status": "completed"
    },
    "tags": []
   },
   "outputs": [
    {
     "data": {
      "text/plain": [
       "Text(0, 0.5, '% of Error')"
      ]
     },
     "execution_count": 12,
     "metadata": {},
     "output_type": "execute_result"
    },
    {
     "data": {
      "image/png": "[encoded data removed]",
      "text/plain": [
       "<Figure size 640x480 with 1 Axes>"
      ]
     },
     "metadata": {},
     "output_type": "display_data"
    }
   ],
   "source": [
    "plt.plot(n_clusters, inertia,marker = 'o')\n",
    "plt.title(\"Find the best number of Clusters \")\n",
    "plt.xlabel(\"Count of Clusters\")\n",
    "plt.ylabel(\"% of Error\")\n"
   ]
  },
  {
   "cell_type": "code",
   "execution_count": 13,
   "id": "d4f17995",
   "metadata": {
    "execution": {
     "iopub.execute_input": "2024-12-22T18:49:55.238198Z",
     "iopub.status.busy": "2024-12-22T18:49:55.237706Z",
     "iopub.status.idle": "2024-12-22T18:49:55.270253Z",
     "shell.execute_reply": "2024-12-22T18:49:55.269248Z"
    },
    "papermill": {
     "duration": 0.0435,
     "end_time": "2024-12-22T18:49:55.272255",
     "exception": false,
     "start_time": "2024-12-22T18:49:55.228755",
     "status": "completed"
    },
    "tags": []
   },
   "outputs": [
    {
     "data": {
      "text/html": [
       "<style>#sk-container-id-1 {color: black;background-color: white;}#sk-container-id-1 pre{padding: 0;}#sk-container-id-1 div.sk-toggleable {background-color: white;}#sk-container-id-1 label.sk-toggleable__label {cursor: pointer;display: block;width: 100%;margin-bottom: 0;padding: 0.3em;box-sizing: border-box;text-align: center;}#sk-container-id-1 label.sk-toggleable__label-arrow:before {content: \"▸\";float: left;margin-right: 0.25em;color: #696969;}#sk-container-id-1 label.sk-toggleable__label-arrow:hover:before {color: black;}#sk-container-id-1 div.sk-estimator:hover label.sk-toggleable__label-arrow:before {color: black;}#sk-container-id-1 div.sk-toggleable__content {max-height: 0;max-width: 0;overflow: hidden;text-align: left;background-color: #f0f8ff;}#sk-container-id-1 div.sk-toggleable__content pre {margin: 0.2em;color: black;border-radius: 0.25em;background-color: #f0f8ff;}#sk-container-id-1 input.sk-toggleable__control:checked~div.sk-toggleable__content {max-height: 200px;max-width: 100%;overflow: auto;}#sk-container-id-1 input.sk-toggleable__control:checked~label.sk-toggleable__label-arrow:before {content: \"▾\";}#sk-container-id-1 div.sk-estimator input.sk-toggleable__control:checked~label.sk-toggleable__label {background-color: #d4ebff;}#sk-container-id-1 div.sk-label input.sk-toggleable__control:checked~label.sk-toggleable__label {background-color: #d4ebff;}#sk-container-id-1 input.sk-hidden--visually {border: 0;clip: rect(1px 1px 1px 1px);clip: rect(1px, 1px, 1px, 1px);height: 1px;margin: -1px;overflow: hidden;padding: 0;position: absolute;width: 1px;}#sk-container-id-1 div.sk-estimator {font-family: monospace;background-color: #f0f8ff;border: 1px dotted black;border-radius: 0.25em;box-sizing: border-box;margin-bottom: 0.5em;}#sk-container-id-1 div.sk-estimator:hover {background-color: #d4ebff;}#sk-container-id-1 div.sk-parallel-item::after {content: \"\";width: 100%;border-bottom: 1px solid gray;flex-grow: 1;}#sk-container-id-1 div.sk-label:hover label.sk-toggleable__label {background-color: #d4ebff;}#sk-container-id-1 div.sk-serial::before {content: \"\";position: absolute;border-left: 1px solid gray;box-sizing: border-box;top: 0;bottom: 0;left: 50%;z-index: 0;}#sk-container-id-1 div.sk-serial {display: flex;flex-direction: column;align-items: center;background-color: white;padding-right: 0.2em;padding-left: 0.2em;position: relative;}#sk-container-id-1 div.sk-item {position: relative;z-index: 1;}#sk-container-id-1 div.sk-parallel {display: flex;align-items: stretch;justify-content: center;background-color: white;position: relative;}#sk-container-id-1 div.sk-item::before, #sk-container-id-1 div.sk-parallel-item::before {content: \"\";position: absolute;border-left: 1px solid gray;box-sizing: border-box;top: 0;bottom: 0;left: 50%;z-index: -1;}#sk-container-id-1 div.sk-parallel-item {display: flex;flex-direction: column;z-index: 1;position: relative;background-color: white;}#sk-container-id-1 div.sk-parallel-item:first-child::after {align-self: flex-end;width: 50%;}#sk-container-id-1 div.sk-parallel-item:last-child::after {align-self: flex-start;width: 50%;}#sk-container-id-1 div.sk-parallel-item:only-child::after {width: 0;}#sk-container-id-1 div.sk-dashed-wrapped {border: 1px dashed gray;margin: 0 0.4em 0.5em 0.4em;box-sizing: border-box;padding-bottom: 0.4em;background-color: white;}#sk-container-id-1 div.sk-label label {font-family: monospace;font-weight: bold;display: inline-block;line-height: 1.2em;}#sk-container-id-1 div.sk-label-container {text-align: center;}#sk-container-id-1 div.sk-container {/* jupyter's `normalize.less` sets `[hidden] { display: none; }` but bootstrap.min.css set `[hidden] { display: none !important; }` so we also need the `!important` here to be able to override the default hidden behavior on the sphinx rendered scikit-learn.org. See: https://github.com/scikit-learn/scikit-learn/issues/21755 */display: inline-block !important;position: relative;}#sk-container-id-1 div.sk-text-repr-fallback {display: none;}</style><div id=\"sk-container-id-1\" class=\"sk-top-container\"><div class=\"sk-text-repr-fallback\"><pre>KMeans(n_clusters=4)</pre><b>In a Jupyter environment, please rerun this cell to show the HTML representation or trust the notebook. <br />On GitHub, the HTML representation is unable to render, please try loading this page with nbviewer.org.</b></div><div class=\"sk-container\" hidden><div class=\"sk-item\"><div class=\"sk-estimator sk-toggleable\"><input class=\"sk-toggleable__control sk-hidden--visually\" id=\"sk-estimator-id-1\" type=\"checkbox\" checked><label for=\"sk-estimator-id-1\" class=\"sk-toggleable__label sk-toggleable__label-arrow\">KMeans</label><div class=\"sk-toggleable__content\"><pre>KMeans(n_clusters=4)</pre></div></div></div></div></div>"
      ],
      "text/plain": [
       "KMeans(n_clusters=4)"
      ]
     },
     "execution_count": 13,
     "metadata": {},
     "output_type": "execute_result"
    }
   ],
   "source": [
    "model = KMeans(n_clusters = 4)\n",
    "model.fit(data)"
   ]
  },
  {
   "cell_type": "code",
   "execution_count": 14,
   "id": "e3d89102",
   "metadata": {
    "execution": {
     "iopub.execute_input": "2024-12-22T18:49:55.291231Z",
     "iopub.status.busy": "2024-12-22T18:49:55.290732Z",
     "iopub.status.idle": "2024-12-22T18:49:55.296861Z",
     "shell.execute_reply": "2024-12-22T18:49:55.295975Z"
    },
    "papermill": {
     "duration": 0.017214,
     "end_time": "2024-12-22T18:49:55.298793",
     "exception": false,
     "start_time": "2024-12-22T18:49:55.281579",
     "status": "completed"
    },
    "tags": []
   },
   "outputs": [
    {
     "data": {
      "text/plain": [
       "195401.19855991466"
      ]
     },
     "execution_count": 14,
     "metadata": {},
     "output_type": "execute_result"
    }
   ],
   "source": [
    "model.inertia_"
   ]
  },
  {
   "cell_type": "code",
   "execution_count": 15,
   "id": "b18bef40",
   "metadata": {
    "execution": {
     "iopub.execute_input": "2024-12-22T18:49:55.316514Z",
     "iopub.status.busy": "2024-12-22T18:49:55.316127Z",
     "iopub.status.idle": "2024-12-22T18:49:55.322432Z",
     "shell.execute_reply": "2024-12-22T18:49:55.321147Z"
    },
    "papermill": {
     "duration": 0.017279,
     "end_time": "2024-12-22T18:49:55.324519",
     "exception": false,
     "start_time": "2024-12-22T18:49:55.307240",
     "status": "completed"
    },
    "tags": []
   },
   "outputs": [],
   "source": [
    "predict = model.predict(data)"
   ]
  },
  {
   "cell_type": "code",
   "execution_count": 16,
   "id": "02400df7",
   "metadata": {
    "execution": {
     "iopub.execute_input": "2024-12-22T18:49:55.341888Z",
     "iopub.status.busy": "2024-12-22T18:49:55.341502Z",
     "iopub.status.idle": "2024-12-22T18:49:55.346950Z",
     "shell.execute_reply": "2024-12-22T18:49:55.345665Z"
    },
    "papermill": {
     "duration": 0.016576,
     "end_time": "2024-12-22T18:49:55.349210",
     "exception": false,
     "start_time": "2024-12-22T18:49:55.332634",
     "status": "completed"
    },
    "tags": []
   },
   "outputs": [],
   "source": [
    "data['Groups'] = predict "
   ]
  },
  {
   "cell_type": "code",
   "execution_count": 17,
   "id": "35e70b35",
   "metadata": {
    "execution": {
     "iopub.execute_input": "2024-12-22T18:49:55.367543Z",
     "iopub.status.busy": "2024-12-22T18:49:55.367194Z",
     "iopub.status.idle": "2024-12-22T18:49:55.379504Z",
     "shell.execute_reply": "2024-12-22T18:49:55.378351Z"
    },
    "papermill": {
     "duration": 0.023462,
     "end_time": "2024-12-22T18:49:55.381365",
     "exception": false,
     "start_time": "2024-12-22T18:49:55.357903",
     "status": "completed"
    },
    "tags": []
   },
   "outputs": [
    {
     "data": {
      "text/html": [
       "<div>\n",
       "<style scoped>\n",
       "    .dataframe tbody tr th:only-of-type {\n",
       "        vertical-align: middle;\n",
       "    }\n",
       "\n",
       "    .dataframe tbody tr th {\n",
       "        vertical-align: top;\n",
       "    }\n",
       "\n",
       "    .dataframe thead th {\n",
       "        text-align: right;\n",
       "    }\n",
       "</style>\n",
       "<table border=\"1\" class=\"dataframe\">\n",
       "  <thead>\n",
       "    <tr style=\"text-align: right;\">\n",
       "      <th></th>\n",
       "      <th>CustomerID</th>\n",
       "      <th>Gender</th>\n",
       "      <th>Age</th>\n",
       "      <th>Annual Income (k$)</th>\n",
       "      <th>Spending Score (1-100)</th>\n",
       "      <th>Groups</th>\n",
       "    </tr>\n",
       "  </thead>\n",
       "  <tbody>\n",
       "    <tr>\n",
       "      <th>101</th>\n",
       "      <td>102</td>\n",
       "      <td>0</td>\n",
       "      <td>49</td>\n",
       "      <td>62</td>\n",
       "      <td>48</td>\n",
       "      <td>2</td>\n",
       "    </tr>\n",
       "    <tr>\n",
       "      <th>67</th>\n",
       "      <td>68</td>\n",
       "      <td>0</td>\n",
       "      <td>68</td>\n",
       "      <td>48</td>\n",
       "      <td>48</td>\n",
       "      <td>2</td>\n",
       "    </tr>\n",
       "    <tr>\n",
       "      <th>197</th>\n",
       "      <td>198</td>\n",
       "      <td>1</td>\n",
       "      <td>32</td>\n",
       "      <td>126</td>\n",
       "      <td>74</td>\n",
       "      <td>0</td>\n",
       "    </tr>\n",
       "    <tr>\n",
       "      <th>79</th>\n",
       "      <td>80</td>\n",
       "      <td>0</td>\n",
       "      <td>49</td>\n",
       "      <td>54</td>\n",
       "      <td>42</td>\n",
       "      <td>2</td>\n",
       "    </tr>\n",
       "    <tr>\n",
       "      <th>153</th>\n",
       "      <td>154</td>\n",
       "      <td>0</td>\n",
       "      <td>38</td>\n",
       "      <td>78</td>\n",
       "      <td>76</td>\n",
       "      <td>0</td>\n",
       "    </tr>\n",
       "  </tbody>\n",
       "</table>\n",
       "</div>"
      ],
      "text/plain": [
       "     CustomerID  Gender  Age  Annual Income (k$)  Spending Score (1-100)  \\\n",
       "101         102       0   49                  62                      48   \n",
       "67           68       0   68                  48                      48   \n",
       "197         198       1   32                 126                      74   \n",
       "79           80       0   49                  54                      42   \n",
       "153         154       0   38                  78                      76   \n",
       "\n",
       "     Groups  \n",
       "101       2  \n",
       "67        2  \n",
       "197       0  \n",
       "79        2  \n",
       "153       0  "
      ]
     },
     "execution_count": 17,
     "metadata": {},
     "output_type": "execute_result"
    }
   ],
   "source": [
    "data.sample(5)"
   ]
  },
  {
   "cell_type": "code",
   "execution_count": 18,
   "id": "44acaaa0",
   "metadata": {
    "execution": {
     "iopub.execute_input": "2024-12-22T18:49:55.400126Z",
     "iopub.status.busy": "2024-12-22T18:49:55.399691Z",
     "iopub.status.idle": "2024-12-22T18:49:55.407149Z",
     "shell.execute_reply": "2024-12-22T18:49:55.405830Z"
    },
    "papermill": {
     "duration": 0.019103,
     "end_time": "2024-12-22T18:49:55.409083",
     "exception": false,
     "start_time": "2024-12-22T18:49:55.389980",
     "status": "completed"
    },
    "tags": []
   },
   "outputs": [],
   "source": [
    "group_1 = data[data.Groups== 0]\n",
    "group_2 = data[data.Groups== 1]\n",
    "group_3 = data[data.Groups== 2]\n",
    "group_4 = data[data.Groups== 3]"
   ]
  },
  {
   "cell_type": "code",
   "execution_count": 19,
   "id": "fb09e3fc",
   "metadata": {
    "execution": {
     "iopub.execute_input": "2024-12-22T18:49:55.427358Z",
     "iopub.status.busy": "2024-12-22T18:49:55.426917Z",
     "iopub.status.idle": "2024-12-22T18:49:56.001119Z",
     "shell.execute_reply": "2024-12-22T18:49:55.999608Z"
    },
    "papermill": {
     "duration": 0.585709,
     "end_time": "2024-12-22T18:49:56.003277",
     "exception": false,
     "start_time": "2024-12-22T18:49:55.417568",
     "status": "completed"
    },
    "tags": []
   },
   "outputs": [
    {
     "data": {
      "text/plain": [
       "<matplotlib.legend.Legend at 0x7de770225cf0>"
      ]
     },
     "execution_count": 19,
     "metadata": {},
     "output_type": "execute_result"
    },
    {
     "data": {
      "image/png": "[encoded data removed]",
      "text/plain": [
       "<Figure size 640x480 with 1 Axes>"
      ]
     },
     "metadata": {},
     "output_type": "display_data"
    }
   ],
   "source": [
    "plt.scatter(group_1['Annual Income (k$)'],group_1['Spending Score (1-100)'] ,label= 'group 1')\n",
    "plt.scatter(group_2['Annual Income (k$)'],group_2['Spending Score (1-100)'] ,label= 'group 2')\n",
    "plt.scatter(group_3['Annual Income (k$)'],group_3['Spending Score (1-100)'] ,label= 'group 3')\n",
    "plt.scatter(group_4['Annual Income (k$)'],group_4['Spending Score (1-100)'] ,label= 'group 4')\n",
    "plt.title('Final Clusters')\n",
    "plt.xlabel('Annual Income (k$)')\n",
    "plt.ylabel('Spending Score (1-100)')\n",
    "plt.legend()"
   ]
  },
  {
   "cell_type": "markdown",
   "id": "4b76e227",
   "metadata": {
    "papermill": {
     "duration": 0.008848,
     "end_time": "2024-12-22T18:49:56.021562",
     "exception": false,
     "start_time": "2024-12-22T18:49:56.012714",
     "status": "completed"
    },
    "tags": []
   },
   "source": [
    "# Analyze the Data"
   ]
  },
  {
   "cell_type": "code",
   "execution_count": 20,
   "id": "69d07e05",
   "metadata": {
    "execution": {
     "iopub.execute_input": "2024-12-22T18:49:56.041356Z",
     "iopub.status.busy": "2024-12-22T18:49:56.040944Z",
     "iopub.status.idle": "2024-12-22T18:49:56.313322Z",
     "shell.execute_reply": "2024-12-22T18:49:56.312080Z"
    },
    "papermill": {
     "duration": 0.284523,
     "end_time": "2024-12-22T18:49:56.315392",
     "exception": false,
     "start_time": "2024-12-22T18:49:56.030869",
     "status": "completed"
    },
    "tags": []
   },
   "outputs": [
    {
     "data": {
      "text/plain": [
       "<Axes: xlabel='Groups', ylabel='count'>"
      ]
     },
     "execution_count": 20,
     "metadata": {},
     "output_type": "execute_result"
    },
    {
     "data": {
      "image/png": "[encoded data removed]",
      "text/plain": [
       "<Figure size 640x480 with 1 Axes>"
      ]
     },
     "metadata": {},
     "output_type": "display_data"
    }
   ],
   "source": [
    "sns.countplot(x= data.Groups)\n"
   ]
  },
  {
   "cell_type": "code",
   "execution_count": 21,
   "id": "29eff9d2",
   "metadata": {
    "execution": {
     "iopub.execute_input": "2024-12-22T18:49:56.337605Z",
     "iopub.status.busy": "2024-12-22T18:49:56.337255Z",
     "iopub.status.idle": "2024-12-22T18:49:56.507804Z",
     "shell.execute_reply": "2024-12-22T18:49:56.506287Z"
    },
    "papermill": {
     "duration": 0.185538,
     "end_time": "2024-12-22T18:49:56.511092",
     "exception": false,
     "start_time": "2024-12-22T18:49:56.325554",
     "status": "completed"
    },
    "tags": []
   },
   "outputs": [
    {
     "data": {
      "text/plain": [
       "<Axes: ylabel='count'>"
      ]
     },
     "execution_count": 21,
     "metadata": {},
     "output_type": "execute_result"
    },
    {
     "data": {
      "image/png": "[encoded data removed]",
      "text/plain": [
       "<Figure size 640x480 with 1 Axes>"
      ]
     },
     "metadata": {},
     "output_type": "display_data"
    }
   ],
   "source": [
    "data.Groups.value_counts().plot.pie(autopct= '%0.2f%%')"
   ]
  },
  {
   "cell_type": "code",
   "execution_count": 22,
   "id": "fba0d016",
   "metadata": {
    "execution": {
     "iopub.execute_input": "2024-12-22T18:49:56.570358Z",
     "iopub.status.busy": "2024-12-22T18:49:56.569883Z",
     "iopub.status.idle": "2024-12-22T18:49:56.878263Z",
     "shell.execute_reply": "2024-12-22T18:49:56.877055Z"
    },
    "papermill": {
     "duration": 0.34059,
     "end_time": "2024-12-22T18:49:56.880287",
     "exception": false,
     "start_time": "2024-12-22T18:49:56.539697",
     "status": "completed"
    },
    "tags": []
   },
   "outputs": [
    {
     "data": {
      "text/plain": [
       "<Axes: xlabel='Groups', ylabel='Spending Score (1-100)'>"
      ]
     },
     "execution_count": 22,
     "metadata": {},
     "output_type": "execute_result"
    },
    {
     "data": {
      "image/png": "[encoded data removed]",
      "text/plain": [
       "<Figure size 640x480 with 1 Axes>"
      ]
     },
     "metadata": {},
     "output_type": "display_data"
    }
   ],
   "source": [
    "sns.boxplot(x= data['Groups'], y=data['Spending Score (1-100)'])"
   ]
  },
  {
   "cell_type": "code",
   "execution_count": 23,
   "id": "34973466",
   "metadata": {
    "execution": {
     "iopub.execute_input": "2024-12-22T18:49:56.904126Z",
     "iopub.status.busy": "2024-12-22T18:49:56.903684Z",
     "iopub.status.idle": "2024-12-22T18:49:57.284183Z",
     "shell.execute_reply": "2024-12-22T18:49:57.282811Z"
    },
    "papermill": {
     "duration": 0.394783,
     "end_time": "2024-12-22T18:49:57.286494",
     "exception": false,
     "start_time": "2024-12-22T18:49:56.891711",
     "status": "completed"
    },
    "tags": []
   },
   "outputs": [
    {
     "data": {
      "text/plain": [
       "<Axes: xlabel='Age', ylabel='Count'>"
      ]
     },
     "execution_count": 23,
     "metadata": {},
     "output_type": "execute_result"
    },
    {
     "data": {
      "image/png": "[encoded data removed]",
      "text/plain": [
       "<Figure size 640x480 with 1 Axes>"
      ]
     },
     "metadata": {},
     "output_type": "display_data"
    }
   ],
   "source": [
    "sns.histplot(data.Age)"
   ]
  },
  {
   "cell_type": "code",
   "execution_count": 24,
   "id": "57c1e494",
   "metadata": {
    "execution": {
     "iopub.execute_input": "2024-12-22T18:49:57.311327Z",
     "iopub.status.busy": "2024-12-22T18:49:57.310912Z",
     "iopub.status.idle": "2024-12-22T18:49:57.552336Z",
     "shell.execute_reply": "2024-12-22T18:49:57.550993Z"
    },
    "papermill": {
     "duration": 0.255536,
     "end_time": "2024-12-22T18:49:57.554160",
     "exception": false,
     "start_time": "2024-12-22T18:49:57.298624",
     "status": "completed"
    },
    "tags": []
   },
   "outputs": [
    {
     "data": {
      "text/plain": [
       "<Axes: xlabel='Gender', ylabel='count'>"
      ]
     },
     "execution_count": 24,
     "metadata": {},
     "output_type": "execute_result"
    },
    {
     "data": {
      "image/png": "[encoded data removed]",
      "text/plain": [
       "<Figure size 640x480 with 1 Axes>"
      ]
     },
     "metadata": {},
     "output_type": "display_data"
    }
   ],
   "source": [
    "sns.countplot(x= data.Gender)"
   ]
  },
  {
   "cell_type": "code",
   "execution_count": 25,
   "id": "309d8961",
   "metadata": {
    "execution": {
     "iopub.execute_input": "2024-12-22T18:49:57.580324Z",
     "iopub.status.busy": "2024-12-22T18:49:57.579886Z",
     "iopub.status.idle": "2024-12-22T18:49:57.962379Z",
     "shell.execute_reply": "2024-12-22T18:49:57.960931Z"
    },
    "papermill": {
     "duration": 0.397999,
     "end_time": "2024-12-22T18:49:57.964558",
     "exception": false,
     "start_time": "2024-12-22T18:49:57.566559",
     "status": "completed"
    },
    "tags": []
   },
   "outputs": [
    {
     "data": {
      "text/plain": [
       "<Axes: xlabel='Groups', ylabel='count'>"
      ]
     },
     "execution_count": 25,
     "metadata": {},
     "output_type": "execute_result"
    },
    {
     "data": {
      "image/png": "[encoded data removed]",
      "text/plain": [
       "<Figure size 640x480 with 1 Axes>"
      ]
     },
     "metadata": {},
     "output_type": "display_data"
    }
   ],
   "source": [
    "sns.countplot(x= data.Groups, hue= data.Gender)"
   ]
  },
  {
   "cell_type": "code",
   "execution_count": null,
   "id": "a727a960",
   "metadata": {
    "papermill": {
     "duration": 0.020692,
     "end_time": "2024-12-22T18:49:57.998384",
     "exception": false,
     "start_time": "2024-12-22T18:49:57.977692",
     "status": "completed"
    },
    "tags": []
   },
   "outputs": [],
   "source": []
  }
 ],
 "metadata": {
  "kaggle": {
   "accelerator": "none",
   "dataSources": [
    {
     "datasetId": 42674,
     "sourceId": 74935,
     "sourceType": "datasetVersion"
    }
   ],
   "dockerImageVersionId": 30822,
   "isGpuEnabled": false,
   "isInternetEnabled": true,
   "language": "python",
   "sourceType": "notebook"
  },
  "kernelspec": {
   "display_name": "Python 3",
   "language": "python",
   "name": "python3"
  },
  "language_info": {
   "codemirror_mode": {
    "name": "ipython",
    "version": 3
   },
   "file_extension": ".py",
   "mimetype": "text/x-python",
   "name": "python",
   "nbconvert_exporter": "python",
   "pygments_lexer": "ipython3",
   "version": "3.10.12"
  },
  "papermill": {
   "default_parameters": {},
   "duration": 10.197163,
   "end_time": "2024-12-22T18:49:58.836709",
   "environment_variables": {},
   "exception": null,
   "input_path": "__notebook__.ipynb",
   "output_path": "__notebook__.ipynb",
   "parameters": {},
   "start_time": "2024-12-22T18:49:48.639546",
   "version": "2.6.0"
  }
 },
 "nbformat": 4,
 "nbformat_minor": 5
}
