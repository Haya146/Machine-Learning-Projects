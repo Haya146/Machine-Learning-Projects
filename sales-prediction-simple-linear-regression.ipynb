{
 "cells": [
  {
   "cell_type": "markdown",
   "id": "4c5f0929",
   "metadata": {
    "papermill": {
     "duration": 0.012908,
     "end_time": "2024-11-07T19:42:16.363685",
     "exception": false,
     "start_time": "2024-11-07T19:42:16.350777",
     "status": "completed"
    },
    "tags": []
   },
   "source": [
    "## Reading and understanding the data"
   ]
  },
  {
   "cell_type": "code",
   "execution_count": 1,
   "id": "fe282920",
   "metadata": {
    "execution": {
     "iopub.execute_input": "2024-11-07T19:42:16.384487Z",
     "iopub.status.busy": "2024-11-07T19:42:16.383923Z",
     "iopub.status.idle": "2024-11-07T19:42:19.142760Z",
     "shell.execute_reply": "2024-11-07T19:42:19.141439Z"
    },
    "papermill": {
     "duration": 2.772646,
     "end_time": "2024-11-07T19:42:19.145371",
     "exception": false,
     "start_time": "2024-11-07T19:42:16.372725",
     "status": "completed"
    },
    "tags": []
   },
   "outputs": [],
   "source": [
    "import warnings\n",
    "warnings.filterwarnings('ignore')\n",
    "\n",
    "import numpy as np\n",
    "import pandas as pd \n",
    "\n",
    "import matplotlib.pyplot as plt\n",
    "import seaborn as sns"
   ]
  },
  {
   "cell_type": "code",
   "execution_count": 2,
   "id": "28482b6d",
   "metadata": {
    "execution": {
     "iopub.execute_input": "2024-11-07T19:42:19.164741Z",
     "iopub.status.busy": "2024-11-07T19:42:19.164145Z",
     "iopub.status.idle": "2024-11-07T19:42:19.202827Z",
     "shell.execute_reply": "2024-11-07T19:42:19.201700Z"
    },
    "papermill": {
     "duration": 0.051273,
     "end_time": "2024-11-07T19:42:19.205196",
     "exception": false,
     "start_time": "2024-11-07T19:42:19.153923",
     "status": "completed"
    },
    "tags": []
   },
   "outputs": [
    {
     "data": {
      "text/html": [
       "<div>\n",
       "<style scoped>\n",
       "    .dataframe tbody tr th:only-of-type {\n",
       "        vertical-align: middle;\n",
       "    }\n",
       "\n",
       "    .dataframe tbody tr th {\n",
       "        vertical-align: top;\n",
       "    }\n",
       "\n",
       "    .dataframe thead th {\n",
       "        text-align: right;\n",
       "    }\n",
       "</style>\n",
       "<table border=\"1\" class=\"dataframe\">\n",
       "  <thead>\n",
       "    <tr style=\"text-align: right;\">\n",
       "      <th></th>\n",
       "      <th>TV</th>\n",
       "      <th>Radio</th>\n",
       "      <th>Newspaper</th>\n",
       "      <th>Sales</th>\n",
       "    </tr>\n",
       "  </thead>\n",
       "  <tbody>\n",
       "    <tr>\n",
       "      <th>0</th>\n",
       "      <td>230.1</td>\n",
       "      <td>37.8</td>\n",
       "      <td>69.2</td>\n",
       "      <td>22.1</td>\n",
       "    </tr>\n",
       "    <tr>\n",
       "      <th>1</th>\n",
       "      <td>44.5</td>\n",
       "      <td>39.3</td>\n",
       "      <td>45.1</td>\n",
       "      <td>10.4</td>\n",
       "    </tr>\n",
       "    <tr>\n",
       "      <th>2</th>\n",
       "      <td>17.2</td>\n",
       "      <td>45.9</td>\n",
       "      <td>69.3</td>\n",
       "      <td>12.0</td>\n",
       "    </tr>\n",
       "    <tr>\n",
       "      <th>3</th>\n",
       "      <td>151.5</td>\n",
       "      <td>41.3</td>\n",
       "      <td>58.5</td>\n",
       "      <td>16.5</td>\n",
       "    </tr>\n",
       "    <tr>\n",
       "      <th>4</th>\n",
       "      <td>180.8</td>\n",
       "      <td>10.8</td>\n",
       "      <td>58.4</td>\n",
       "      <td>17.9</td>\n",
       "    </tr>\n",
       "  </tbody>\n",
       "</table>\n",
       "</div>"
      ],
      "text/plain": [
       "      TV  Radio  Newspaper  Sales\n",
       "0  230.1   37.8       69.2   22.1\n",
       "1   44.5   39.3       45.1   10.4\n",
       "2   17.2   45.9       69.3   12.0\n",
       "3  151.5   41.3       58.5   16.5\n",
       "4  180.8   10.8       58.4   17.9"
      ]
     },
     "execution_count": 2,
     "metadata": {},
     "output_type": "execute_result"
    }
   ],
   "source": [
    "df= pd.read_csv('/kaggle/input/advertising-dataset/advertising.csv')\n",
    "df.head()"
   ]
  },
  {
   "cell_type": "code",
   "execution_count": 3,
   "id": "828268c3",
   "metadata": {
    "execution": {
     "iopub.execute_input": "2024-11-07T19:42:19.226010Z",
     "iopub.status.busy": "2024-11-07T19:42:19.224700Z",
     "iopub.status.idle": "2024-11-07T19:42:19.232671Z",
     "shell.execute_reply": "2024-11-07T19:42:19.231487Z"
    },
    "papermill": {
     "duration": 0.020406,
     "end_time": "2024-11-07T19:42:19.235280",
     "exception": false,
     "start_time": "2024-11-07T19:42:19.214874",
     "status": "completed"
    },
    "tags": []
   },
   "outputs": [
    {
     "data": {
      "text/plain": [
       "(200, 4)"
      ]
     },
     "execution_count": 3,
     "metadata": {},
     "output_type": "execute_result"
    }
   ],
   "source": [
    "df.shape"
   ]
  },
  {
   "cell_type": "code",
   "execution_count": 4,
   "id": "59cd78bb",
   "metadata": {
    "execution": {
     "iopub.execute_input": "2024-11-07T19:42:19.255532Z",
     "iopub.status.busy": "2024-11-07T19:42:19.255065Z",
     "iopub.status.idle": "2024-11-07T19:42:19.288275Z",
     "shell.execute_reply": "2024-11-07T19:42:19.286918Z"
    },
    "papermill": {
     "duration": 0.046096,
     "end_time": "2024-11-07T19:42:19.290990",
     "exception": false,
     "start_time": "2024-11-07T19:42:19.244894",
     "status": "completed"
    },
    "tags": []
   },
   "outputs": [
    {
     "name": "stdout",
     "output_type": "stream",
     "text": [
      "<class 'pandas.core.frame.DataFrame'>\n",
      "RangeIndex: 200 entries, 0 to 199\n",
      "Data columns (total 4 columns):\n",
      " #   Column     Non-Null Count  Dtype  \n",
      "---  ------     --------------  -----  \n",
      " 0   TV         200 non-null    float64\n",
      " 1   Radio      200 non-null    float64\n",
      " 2   Newspaper  200 non-null    float64\n",
      " 3   Sales      200 non-null    float64\n",
      "dtypes: float64(4)\n",
      "memory usage: 6.4 KB\n"
     ]
    }
   ],
   "source": [
    "df.info()"
   ]
  },
  {
   "cell_type": "code",
   "execution_count": 5,
   "id": "131ede3e",
   "metadata": {
    "execution": {
     "iopub.execute_input": "2024-11-07T19:42:19.311962Z",
     "iopub.status.busy": "2024-11-07T19:42:19.311539Z",
     "iopub.status.idle": "2024-11-07T19:42:19.337854Z",
     "shell.execute_reply": "2024-11-07T19:42:19.336752Z"
    },
    "papermill": {
     "duration": 0.039655,
     "end_time": "2024-11-07T19:42:19.341119",
     "exception": false,
     "start_time": "2024-11-07T19:42:19.301464",
     "status": "completed"
    },
    "tags": []
   },
   "outputs": [
    {
     "data": {
      "text/html": [
       "<div>\n",
       "<style scoped>\n",
       "    .dataframe tbody tr th:only-of-type {\n",
       "        vertical-align: middle;\n",
       "    }\n",
       "\n",
       "    .dataframe tbody tr th {\n",
       "        vertical-align: top;\n",
       "    }\n",
       "\n",
       "    .dataframe thead th {\n",
       "        text-align: right;\n",
       "    }\n",
       "</style>\n",
       "<table border=\"1\" class=\"dataframe\">\n",
       "  <thead>\n",
       "    <tr style=\"text-align: right;\">\n",
       "      <th></th>\n",
       "      <th>TV</th>\n",
       "      <th>Radio</th>\n",
       "      <th>Newspaper</th>\n",
       "      <th>Sales</th>\n",
       "    </tr>\n",
       "  </thead>\n",
       "  <tbody>\n",
       "    <tr>\n",
       "      <th>count</th>\n",
       "      <td>200.000000</td>\n",
       "      <td>200.000000</td>\n",
       "      <td>200.000000</td>\n",
       "      <td>200.000000</td>\n",
       "    </tr>\n",
       "    <tr>\n",
       "      <th>mean</th>\n",
       "      <td>147.042500</td>\n",
       "      <td>23.264000</td>\n",
       "      <td>30.554000</td>\n",
       "      <td>15.130500</td>\n",
       "    </tr>\n",
       "    <tr>\n",
       "      <th>std</th>\n",
       "      <td>85.854236</td>\n",
       "      <td>14.846809</td>\n",
       "      <td>21.778621</td>\n",
       "      <td>5.283892</td>\n",
       "    </tr>\n",
       "    <tr>\n",
       "      <th>min</th>\n",
       "      <td>0.700000</td>\n",
       "      <td>0.000000</td>\n",
       "      <td>0.300000</td>\n",
       "      <td>1.600000</td>\n",
       "    </tr>\n",
       "    <tr>\n",
       "      <th>25%</th>\n",
       "      <td>74.375000</td>\n",
       "      <td>9.975000</td>\n",
       "      <td>12.750000</td>\n",
       "      <td>11.000000</td>\n",
       "    </tr>\n",
       "    <tr>\n",
       "      <th>50%</th>\n",
       "      <td>149.750000</td>\n",
       "      <td>22.900000</td>\n",
       "      <td>25.750000</td>\n",
       "      <td>16.000000</td>\n",
       "    </tr>\n",
       "    <tr>\n",
       "      <th>75%</th>\n",
       "      <td>218.825000</td>\n",
       "      <td>36.525000</td>\n",
       "      <td>45.100000</td>\n",
       "      <td>19.050000</td>\n",
       "    </tr>\n",
       "    <tr>\n",
       "      <th>max</th>\n",
       "      <td>296.400000</td>\n",
       "      <td>49.600000</td>\n",
       "      <td>114.000000</td>\n",
       "      <td>27.000000</td>\n",
       "    </tr>\n",
       "  </tbody>\n",
       "</table>\n",
       "</div>"
      ],
      "text/plain": [
       "               TV       Radio   Newspaper       Sales\n",
       "count  200.000000  200.000000  200.000000  200.000000\n",
       "mean   147.042500   23.264000   30.554000   15.130500\n",
       "std     85.854236   14.846809   21.778621    5.283892\n",
       "min      0.700000    0.000000    0.300000    1.600000\n",
       "25%     74.375000    9.975000   12.750000   11.000000\n",
       "50%    149.750000   22.900000   25.750000   16.000000\n",
       "75%    218.825000   36.525000   45.100000   19.050000\n",
       "max    296.400000   49.600000  114.000000   27.000000"
      ]
     },
     "execution_count": 5,
     "metadata": {},
     "output_type": "execute_result"
    }
   ],
   "source": [
    "df.describe()"
   ]
  },
  {
   "cell_type": "markdown",
   "id": "00b1d906",
   "metadata": {
    "papermill": {
     "duration": 0.008519,
     "end_time": "2024-11-07T19:42:19.359060",
     "exception": false,
     "start_time": "2024-11-07T19:42:19.350541",
     "status": "completed"
    },
    "tags": []
   },
   "source": [
    "## Data Cleaning"
   ]
  },
  {
   "cell_type": "code",
   "execution_count": 6,
   "id": "71f02b78",
   "metadata": {
    "execution": {
     "iopub.execute_input": "2024-11-07T19:42:19.380241Z",
     "iopub.status.busy": "2024-11-07T19:42:19.379817Z",
     "iopub.status.idle": "2024-11-07T19:42:19.389687Z",
     "shell.execute_reply": "2024-11-07T19:42:19.388538Z"
    },
    "papermill": {
     "duration": 0.02352,
     "end_time": "2024-11-07T19:42:19.392154",
     "exception": false,
     "start_time": "2024-11-07T19:42:19.368634",
     "status": "completed"
    },
    "tags": []
   },
   "outputs": [
    {
     "data": {
      "text/plain": [
       "TV           0\n",
       "Radio        0\n",
       "Newspaper    0\n",
       "Sales        0\n",
       "dtype: int64"
      ]
     },
     "execution_count": 6,
     "metadata": {},
     "output_type": "execute_result"
    }
   ],
   "source": [
    "df.isnull().sum()"
   ]
  },
  {
   "cell_type": "code",
   "execution_count": 7,
   "id": "cf8d00f2",
   "metadata": {
    "execution": {
     "iopub.execute_input": "2024-11-07T19:42:19.412777Z",
     "iopub.status.busy": "2024-11-07T19:42:19.412309Z",
     "iopub.status.idle": "2024-11-07T19:42:19.938675Z",
     "shell.execute_reply": "2024-11-07T19:42:19.937548Z"
    },
    "papermill": {
     "duration": 0.539372,
     "end_time": "2024-11-07T19:42:19.940955",
     "exception": false,
     "start_time": "2024-11-07T19:42:19.401583",
     "status": "completed"
    },
    "tags": []
   },
   "outputs": [
    {
     "data": {
      "image/png": "[encoded data removed]",
      "text/plain": [
       "<Figure size 500x500 with 3 Axes>"
      ]
     },
     "metadata": {},
     "output_type": "display_data"
    }
   ],
   "source": [
    "# Outlier Analysis\n",
    "fig,axs = plt.subplots(1,3, figsize= (5,5))\n",
    "plt1 = sns.boxplot(df['TV'], ax = axs[0])\n",
    "plt2 = sns.boxplot(df['Radio'], ax = axs[1])\n",
    "plt3 = sns.boxplot(df['Newspaper'], ax = axs[2])\n",
    "plt.tight_layout()"
   ]
  },
  {
   "cell_type": "markdown",
   "id": "2b371aa6",
   "metadata": {
    "papermill": {
     "duration": 0.008836,
     "end_time": "2024-11-07T19:42:19.959133",
     "exception": false,
     "start_time": "2024-11-07T19:42:19.950297",
     "status": "completed"
    },
    "tags": []
   },
   "source": [
    "## EDA"
   ]
  },
  {
   "cell_type": "markdown",
   "id": "57fe322e",
   "metadata": {
    "papermill": {
     "duration": 0.009433,
     "end_time": "2024-11-07T19:42:19.978220",
     "exception": false,
     "start_time": "2024-11-07T19:42:19.968787",
     "status": "completed"
    },
    "tags": []
   },
   "source": [
    "Sales(target)"
   ]
  },
  {
   "cell_type": "code",
   "execution_count": 8,
   "id": "568b07b6",
   "metadata": {
    "execution": {
     "iopub.execute_input": "2024-11-07T19:42:19.999360Z",
     "iopub.status.busy": "2024-11-07T19:42:19.998385Z",
     "iopub.status.idle": "2024-11-07T19:42:20.162557Z",
     "shell.execute_reply": "2024-11-07T19:42:20.161433Z"
    },
    "papermill": {
     "duration": 0.177227,
     "end_time": "2024-11-07T19:42:20.165057",
     "exception": false,
     "start_time": "2024-11-07T19:42:19.987830",
     "status": "completed"
    },
    "tags": []
   },
   "outputs": [
    {
     "data": {
      "image/png": "[encoded data removed]",
      "text/plain": [
       "<Figure size 640x480 with 1 Axes>"
      ]
     },
     "metadata": {},
     "output_type": "display_data"
    }
   ],
   "source": [
    "sns.boxplot(df['Sales'])\n",
    "plt.show()"
   ]
  },
  {
   "cell_type": "markdown",
   "id": "893343cf",
   "metadata": {
    "papermill": {
     "duration": 0.009112,
     "end_time": "2024-11-07T19:42:20.183844",
     "exception": false,
     "start_time": "2024-11-07T19:42:20.174732",
     "status": "completed"
    },
    "tags": []
   },
   "source": [
    "### **Let's see how Sales are related with other variables using scatter plot.**"
   ]
  },
  {
   "cell_type": "code",
   "execution_count": 9,
   "id": "4e816492",
   "metadata": {
    "execution": {
     "iopub.execute_input": "2024-11-07T19:42:20.204859Z",
     "iopub.status.busy": "2024-11-07T19:42:20.204445Z",
     "iopub.status.idle": "2024-11-07T19:42:20.953728Z",
     "shell.execute_reply": "2024-11-07T19:42:20.952206Z"
    },
    "papermill": {
     "duration": 0.763065,
     "end_time": "2024-11-07T19:42:20.956765",
     "exception": false,
     "start_time": "2024-11-07T19:42:20.193700",
     "status": "completed"
    },
    "tags": []
   },
   "outputs": [
    {
     "data": {
      "image/png": "[encoded data removed]",
      "text/plain": [
       "<Figure size 1200x400 with 3 Axes>"
      ]
     },
     "metadata": {},
     "output_type": "display_data"
    }
   ],
   "source": [
    "sns.pairplot(df,x_vars=['TV','Newspaper','Radio'], y_vars= 'Sales', height= 4, aspect= 1, kind= 'scatter') \n",
    "plt.show()"
   ]
  },
  {
   "cell_type": "markdown",
   "id": "9e81a4db",
   "metadata": {
    "papermill": {
     "duration": 0.009939,
     "end_time": "2024-11-07T19:42:20.977115",
     "exception": false,
     "start_time": "2024-11-07T19:42:20.967176",
     "status": "completed"
    },
    "tags": []
   },
   "source": [
    "### **Let's see the correlation between different variables***"
   ]
  },
  {
   "cell_type": "code",
   "execution_count": 10,
   "id": "b6b002c5",
   "metadata": {
    "execution": {
     "iopub.execute_input": "2024-11-07T19:42:21.000378Z",
     "iopub.status.busy": "2024-11-07T19:42:20.999553Z",
     "iopub.status.idle": "2024-11-07T19:42:21.290603Z",
     "shell.execute_reply": "2024-11-07T19:42:21.289424Z"
    },
    "papermill": {
     "duration": 0.305002,
     "end_time": "2024-11-07T19:42:21.293121",
     "exception": false,
     "start_time": "2024-11-07T19:42:20.988119",
     "status": "completed"
    },
    "tags": []
   },
   "outputs": [
    {
     "data": {
      "image/png": "[encoded data removed]",
      "text/plain": [
       "<Figure size 640x480 with 2 Axes>"
      ]
     },
     "metadata": {},
     "output_type": "display_data"
    }
   ],
   "source": [
    "sns.heatmap(df.corr(), cmap= \"YlGnBu\", annot= True)\n",
    "plt.show()"
   ]
  },
  {
   "cell_type": "markdown",
   "id": "2599572b",
   "metadata": {
    "papermill": {
     "duration": 0.010175,
     "end_time": "2024-11-07T19:42:21.314292",
     "exception": false,
     "start_time": "2024-11-07T19:42:21.304117",
     "status": "completed"
    },
    "tags": []
   },
   "source": [
    "**As is visible from the pairplot and the heatmap, the variable TV seems to be most correlated with Sales. So let's go ahead and perform simple linear regression using TV as our feature variable.**"
   ]
  },
  {
   "cell_type": "markdown",
   "id": "34fec1a0",
   "metadata": {
    "papermill": {
     "duration": 0.010405,
     "end_time": "2024-11-07T19:42:21.335256",
     "exception": false,
     "start_time": "2024-11-07T19:42:21.324851",
     "status": "completed"
    },
    "tags": []
   },
   "source": [
    "## Model Building"
   ]
  },
  {
   "cell_type": "code",
   "execution_count": 11,
   "id": "4a413f7f",
   "metadata": {
    "execution": {
     "iopub.execute_input": "2024-11-07T19:42:21.358338Z",
     "iopub.status.busy": "2024-11-07T19:42:21.357951Z",
     "iopub.status.idle": "2024-11-07T19:42:21.362848Z",
     "shell.execute_reply": "2024-11-07T19:42:21.361771Z"
    },
    "papermill": {
     "duration": 0.019169,
     "end_time": "2024-11-07T19:42:21.365202",
     "exception": false,
     "start_time": "2024-11-07T19:42:21.346033",
     "status": "completed"
    },
    "tags": []
   },
   "outputs": [],
   "source": [
    "x = df['TV'] \n",
    "y = df['Sales'] "
   ]
  },
  {
   "cell_type": "code",
   "execution_count": 12,
   "id": "87bccf40",
   "metadata": {
    "execution": {
     "iopub.execute_input": "2024-11-07T19:42:21.388170Z",
     "iopub.status.busy": "2024-11-07T19:42:21.387801Z",
     "iopub.status.idle": "2024-11-07T19:42:21.673161Z",
     "shell.execute_reply": "2024-11-07T19:42:21.672203Z"
    },
    "papermill": {
     "duration": 0.300286,
     "end_time": "2024-11-07T19:42:21.676295",
     "exception": false,
     "start_time": "2024-11-07T19:42:21.376009",
     "status": "completed"
    },
    "tags": []
   },
   "outputs": [],
   "source": [
    "from sklearn.model_selection import train_test_split\n",
    "x_train, x_test, y_train, y_test = train_test_split(x,y, train_size= 0.7, test_size= 0.3, random_state= 100)\n"
   ]
  },
  {
   "cell_type": "code",
   "execution_count": 13,
   "id": "7e72e215",
   "metadata": {
    "execution": {
     "iopub.execute_input": "2024-11-07T19:42:21.701043Z",
     "iopub.status.busy": "2024-11-07T19:42:21.700663Z",
     "iopub.status.idle": "2024-11-07T19:42:21.709623Z",
     "shell.execute_reply": "2024-11-07T19:42:21.708424Z"
    },
    "papermill": {
     "duration": 0.023539,
     "end_time": "2024-11-07T19:42:21.711981",
     "exception": false,
     "start_time": "2024-11-07T19:42:21.688442",
     "status": "completed"
    },
    "tags": []
   },
   "outputs": [
    {
     "data": {
      "text/plain": [
       "74     213.4\n",
       "3      151.5\n",
       "185    205.0\n",
       "26     142.9\n",
       "90     134.3\n",
       "Name: TV, dtype: float64"
      ]
     },
     "execution_count": 13,
     "metadata": {},
     "output_type": "execute_result"
    }
   ],
   "source": [
    "x_train.head()"
   ]
  },
  {
   "cell_type": "code",
   "execution_count": 14,
   "id": "e76a3e59",
   "metadata": {
    "execution": {
     "iopub.execute_input": "2024-11-07T19:42:21.736598Z",
     "iopub.status.busy": "2024-11-07T19:42:21.736167Z",
     "iopub.status.idle": "2024-11-07T19:42:21.744736Z",
     "shell.execute_reply": "2024-11-07T19:42:21.743555Z"
    },
    "papermill": {
     "duration": 0.022923,
     "end_time": "2024-11-07T19:42:21.746926",
     "exception": false,
     "start_time": "2024-11-07T19:42:21.724003",
     "status": "completed"
    },
    "tags": []
   },
   "outputs": [
    {
     "data": {
      "text/plain": [
       "74     17.0\n",
       "3      16.5\n",
       "185    22.6\n",
       "26     15.0\n",
       "90     14.0\n",
       "Name: Sales, dtype: float64"
      ]
     },
     "execution_count": 14,
     "metadata": {},
     "output_type": "execute_result"
    }
   ],
   "source": [
    "y_train.head()"
   ]
  },
  {
   "cell_type": "markdown",
   "id": "78ed169b",
   "metadata": {
    "papermill": {
     "duration": 0.011143,
     "end_time": "2024-11-07T19:42:21.769648",
     "exception": false,
     "start_time": "2024-11-07T19:42:21.758505",
     "status": "completed"
    },
    "tags": []
   },
   "source": [
    "### Building a Linear Model"
   ]
  },
  {
   "cell_type": "code",
   "execution_count": 15,
   "id": "d06e05d6",
   "metadata": {
    "execution": {
     "iopub.execute_input": "2024-11-07T19:42:21.793173Z",
     "iopub.status.busy": "2024-11-07T19:42:21.792750Z",
     "iopub.status.idle": "2024-11-07T19:42:23.571632Z",
     "shell.execute_reply": "2024-11-07T19:42:23.570345Z"
    },
    "papermill": {
     "duration": 1.793869,
     "end_time": "2024-11-07T19:42:23.574506",
     "exception": false,
     "start_time": "2024-11-07T19:42:21.780637",
     "status": "completed"
    },
    "tags": []
   },
   "outputs": [],
   "source": [
    "import statsmodels.api as sm"
   ]
  },
  {
   "cell_type": "code",
   "execution_count": 16,
   "id": "da3f3341",
   "metadata": {
    "execution": {
     "iopub.execute_input": "2024-11-07T19:42:23.599447Z",
     "iopub.status.busy": "2024-11-07T19:42:23.598707Z",
     "iopub.status.idle": "2024-11-07T19:42:23.611098Z",
     "shell.execute_reply": "2024-11-07T19:42:23.609884Z"
    },
    "papermill": {
     "duration": 0.027284,
     "end_time": "2024-11-07T19:42:23.613631",
     "exception": false,
     "start_time": "2024-11-07T19:42:23.586347",
     "status": "completed"
    },
    "tags": []
   },
   "outputs": [],
   "source": [
    "# Add a constant to get an intercept \n",
    "x_train_sm = sm.add_constant(x_train)\n",
    "\n",
    "# Fit the regression line using 'OLS'\n",
    "lr = sm.OLS(y_train, x_train_sm).fit()"
   ]
  },
  {
   "cell_type": "code",
   "execution_count": 17,
   "id": "5f207405",
   "metadata": {
    "execution": {
     "iopub.execute_input": "2024-11-07T19:42:23.638891Z",
     "iopub.status.busy": "2024-11-07T19:42:23.638442Z",
     "iopub.status.idle": "2024-11-07T19:42:23.646696Z",
     "shell.execute_reply": "2024-11-07T19:42:23.645586Z"
    },
    "papermill": {
     "duration": 0.023026,
     "end_time": "2024-11-07T19:42:23.648936",
     "exception": false,
     "start_time": "2024-11-07T19:42:23.625910",
     "status": "completed"
    },
    "tags": []
   },
   "outputs": [
    {
     "data": {
      "text/plain": [
       "const    6.948683\n",
       "TV       0.054546\n",
       "dtype: float64"
      ]
     },
     "execution_count": 17,
     "metadata": {},
     "output_type": "execute_result"
    }
   ],
   "source": [
    "# Print the parameters, i.e. the intercept and the slope of the regression line fitted\n",
    "lr.params"
   ]
  },
  {
   "cell_type": "code",
   "execution_count": 18,
   "id": "2f3d7bd5",
   "metadata": {
    "execution": {
     "iopub.execute_input": "2024-11-07T19:42:23.673140Z",
     "iopub.status.busy": "2024-11-07T19:42:23.672733Z",
     "iopub.status.idle": "2024-11-07T19:42:23.692746Z",
     "shell.execute_reply": "2024-11-07T19:42:23.691450Z"
    },
    "papermill": {
     "duration": 0.035168,
     "end_time": "2024-11-07T19:42:23.695404",
     "exception": false,
     "start_time": "2024-11-07T19:42:23.660236",
     "status": "completed"
    },
    "tags": []
   },
   "outputs": [
    {
     "name": "stdout",
     "output_type": "stream",
     "text": [
      "                            OLS Regression Results                            \n",
      "==============================================================================\n",
      "Dep. Variable:                  Sales   R-squared:                       0.816\n",
      "Model:                            OLS   Adj. R-squared:                  0.814\n",
      "Method:                 Least Squares   F-statistic:                     611.2\n",
      "Date:                Thu, 07 Nov 2024   Prob (F-statistic):           1.52e-52\n",
      "Time:                        19:42:23   Log-Likelihood:                -321.12\n",
      "No. Observations:                 140   AIC:                             646.2\n",
      "Df Residuals:                     138   BIC:                             652.1\n",
      "Df Model:                           1                                         \n",
      "Covariance Type:            nonrobust                                         \n",
      "==============================================================================\n",
      "                 coef    std err          t      P>|t|      [0.025      0.975]\n",
      "------------------------------------------------------------------------------\n",
      "const          6.9487      0.385     18.068      0.000       6.188       7.709\n",
      "TV             0.0545      0.002     24.722      0.000       0.050       0.059\n",
      "==============================================================================\n",
      "Omnibus:                        0.027   Durbin-Watson:                   2.196\n",
      "Prob(Omnibus):                  0.987   Jarque-Bera (JB):                0.150\n",
      "Skew:                          -0.006   Prob(JB):                        0.928\n",
      "Kurtosis:                       2.840   Cond. No.                         328.\n",
      "==============================================================================\n",
      "\n",
      "Notes:\n",
      "[1] Standard Errors assume that the covariance matrix of the errors is correctly specified.\n"
     ]
    }
   ],
   "source": [
    "# Performing a summary operation lists out all the different parameters of the regression line fitted\n",
    "print(lr.summary())"
   ]
  },
  {
   "cell_type": "markdown",
   "id": "7d83d279",
   "metadata": {
    "papermill": {
     "duration": 0.011086,
     "end_time": "2024-11-07T19:42:23.719272",
     "exception": false,
     "start_time": "2024-11-07T19:42:23.708186",
     "status": "completed"
    },
    "tags": []
   },
   "source": [
    "**Sales= 6.948 + 0.0545*TV**"
   ]
  },
  {
   "cell_type": "code",
   "execution_count": 19,
   "id": "74b2ccc9",
   "metadata": {
    "execution": {
     "iopub.execute_input": "2024-11-07T19:42:23.744993Z",
     "iopub.status.busy": "2024-11-07T19:42:23.743915Z",
     "iopub.status.idle": "2024-11-07T19:42:23.932725Z",
     "shell.execute_reply": "2024-11-07T19:42:23.931487Z"
    },
    "papermill": {
     "duration": 0.204196,
     "end_time": "2024-11-07T19:42:23.935236",
     "exception": false,
     "start_time": "2024-11-07T19:42:23.731040",
     "status": "completed"
    },
    "tags": []
   },
   "outputs": [
    {
     "data": {
      "image/png": "[encoded data removed]",
      "text/plain": [
       "<Figure size 640x480 with 1 Axes>"
      ]
     },
     "metadata": {},
     "output_type": "display_data"
    }
   ],
   "source": [
    "plt.scatter(x_train, y_train)\n",
    "plt.plot(x_train,6.948 + 0.0545*x_train , 'r')\n",
    "plt.show()"
   ]
  },
  {
   "cell_type": "markdown",
   "id": "c8f8e658",
   "metadata": {
    "papermill": {
     "duration": 0.011333,
     "end_time": "2024-11-07T19:42:23.959236",
     "exception": false,
     "start_time": "2024-11-07T19:42:23.947903",
     "status": "completed"
    },
    "tags": []
   },
   "source": [
    "### Model evaluation "
   ]
  },
  {
   "cell_type": "code",
   "execution_count": 20,
   "id": "5b15f19c",
   "metadata": {
    "execution": {
     "iopub.execute_input": "2024-11-07T19:42:23.984958Z",
     "iopub.status.busy": "2024-11-07T19:42:23.984531Z",
     "iopub.status.idle": "2024-11-07T19:42:23.990885Z",
     "shell.execute_reply": "2024-11-07T19:42:23.989848Z"
    },
    "papermill": {
     "duration": 0.022118,
     "end_time": "2024-11-07T19:42:23.993141",
     "exception": false,
     "start_time": "2024-11-07T19:42:23.971023",
     "status": "completed"
    },
    "tags": []
   },
   "outputs": [],
   "source": [
    "y_train_pred = lr.predict(x_train_sm)\n",
    "res = (y_train - y_train_pred)"
   ]
  },
  {
   "cell_type": "code",
   "execution_count": 21,
   "id": "6208e6b7",
   "metadata": {
    "execution": {
     "iopub.execute_input": "2024-11-07T19:42:24.018313Z",
     "iopub.status.busy": "2024-11-07T19:42:24.017558Z",
     "iopub.status.idle": "2024-11-07T19:42:24.335203Z",
     "shell.execute_reply": "2024-11-07T19:42:24.334132Z"
    },
    "papermill": {
     "duration": 0.333924,
     "end_time": "2024-11-07T19:42:24.338815",
     "exception": false,
     "start_time": "2024-11-07T19:42:24.004891",
     "status": "completed"
    },
    "tags": []
   },
   "outputs": [
    {
     "data": {
      "image/png": "[encoded data removed]",
      "text/plain": [
       "<Figure size 640x480 with 1 Axes>"
      ]
     },
     "metadata": {},
     "output_type": "display_data"
    }
   ],
   "source": [
    "fig = plt.figure()\n",
    "sns.distplot(res, bins = 15)\n",
    "fig.suptitle('Error Terms', fontsize = 15)                  # Plot heading \n",
    "plt.xlabel('y_train - y_train_pred', fontsize = 15)         # X-label\n",
    "plt.show()"
   ]
  },
  {
   "cell_type": "code",
   "execution_count": 22,
   "id": "e29e7343",
   "metadata": {
    "execution": {
     "iopub.execute_input": "2024-11-07T19:42:24.366894Z",
     "iopub.status.busy": "2024-11-07T19:42:24.366445Z",
     "iopub.status.idle": "2024-11-07T19:42:24.559918Z",
     "shell.execute_reply": "2024-11-07T19:42:24.558772Z"
    },
    "papermill": {
     "duration": 0.210713,
     "end_time": "2024-11-07T19:42:24.562355",
     "exception": false,
     "start_time": "2024-11-07T19:42:24.351642",
     "status": "completed"
    },
    "tags": []
   },
   "outputs": [
    {
     "data": {
      "image/png": "[encoded data removed]",
      "text/plain": [
       "<Figure size 640x480 with 1 Axes>"
      ]
     },
     "metadata": {},
     "output_type": "display_data"
    }
   ],
   "source": [
    "plt.scatter(x_train,res)\n",
    "plt.show()"
   ]
  },
  {
   "cell_type": "code",
   "execution_count": 23,
   "id": "b5a322ec",
   "metadata": {
    "execution": {
     "iopub.execute_input": "2024-11-07T19:42:24.591502Z",
     "iopub.status.busy": "2024-11-07T19:42:24.591058Z",
     "iopub.status.idle": "2024-11-07T19:42:24.599011Z",
     "shell.execute_reply": "2024-11-07T19:42:24.597880Z"
    },
    "papermill": {
     "duration": 0.025163,
     "end_time": "2024-11-07T19:42:24.601395",
     "exception": false,
     "start_time": "2024-11-07T19:42:24.576232",
     "status": "completed"
    },
    "tags": []
   },
   "outputs": [],
   "source": [
    "x_test_sm = sm.add_constant(x_test)\n",
    "# predict the y values corresponding to x_test_sm\n",
    "y_pred = lr.predict(x_test_sm)"
   ]
  },
  {
   "cell_type": "code",
   "execution_count": 24,
   "id": "ae7519bb",
   "metadata": {
    "execution": {
     "iopub.execute_input": "2024-11-07T19:42:24.630056Z",
     "iopub.status.busy": "2024-11-07T19:42:24.629659Z",
     "iopub.status.idle": "2024-11-07T19:42:24.637721Z",
     "shell.execute_reply": "2024-11-07T19:42:24.636610Z"
    },
    "papermill": {
     "duration": 0.025282,
     "end_time": "2024-11-07T19:42:24.640256",
     "exception": false,
     "start_time": "2024-11-07T19:42:24.614974",
     "status": "completed"
    },
    "tags": []
   },
   "outputs": [
    {
     "data": {
      "text/plain": [
       "126     7.374140\n",
       "104    19.941482\n",
       "99     14.323269\n",
       "92     18.823294\n",
       "111    20.132392\n",
       "dtype: float64"
      ]
     },
     "execution_count": 24,
     "metadata": {},
     "output_type": "execute_result"
    }
   ],
   "source": [
    "y_pred.head()"
   ]
  },
  {
   "cell_type": "code",
   "execution_count": 25,
   "id": "942ec530",
   "metadata": {
    "execution": {
     "iopub.execute_input": "2024-11-07T19:42:24.669436Z",
     "iopub.status.busy": "2024-11-07T19:42:24.669033Z",
     "iopub.status.idle": "2024-11-07T19:42:24.673948Z",
     "shell.execute_reply": "2024-11-07T19:42:24.672884Z"
    },
    "papermill": {
     "duration": 0.021957,
     "end_time": "2024-11-07T19:42:24.676174",
     "exception": false,
     "start_time": "2024-11-07T19:42:24.654217",
     "status": "completed"
    },
    "tags": []
   },
   "outputs": [],
   "source": [
    "from sklearn.metrics import mean_squared_error\n",
    "from sklearn.metrics import r2_score"
   ]
  },
  {
   "cell_type": "code",
   "execution_count": 26,
   "id": "91f03126",
   "metadata": {
    "execution": {
     "iopub.execute_input": "2024-11-07T19:42:24.703916Z",
     "iopub.status.busy": "2024-11-07T19:42:24.703483Z",
     "iopub.status.idle": "2024-11-07T19:42:24.712192Z",
     "shell.execute_reply": "2024-11-07T19:42:24.711057Z"
    },
    "papermill": {
     "duration": 0.024842,
     "end_time": "2024-11-07T19:42:24.714489",
     "exception": false,
     "start_time": "2024-11-07T19:42:24.689647",
     "status": "completed"
    },
    "tags": []
   },
   "outputs": [
    {
     "data": {
      "text/plain": [
       "2.019296008966232"
      ]
     },
     "execution_count": 26,
     "metadata": {},
     "output_type": "execute_result"
    }
   ],
   "source": [
    "np.sqrt(mean_squared_error(y_test, y_pred))"
   ]
  },
  {
   "cell_type": "code",
   "execution_count": 27,
   "id": "b91f5b53",
   "metadata": {
    "execution": {
     "iopub.execute_input": "2024-11-07T19:42:24.742115Z",
     "iopub.status.busy": "2024-11-07T19:42:24.741169Z",
     "iopub.status.idle": "2024-11-07T19:42:24.749361Z",
     "shell.execute_reply": "2024-11-07T19:42:24.748296Z"
    },
    "papermill": {
     "duration": 0.024506,
     "end_time": "2024-11-07T19:42:24.751767",
     "exception": false,
     "start_time": "2024-11-07T19:42:24.727261",
     "status": "completed"
    },
    "tags": []
   },
   "outputs": [
    {
     "data": {
      "text/plain": [
       "0.792103160124566"
      ]
     },
     "execution_count": 27,
     "metadata": {},
     "output_type": "execute_result"
    }
   ],
   "source": [
    "r2 = r2_score(y_test, y_pred)\n",
    "r2"
   ]
  },
  {
   "cell_type": "code",
   "execution_count": 28,
   "id": "cedd8af7",
   "metadata": {
    "execution": {
     "iopub.execute_input": "2024-11-07T19:42:24.779555Z",
     "iopub.status.busy": "2024-11-07T19:42:24.779106Z",
     "iopub.status.idle": "2024-11-07T19:42:25.017127Z",
     "shell.execute_reply": "2024-11-07T19:42:25.015906Z"
    },
    "papermill": {
     "duration": 0.254624,
     "end_time": "2024-11-07T19:42:25.019659",
     "exception": false,
     "start_time": "2024-11-07T19:42:24.765035",
     "status": "completed"
    },
    "tags": []
   },
   "outputs": [
    {
     "data": {
      "image/png": "[encoded data removed]",
      "text/plain": [
       "<Figure size 640x480 with 1 Axes>"
      ]
     },
     "metadata": {},
     "output_type": "display_data"
    }
   ],
   "source": [
    "plt.scatter(x_test, y_test)\n",
    "plt.plot(x_test, 6.948 + 0.054 * x_test, 'r')\n",
    "plt.show()\n"
   ]
  },
  {
   "cell_type": "code",
   "execution_count": null,
   "id": "02a6f207",
   "metadata": {
    "papermill": {
     "duration": 0.013092,
     "end_time": "2024-11-07T19:42:25.046057",
     "exception": false,
     "start_time": "2024-11-07T19:42:25.032965",
     "status": "completed"
    },
    "tags": []
   },
   "outputs": [],
   "source": []
  }
 ],
 "metadata": {
  "kaggle": {
   "accelerator": "none",
   "dataSources": [
    {
     "datasetId": 133357,
     "sourceId": 317184,
     "sourceType": "datasetVersion"
    }
   ],
   "dockerImageVersionId": 30786,
   "isGpuEnabled": false,
   "isInternetEnabled": false,
   "language": "python",
   "sourceType": "notebook"
  },
  "kernelspec": {
   "display_name": "Python 3",
   "language": "python",
   "name": "python3"
  },
  "language_info": {
   "codemirror_mode": {
    "name": "ipython",
    "version": 3
   },
   "file_extension": ".py",
   "mimetype": "text/x-python",
   "name": "python",
   "nbconvert_exporter": "python",
   "pygments_lexer": "ipython3",
   "version": "3.10.14"
  },
  "papermill": {
   "default_parameters": {},
   "duration": 12.342887,
   "end_time": "2024-11-07T19:42:25.781819",
   "environment_variables": {},
   "exception": null,
   "input_path": "__notebook__.ipynb",
   "output_path": "__notebook__.ipynb",
   "parameters": {},
   "start_time": "2024-11-07T19:42:13.438932",
   "version": "2.6.0"
  }
 },
 "nbformat": 4,
 "nbformat_minor": 5
}
