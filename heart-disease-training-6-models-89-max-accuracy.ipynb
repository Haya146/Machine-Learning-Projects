{
 "cells": [
  {
   "cell_type": "markdown",
   "id": "f53dbd41",
   "metadata": {
    "papermill": {
     "duration": 0.007925,
     "end_time": "2024-12-22T11:13:08.732528",
     "exception": false,
     "start_time": "2024-12-22T11:13:08.724603",
     "status": "completed"
    },
    "tags": []
   },
   "source": [
    "# Importing the relevent libraries"
   ]
  },
  {
   "cell_type": "code",
   "execution_count": 1,
   "id": "c40bca08",
   "metadata": {
    "_cell_guid": "b1076dfc-b9ad-4769-8c92-a6c4dae69d19",
    "_uuid": "8f2839f25d086af736a60e9eeb907d3b93b6e0e5",
    "execution": {
     "iopub.execute_input": "2024-12-22T11:13:08.749437Z",
     "iopub.status.busy": "2024-12-22T11:13:08.749018Z",
     "iopub.status.idle": "2024-12-22T11:13:11.153550Z",
     "shell.execute_reply": "2024-12-22T11:13:11.152401Z"
    },
    "papermill": {
     "duration": 2.414926,
     "end_time": "2024-12-22T11:13:11.156175",
     "exception": false,
     "start_time": "2024-12-22T11:13:08.741249",
     "status": "completed"
    },
    "tags": []
   },
   "outputs": [],
   "source": [
    "import numpy as np \n",
    "import pandas as pd \n",
    "import matplotlib.pyplot as plt\n",
    "import seaborn as sns \n",
    "sns.set()\n",
    "\n"
   ]
  },
  {
   "cell_type": "markdown",
   "id": "40fe4a5c",
   "metadata": {
    "papermill": {
     "duration": 0.00646,
     "end_time": "2024-12-22T11:13:11.170194",
     "exception": false,
     "start_time": "2024-12-22T11:13:11.163734",
     "status": "completed"
    },
    "tags": []
   },
   "source": [
    "# Explore and Understand the Data "
   ]
  },
  {
   "cell_type": "code",
   "execution_count": 2,
   "id": "88e9e4bf",
   "metadata": {
    "execution": {
     "iopub.execute_input": "2024-12-22T11:13:11.186527Z",
     "iopub.status.busy": "2024-12-22T11:13:11.185957Z",
     "iopub.status.idle": "2024-12-22T11:13:11.242857Z",
     "shell.execute_reply": "2024-12-22T11:13:11.241667Z"
    },
    "papermill": {
     "duration": 0.066575,
     "end_time": "2024-12-22T11:13:11.244782",
     "exception": false,
     "start_time": "2024-12-22T11:13:11.178207",
     "status": "completed"
    },
    "tags": []
   },
   "outputs": [
    {
     "data": {
      "text/html": [
       "<div>\n",
       "<style scoped>\n",
       "    .dataframe tbody tr th:only-of-type {\n",
       "        vertical-align: middle;\n",
       "    }\n",
       "\n",
       "    .dataframe tbody tr th {\n",
       "        vertical-align: top;\n",
       "    }\n",
       "\n",
       "    .dataframe thead th {\n",
       "        text-align: right;\n",
       "    }\n",
       "</style>\n",
       "<table border=\"1\" class=\"dataframe\">\n",
       "  <thead>\n",
       "    <tr style=\"text-align: right;\">\n",
       "      <th></th>\n",
       "      <th>Age</th>\n",
       "      <th>Sex</th>\n",
       "      <th>ChestPainType</th>\n",
       "      <th>RestingBP</th>\n",
       "      <th>Cholesterol</th>\n",
       "      <th>FastingBS</th>\n",
       "      <th>RestingECG</th>\n",
       "      <th>MaxHR</th>\n",
       "      <th>ExerciseAngina</th>\n",
       "      <th>Oldpeak</th>\n",
       "      <th>ST_Slope</th>\n",
       "      <th>HeartDisease</th>\n",
       "    </tr>\n",
       "  </thead>\n",
       "  <tbody>\n",
       "    <tr>\n",
       "      <th>0</th>\n",
       "      <td>40</td>\n",
       "      <td>M</td>\n",
       "      <td>ATA</td>\n",
       "      <td>140</td>\n",
       "      <td>289</td>\n",
       "      <td>0</td>\n",
       "      <td>Normal</td>\n",
       "      <td>172</td>\n",
       "      <td>N</td>\n",
       "      <td>0.0</td>\n",
       "      <td>Up</td>\n",
       "      <td>0</td>\n",
       "    </tr>\n",
       "    <tr>\n",
       "      <th>1</th>\n",
       "      <td>49</td>\n",
       "      <td>F</td>\n",
       "      <td>NAP</td>\n",
       "      <td>160</td>\n",
       "      <td>180</td>\n",
       "      <td>0</td>\n",
       "      <td>Normal</td>\n",
       "      <td>156</td>\n",
       "      <td>N</td>\n",
       "      <td>1.0</td>\n",
       "      <td>Flat</td>\n",
       "      <td>1</td>\n",
       "    </tr>\n",
       "    <tr>\n",
       "      <th>2</th>\n",
       "      <td>37</td>\n",
       "      <td>M</td>\n",
       "      <td>ATA</td>\n",
       "      <td>130</td>\n",
       "      <td>283</td>\n",
       "      <td>0</td>\n",
       "      <td>ST</td>\n",
       "      <td>98</td>\n",
       "      <td>N</td>\n",
       "      <td>0.0</td>\n",
       "      <td>Up</td>\n",
       "      <td>0</td>\n",
       "    </tr>\n",
       "    <tr>\n",
       "      <th>3</th>\n",
       "      <td>48</td>\n",
       "      <td>F</td>\n",
       "      <td>ASY</td>\n",
       "      <td>138</td>\n",
       "      <td>214</td>\n",
       "      <td>0</td>\n",
       "      <td>Normal</td>\n",
       "      <td>108</td>\n",
       "      <td>Y</td>\n",
       "      <td>1.5</td>\n",
       "      <td>Flat</td>\n",
       "      <td>1</td>\n",
       "    </tr>\n",
       "    <tr>\n",
       "      <th>4</th>\n",
       "      <td>54</td>\n",
       "      <td>M</td>\n",
       "      <td>NAP</td>\n",
       "      <td>150</td>\n",
       "      <td>195</td>\n",
       "      <td>0</td>\n",
       "      <td>Normal</td>\n",
       "      <td>122</td>\n",
       "      <td>N</td>\n",
       "      <td>0.0</td>\n",
       "      <td>Up</td>\n",
       "      <td>0</td>\n",
       "    </tr>\n",
       "  </tbody>\n",
       "</table>\n",
       "</div>"
      ],
      "text/plain": [
       "   Age Sex ChestPainType  RestingBP  Cholesterol  FastingBS RestingECG  MaxHR  \\\n",
       "0   40   M           ATA        140          289          0     Normal    172   \n",
       "1   49   F           NAP        160          180          0     Normal    156   \n",
       "2   37   M           ATA        130          283          0         ST     98   \n",
       "3   48   F           ASY        138          214          0     Normal    108   \n",
       "4   54   M           NAP        150          195          0     Normal    122   \n",
       "\n",
       "  ExerciseAngina  Oldpeak ST_Slope  HeartDisease  \n",
       "0              N      0.0       Up             0  \n",
       "1              N      1.0     Flat             1  \n",
       "2              N      0.0       Up             0  \n",
       "3              Y      1.5     Flat             1  \n",
       "4              N      0.0       Up             0  "
      ]
     },
     "execution_count": 2,
     "metadata": {},
     "output_type": "execute_result"
    }
   ],
   "source": [
    "data = pd.read_csv(\"/kaggle/input/heart-disease/heart.csv\")\n",
    "data.head()"
   ]
  },
  {
   "cell_type": "code",
   "execution_count": 3,
   "id": "176383d8",
   "metadata": {
    "execution": {
     "iopub.execute_input": "2024-12-22T11:13:11.261490Z",
     "iopub.status.busy": "2024-12-22T11:13:11.261087Z",
     "iopub.status.idle": "2024-12-22T11:13:11.275414Z",
     "shell.execute_reply": "2024-12-22T11:13:11.274188Z"
    },
    "papermill": {
     "duration": 0.024604,
     "end_time": "2024-12-22T11:13:11.277268",
     "exception": false,
     "start_time": "2024-12-22T11:13:11.252664",
     "status": "completed"
    },
    "tags": []
   },
   "outputs": [
    {
     "data": {
      "text/html": [
       "<div>\n",
       "<style scoped>\n",
       "    .dataframe tbody tr th:only-of-type {\n",
       "        vertical-align: middle;\n",
       "    }\n",
       "\n",
       "    .dataframe tbody tr th {\n",
       "        vertical-align: top;\n",
       "    }\n",
       "\n",
       "    .dataframe thead th {\n",
       "        text-align: right;\n",
       "    }\n",
       "</style>\n",
       "<table border=\"1\" class=\"dataframe\">\n",
       "  <thead>\n",
       "    <tr style=\"text-align: right;\">\n",
       "      <th></th>\n",
       "      <th>Age</th>\n",
       "      <th>Sex</th>\n",
       "      <th>ChestPainType</th>\n",
       "      <th>RestingBP</th>\n",
       "      <th>Cholesterol</th>\n",
       "      <th>FastingBS</th>\n",
       "      <th>RestingECG</th>\n",
       "      <th>MaxHR</th>\n",
       "      <th>ExerciseAngina</th>\n",
       "      <th>Oldpeak</th>\n",
       "      <th>ST_Slope</th>\n",
       "      <th>HeartDisease</th>\n",
       "    </tr>\n",
       "  </thead>\n",
       "  <tbody>\n",
       "    <tr>\n",
       "      <th>913</th>\n",
       "      <td>45</td>\n",
       "      <td>M</td>\n",
       "      <td>TA</td>\n",
       "      <td>110</td>\n",
       "      <td>264</td>\n",
       "      <td>0</td>\n",
       "      <td>Normal</td>\n",
       "      <td>132</td>\n",
       "      <td>N</td>\n",
       "      <td>1.2</td>\n",
       "      <td>Flat</td>\n",
       "      <td>1</td>\n",
       "    </tr>\n",
       "    <tr>\n",
       "      <th>914</th>\n",
       "      <td>68</td>\n",
       "      <td>M</td>\n",
       "      <td>ASY</td>\n",
       "      <td>144</td>\n",
       "      <td>193</td>\n",
       "      <td>1</td>\n",
       "      <td>Normal</td>\n",
       "      <td>141</td>\n",
       "      <td>N</td>\n",
       "      <td>3.4</td>\n",
       "      <td>Flat</td>\n",
       "      <td>1</td>\n",
       "    </tr>\n",
       "    <tr>\n",
       "      <th>915</th>\n",
       "      <td>57</td>\n",
       "      <td>M</td>\n",
       "      <td>ASY</td>\n",
       "      <td>130</td>\n",
       "      <td>131</td>\n",
       "      <td>0</td>\n",
       "      <td>Normal</td>\n",
       "      <td>115</td>\n",
       "      <td>Y</td>\n",
       "      <td>1.2</td>\n",
       "      <td>Flat</td>\n",
       "      <td>1</td>\n",
       "    </tr>\n",
       "    <tr>\n",
       "      <th>916</th>\n",
       "      <td>57</td>\n",
       "      <td>F</td>\n",
       "      <td>ATA</td>\n",
       "      <td>130</td>\n",
       "      <td>236</td>\n",
       "      <td>0</td>\n",
       "      <td>LVH</td>\n",
       "      <td>174</td>\n",
       "      <td>N</td>\n",
       "      <td>0.0</td>\n",
       "      <td>Flat</td>\n",
       "      <td>1</td>\n",
       "    </tr>\n",
       "    <tr>\n",
       "      <th>917</th>\n",
       "      <td>38</td>\n",
       "      <td>M</td>\n",
       "      <td>NAP</td>\n",
       "      <td>138</td>\n",
       "      <td>175</td>\n",
       "      <td>0</td>\n",
       "      <td>Normal</td>\n",
       "      <td>173</td>\n",
       "      <td>N</td>\n",
       "      <td>0.0</td>\n",
       "      <td>Up</td>\n",
       "      <td>0</td>\n",
       "    </tr>\n",
       "  </tbody>\n",
       "</table>\n",
       "</div>"
      ],
      "text/plain": [
       "     Age Sex ChestPainType  RestingBP  Cholesterol  FastingBS RestingECG  \\\n",
       "913   45   M            TA        110          264          0     Normal   \n",
       "914   68   M           ASY        144          193          1     Normal   \n",
       "915   57   M           ASY        130          131          0     Normal   \n",
       "916   57   F           ATA        130          236          0        LVH   \n",
       "917   38   M           NAP        138          175          0     Normal   \n",
       "\n",
       "     MaxHR ExerciseAngina  Oldpeak ST_Slope  HeartDisease  \n",
       "913    132              N      1.2     Flat             1  \n",
       "914    141              N      3.4     Flat             1  \n",
       "915    115              Y      1.2     Flat             1  \n",
       "916    174              N      0.0     Flat             1  \n",
       "917    173              N      0.0       Up             0  "
      ]
     },
     "execution_count": 3,
     "metadata": {},
     "output_type": "execute_result"
    }
   ],
   "source": [
    "data.tail()"
   ]
  },
  {
   "cell_type": "code",
   "execution_count": 4,
   "id": "e69125a6",
   "metadata": {
    "execution": {
     "iopub.execute_input": "2024-12-22T11:13:11.293843Z",
     "iopub.status.busy": "2024-12-22T11:13:11.293463Z",
     "iopub.status.idle": "2024-12-22T11:13:11.299183Z",
     "shell.execute_reply": "2024-12-22T11:13:11.298181Z"
    },
    "papermill": {
     "duration": 0.016045,
     "end_time": "2024-12-22T11:13:11.300857",
     "exception": false,
     "start_time": "2024-12-22T11:13:11.284812",
     "status": "completed"
    },
    "tags": []
   },
   "outputs": [
    {
     "data": {
      "text/plain": [
       "(918, 12)"
      ]
     },
     "execution_count": 4,
     "metadata": {},
     "output_type": "execute_result"
    }
   ],
   "source": [
    "data.shape"
   ]
  },
  {
   "cell_type": "code",
   "execution_count": 5,
   "id": "54ec4e9a",
   "metadata": {
    "execution": {
     "iopub.execute_input": "2024-12-22T11:13:11.317199Z",
     "iopub.status.busy": "2024-12-22T11:13:11.316828Z",
     "iopub.status.idle": "2024-12-22T11:13:11.349811Z",
     "shell.execute_reply": "2024-12-22T11:13:11.348598Z"
    },
    "papermill": {
     "duration": 0.04317,
     "end_time": "2024-12-22T11:13:11.351768",
     "exception": false,
     "start_time": "2024-12-22T11:13:11.308598",
     "status": "completed"
    },
    "tags": []
   },
   "outputs": [
    {
     "name": "stdout",
     "output_type": "stream",
     "text": [
      "<class 'pandas.core.frame.DataFrame'>\n",
      "RangeIndex: 918 entries, 0 to 917\n",
      "Data columns (total 12 columns):\n",
      " #   Column          Non-Null Count  Dtype  \n",
      "---  ------          --------------  -----  \n",
      " 0   Age             918 non-null    int64  \n",
      " 1   Sex             918 non-null    object \n",
      " 2   ChestPainType   918 non-null    object \n",
      " 3   RestingBP       918 non-null    int64  \n",
      " 4   Cholesterol     918 non-null    int64  \n",
      " 5   FastingBS       918 non-null    int64  \n",
      " 6   RestingECG      918 non-null    object \n",
      " 7   MaxHR           918 non-null    int64  \n",
      " 8   ExerciseAngina  918 non-null    object \n",
      " 9   Oldpeak         918 non-null    float64\n",
      " 10  ST_Slope        918 non-null    object \n",
      " 11  HeartDisease    918 non-null    int64  \n",
      "dtypes: float64(1), int64(6), object(5)\n",
      "memory usage: 86.2+ KB\n"
     ]
    }
   ],
   "source": [
    "data.info()"
   ]
  },
  {
   "cell_type": "code",
   "execution_count": 6,
   "id": "4356d50c",
   "metadata": {
    "execution": {
     "iopub.execute_input": "2024-12-22T11:13:11.369511Z",
     "iopub.status.busy": "2024-12-22T11:13:11.369122Z",
     "iopub.status.idle": "2024-12-22T11:13:11.396822Z",
     "shell.execute_reply": "2024-12-22T11:13:11.395808Z"
    },
    "papermill": {
     "duration": 0.038808,
     "end_time": "2024-12-22T11:13:11.398542",
     "exception": false,
     "start_time": "2024-12-22T11:13:11.359734",
     "status": "completed"
    },
    "tags": []
   },
   "outputs": [
    {
     "data": {
      "text/html": [
       "<div>\n",
       "<style scoped>\n",
       "    .dataframe tbody tr th:only-of-type {\n",
       "        vertical-align: middle;\n",
       "    }\n",
       "\n",
       "    .dataframe tbody tr th {\n",
       "        vertical-align: top;\n",
       "    }\n",
       "\n",
       "    .dataframe thead th {\n",
       "        text-align: right;\n",
       "    }\n",
       "</style>\n",
       "<table border=\"1\" class=\"dataframe\">\n",
       "  <thead>\n",
       "    <tr style=\"text-align: right;\">\n",
       "      <th></th>\n",
       "      <th>Age</th>\n",
       "      <th>RestingBP</th>\n",
       "      <th>Cholesterol</th>\n",
       "      <th>FastingBS</th>\n",
       "      <th>MaxHR</th>\n",
       "      <th>Oldpeak</th>\n",
       "      <th>HeartDisease</th>\n",
       "    </tr>\n",
       "  </thead>\n",
       "  <tbody>\n",
       "    <tr>\n",
       "      <th>count</th>\n",
       "      <td>918.000000</td>\n",
       "      <td>918.000000</td>\n",
       "      <td>918.000000</td>\n",
       "      <td>918.000000</td>\n",
       "      <td>918.000000</td>\n",
       "      <td>918.000000</td>\n",
       "      <td>918.000000</td>\n",
       "    </tr>\n",
       "    <tr>\n",
       "      <th>mean</th>\n",
       "      <td>53.510893</td>\n",
       "      <td>132.396514</td>\n",
       "      <td>198.799564</td>\n",
       "      <td>0.233115</td>\n",
       "      <td>136.809368</td>\n",
       "      <td>0.887364</td>\n",
       "      <td>0.553377</td>\n",
       "    </tr>\n",
       "    <tr>\n",
       "      <th>std</th>\n",
       "      <td>9.432617</td>\n",
       "      <td>18.514154</td>\n",
       "      <td>109.384145</td>\n",
       "      <td>0.423046</td>\n",
       "      <td>25.460334</td>\n",
       "      <td>1.066570</td>\n",
       "      <td>0.497414</td>\n",
       "    </tr>\n",
       "    <tr>\n",
       "      <th>min</th>\n",
       "      <td>28.000000</td>\n",
       "      <td>0.000000</td>\n",
       "      <td>0.000000</td>\n",
       "      <td>0.000000</td>\n",
       "      <td>60.000000</td>\n",
       "      <td>-2.600000</td>\n",
       "      <td>0.000000</td>\n",
       "    </tr>\n",
       "    <tr>\n",
       "      <th>25%</th>\n",
       "      <td>47.000000</td>\n",
       "      <td>120.000000</td>\n",
       "      <td>173.250000</td>\n",
       "      <td>0.000000</td>\n",
       "      <td>120.000000</td>\n",
       "      <td>0.000000</td>\n",
       "      <td>0.000000</td>\n",
       "    </tr>\n",
       "    <tr>\n",
       "      <th>50%</th>\n",
       "      <td>54.000000</td>\n",
       "      <td>130.000000</td>\n",
       "      <td>223.000000</td>\n",
       "      <td>0.000000</td>\n",
       "      <td>138.000000</td>\n",
       "      <td>0.600000</td>\n",
       "      <td>1.000000</td>\n",
       "    </tr>\n",
       "    <tr>\n",
       "      <th>75%</th>\n",
       "      <td>60.000000</td>\n",
       "      <td>140.000000</td>\n",
       "      <td>267.000000</td>\n",
       "      <td>0.000000</td>\n",
       "      <td>156.000000</td>\n",
       "      <td>1.500000</td>\n",
       "      <td>1.000000</td>\n",
       "    </tr>\n",
       "    <tr>\n",
       "      <th>max</th>\n",
       "      <td>77.000000</td>\n",
       "      <td>200.000000</td>\n",
       "      <td>603.000000</td>\n",
       "      <td>1.000000</td>\n",
       "      <td>202.000000</td>\n",
       "      <td>6.200000</td>\n",
       "      <td>1.000000</td>\n",
       "    </tr>\n",
       "  </tbody>\n",
       "</table>\n",
       "</div>"
      ],
      "text/plain": [
       "              Age   RestingBP  Cholesterol   FastingBS       MaxHR  \\\n",
       "count  918.000000  918.000000   918.000000  918.000000  918.000000   \n",
       "mean    53.510893  132.396514   198.799564    0.233115  136.809368   \n",
       "std      9.432617   18.514154   109.384145    0.423046   25.460334   \n",
       "min     28.000000    0.000000     0.000000    0.000000   60.000000   \n",
       "25%     47.000000  120.000000   173.250000    0.000000  120.000000   \n",
       "50%     54.000000  130.000000   223.000000    0.000000  138.000000   \n",
       "75%     60.000000  140.000000   267.000000    0.000000  156.000000   \n",
       "max     77.000000  200.000000   603.000000    1.000000  202.000000   \n",
       "\n",
       "          Oldpeak  HeartDisease  \n",
       "count  918.000000    918.000000  \n",
       "mean     0.887364      0.553377  \n",
       "std      1.066570      0.497414  \n",
       "min     -2.600000      0.000000  \n",
       "25%      0.000000      0.000000  \n",
       "50%      0.600000      1.000000  \n",
       "75%      1.500000      1.000000  \n",
       "max      6.200000      1.000000  "
      ]
     },
     "execution_count": 6,
     "metadata": {},
     "output_type": "execute_result"
    }
   ],
   "source": [
    "data.describe()"
   ]
  },
  {
   "cell_type": "code",
   "execution_count": 7,
   "id": "fa26ec65",
   "metadata": {
    "execution": {
     "iopub.execute_input": "2024-12-22T11:13:11.415200Z",
     "iopub.status.busy": "2024-12-22T11:13:11.414874Z",
     "iopub.status.idle": "2024-12-22T11:13:12.110236Z",
     "shell.execute_reply": "2024-12-22T11:13:12.108811Z"
    },
    "papermill": {
     "duration": 0.70596,
     "end_time": "2024-12-22T11:13:12.112373",
     "exception": false,
     "start_time": "2024-12-22T11:13:11.406413",
     "status": "completed"
    },
    "tags": []
   },
   "outputs": [
    {
     "data": {
      "text/plain": [
       "<Axes: >"
      ]
     },
     "execution_count": 7,
     "metadata": {},
     "output_type": "execute_result"
    },
    {
     "data": {
      "image/png": "[encoded data removed]",
      "text/plain": [
       "<Figure size 640x480 with 2 Axes>"
      ]
     },
     "metadata": {},
     "output_type": "display_data"
    }
   ],
   "source": [
    "sns.heatmap(data.isnull())"
   ]
  },
  {
   "cell_type": "code",
   "execution_count": 8,
   "id": "045226fb",
   "metadata": {
    "execution": {
     "iopub.execute_input": "2024-12-22T11:13:12.132530Z",
     "iopub.status.busy": "2024-12-22T11:13:12.132130Z",
     "iopub.status.idle": "2024-12-22T11:13:12.140282Z",
     "shell.execute_reply": "2024-12-22T11:13:12.139166Z"
    },
    "papermill": {
     "duration": 0.019715,
     "end_time": "2024-12-22T11:13:12.141953",
     "exception": false,
     "start_time": "2024-12-22T11:13:12.122238",
     "status": "completed"
    },
    "tags": []
   },
   "outputs": [
    {
     "data": {
      "text/plain": [
       "Age               0\n",
       "Sex               0\n",
       "ChestPainType     0\n",
       "RestingBP         0\n",
       "Cholesterol       0\n",
       "FastingBS         0\n",
       "RestingECG        0\n",
       "MaxHR             0\n",
       "ExerciseAngina    0\n",
       "Oldpeak           0\n",
       "ST_Slope          0\n",
       "HeartDisease      0\n",
       "dtype: int64"
      ]
     },
     "execution_count": 8,
     "metadata": {},
     "output_type": "execute_result"
    }
   ],
   "source": [
    "data.isnull().sum()"
   ]
  },
  {
   "cell_type": "code",
   "execution_count": 9,
   "id": "cc28ed3b",
   "metadata": {
    "execution": {
     "iopub.execute_input": "2024-12-22T11:13:12.163367Z",
     "iopub.status.busy": "2024-12-22T11:13:12.162921Z",
     "iopub.status.idle": "2024-12-22T11:13:12.174358Z",
     "shell.execute_reply": "2024-12-22T11:13:12.173090Z"
    },
    "papermill": {
     "duration": 0.024459,
     "end_time": "2024-12-22T11:13:12.176213",
     "exception": false,
     "start_time": "2024-12-22T11:13:12.151754",
     "status": "completed"
    },
    "tags": []
   },
   "outputs": [
    {
     "data": {
      "text/plain": [
       "0"
      ]
     },
     "execution_count": 9,
     "metadata": {},
     "output_type": "execute_result"
    }
   ],
   "source": [
    "data.duplicated().sum()"
   ]
  },
  {
   "cell_type": "markdown",
   "id": "51935d12",
   "metadata": {
    "papermill": {
     "duration": 0.009179,
     "end_time": "2024-12-22T11:13:12.195263",
     "exception": false,
     "start_time": "2024-12-22T11:13:12.186084",
     "status": "completed"
    },
    "tags": []
   },
   "source": [
    "# Analyze the Data"
   ]
  },
  {
   "cell_type": "code",
   "execution_count": 10,
   "id": "53ca0982",
   "metadata": {
    "execution": {
     "iopub.execute_input": "2024-12-22T11:13:12.216208Z",
     "iopub.status.busy": "2024-12-22T11:13:12.215793Z",
     "iopub.status.idle": "2024-12-22T11:13:12.228055Z",
     "shell.execute_reply": "2024-12-22T11:13:12.226539Z"
    },
    "papermill": {
     "duration": 0.025115,
     "end_time": "2024-12-22T11:13:12.229981",
     "exception": false,
     "start_time": "2024-12-22T11:13:12.204866",
     "status": "completed"
    },
    "tags": []
   },
   "outputs": [
    {
     "data": {
      "text/plain": [
       "HeartDisease\n",
       "1    508\n",
       "0    410\n",
       "Name: count, dtype: int64"
      ]
     },
     "execution_count": 10,
     "metadata": {},
     "output_type": "execute_result"
    }
   ],
   "source": [
    "data['HeartDisease'].value_counts()"
   ]
  },
  {
   "cell_type": "code",
   "execution_count": 11,
   "id": "0aca4a3f",
   "metadata": {
    "execution": {
     "iopub.execute_input": "2024-12-22T11:13:12.250488Z",
     "iopub.status.busy": "2024-12-22T11:13:12.250033Z",
     "iopub.status.idle": "2024-12-22T11:13:14.112116Z",
     "shell.execute_reply": "2024-12-22T11:13:14.110939Z"
    },
    "papermill": {
     "duration": 1.874727,
     "end_time": "2024-12-22T11:13:14.114266",
     "exception": false,
     "start_time": "2024-12-22T11:13:12.239539",
     "status": "completed"
    },
    "tags": []
   },
   "outputs": [
    {
     "data": {
      "image/png": "[encoded data removed]",
      "text/plain": [
       "<Figure size 2000x1500 with 9 Axes>"
      ]
     },
     "metadata": {},
     "output_type": "display_data"
    }
   ],
   "source": [
    "data.hist(figsize=(20,15))\n",
    "plt.show()"
   ]
  },
  {
   "cell_type": "code",
   "execution_count": 12,
   "id": "c8a47ee1",
   "metadata": {
    "execution": {
     "iopub.execute_input": "2024-12-22T11:13:14.140657Z",
     "iopub.status.busy": "2024-12-22T11:13:14.140156Z",
     "iopub.status.idle": "2024-12-22T11:13:14.150595Z",
     "shell.execute_reply": "2024-12-22T11:13:14.149396Z"
    },
    "papermill": {
     "duration": 0.025154,
     "end_time": "2024-12-22T11:13:14.152599",
     "exception": false,
     "start_time": "2024-12-22T11:13:14.127445",
     "status": "completed"
    },
    "tags": []
   },
   "outputs": [],
   "source": [
    "cor = data.select_dtypes(include='number').corr()\n"
   ]
  },
  {
   "cell_type": "code",
   "execution_count": 13,
   "id": "b1f0443a",
   "metadata": {
    "execution": {
     "iopub.execute_input": "2024-12-22T11:13:14.176036Z",
     "iopub.status.busy": "2024-12-22T11:13:14.175705Z",
     "iopub.status.idle": "2024-12-22T11:13:14.749752Z",
     "shell.execute_reply": "2024-12-22T11:13:14.748448Z"
    },
    "papermill": {
     "duration": 0.587382,
     "end_time": "2024-12-22T11:13:14.751425",
     "exception": false,
     "start_time": "2024-12-22T11:13:14.164043",
     "status": "completed"
    },
    "tags": []
   },
   "outputs": [
    {
     "data": {
      "text/plain": [
       "<Axes: >"
      ]
     },
     "execution_count": 13,
     "metadata": {},
     "output_type": "execute_result"
    },
    {
     "data": {
      "image/png": "[encoded data removed]",
      "text/plain": [
       "<Figure size 640x480 with 2 Axes>"
      ]
     },
     "metadata": {},
     "output_type": "display_data"
    }
   ],
   "source": [
    "sns.heatmap( cor,annot= True , fmt = '.1f', linewidth = .5)"
   ]
  },
  {
   "cell_type": "markdown",
   "id": "16dea07d",
   "metadata": {
    "papermill": {
     "duration": 0.012924,
     "end_time": "2024-12-22T11:13:14.777072",
     "exception": false,
     "start_time": "2024-12-22T11:13:14.764148",
     "status": "completed"
    },
    "tags": []
   },
   "source": [
    "# Preprocessing the Data "
   ]
  },
  {
   "cell_type": "code",
   "execution_count": 14,
   "id": "4de35cd8",
   "metadata": {
    "execution": {
     "iopub.execute_input": "2024-12-22T11:13:14.805279Z",
     "iopub.status.busy": "2024-12-22T11:13:14.804889Z",
     "iopub.status.idle": "2024-12-22T11:13:15.052343Z",
     "shell.execute_reply": "2024-12-22T11:13:15.050839Z"
    },
    "papermill": {
     "duration": 0.265024,
     "end_time": "2024-12-22T11:13:15.054943",
     "exception": false,
     "start_time": "2024-12-22T11:13:14.789919",
     "status": "completed"
    },
    "tags": []
   },
   "outputs": [],
   "source": [
    "from sklearn.preprocessing import LabelEncoder\n",
    "encoder = LabelEncoder()"
   ]
  },
  {
   "cell_type": "code",
   "execution_count": 15,
   "id": "458efe5b",
   "metadata": {
    "execution": {
     "iopub.execute_input": "2024-12-22T11:13:15.089612Z",
     "iopub.status.busy": "2024-12-22T11:13:15.089020Z",
     "iopub.status.idle": "2024-12-22T11:13:15.097940Z",
     "shell.execute_reply": "2024-12-22T11:13:15.096180Z"
    },
    "papermill": {
     "duration": 0.031048,
     "end_time": "2024-12-22T11:13:15.100856",
     "exception": false,
     "start_time": "2024-12-22T11:13:15.069808",
     "status": "completed"
    },
    "tags": []
   },
   "outputs": [],
   "source": [
    "obj = data.select_dtypes(include = 'object')\n",
    "non_obj = data.select_dtypes(exclude = 'object')"
   ]
  },
  {
   "cell_type": "code",
   "execution_count": 16,
   "id": "bad67911",
   "metadata": {
    "execution": {
     "iopub.execute_input": "2024-12-22T11:13:15.135479Z",
     "iopub.status.busy": "2024-12-22T11:13:15.135063Z",
     "iopub.status.idle": "2024-12-22T11:13:15.151861Z",
     "shell.execute_reply": "2024-12-22T11:13:15.150525Z"
    },
    "papermill": {
     "duration": 0.037111,
     "end_time": "2024-12-22T11:13:15.153578",
     "exception": false,
     "start_time": "2024-12-22T11:13:15.116467",
     "status": "completed"
    },
    "tags": []
   },
   "outputs": [
    {
     "data": {
      "text/html": [
       "<div>\n",
       "<style scoped>\n",
       "    .dataframe tbody tr th:only-of-type {\n",
       "        vertical-align: middle;\n",
       "    }\n",
       "\n",
       "    .dataframe tbody tr th {\n",
       "        vertical-align: top;\n",
       "    }\n",
       "\n",
       "    .dataframe thead th {\n",
       "        text-align: right;\n",
       "    }\n",
       "</style>\n",
       "<table border=\"1\" class=\"dataframe\">\n",
       "  <thead>\n",
       "    <tr style=\"text-align: right;\">\n",
       "      <th></th>\n",
       "      <th>Sex</th>\n",
       "      <th>ChestPainType</th>\n",
       "      <th>RestingECG</th>\n",
       "      <th>ExerciseAngina</th>\n",
       "      <th>ST_Slope</th>\n",
       "    </tr>\n",
       "  </thead>\n",
       "  <tbody>\n",
       "    <tr>\n",
       "      <th>0</th>\n",
       "      <td>M</td>\n",
       "      <td>ATA</td>\n",
       "      <td>Normal</td>\n",
       "      <td>N</td>\n",
       "      <td>Up</td>\n",
       "    </tr>\n",
       "    <tr>\n",
       "      <th>1</th>\n",
       "      <td>F</td>\n",
       "      <td>NAP</td>\n",
       "      <td>Normal</td>\n",
       "      <td>N</td>\n",
       "      <td>Flat</td>\n",
       "    </tr>\n",
       "    <tr>\n",
       "      <th>2</th>\n",
       "      <td>M</td>\n",
       "      <td>ATA</td>\n",
       "      <td>ST</td>\n",
       "      <td>N</td>\n",
       "      <td>Up</td>\n",
       "    </tr>\n",
       "    <tr>\n",
       "      <th>3</th>\n",
       "      <td>F</td>\n",
       "      <td>ASY</td>\n",
       "      <td>Normal</td>\n",
       "      <td>Y</td>\n",
       "      <td>Flat</td>\n",
       "    </tr>\n",
       "    <tr>\n",
       "      <th>4</th>\n",
       "      <td>M</td>\n",
       "      <td>NAP</td>\n",
       "      <td>Normal</td>\n",
       "      <td>N</td>\n",
       "      <td>Up</td>\n",
       "    </tr>\n",
       "    <tr>\n",
       "      <th>...</th>\n",
       "      <td>...</td>\n",
       "      <td>...</td>\n",
       "      <td>...</td>\n",
       "      <td>...</td>\n",
       "      <td>...</td>\n",
       "    </tr>\n",
       "    <tr>\n",
       "      <th>913</th>\n",
       "      <td>M</td>\n",
       "      <td>TA</td>\n",
       "      <td>Normal</td>\n",
       "      <td>N</td>\n",
       "      <td>Flat</td>\n",
       "    </tr>\n",
       "    <tr>\n",
       "      <th>914</th>\n",
       "      <td>M</td>\n",
       "      <td>ASY</td>\n",
       "      <td>Normal</td>\n",
       "      <td>N</td>\n",
       "      <td>Flat</td>\n",
       "    </tr>\n",
       "    <tr>\n",
       "      <th>915</th>\n",
       "      <td>M</td>\n",
       "      <td>ASY</td>\n",
       "      <td>Normal</td>\n",
       "      <td>Y</td>\n",
       "      <td>Flat</td>\n",
       "    </tr>\n",
       "    <tr>\n",
       "      <th>916</th>\n",
       "      <td>F</td>\n",
       "      <td>ATA</td>\n",
       "      <td>LVH</td>\n",
       "      <td>N</td>\n",
       "      <td>Flat</td>\n",
       "    </tr>\n",
       "    <tr>\n",
       "      <th>917</th>\n",
       "      <td>M</td>\n",
       "      <td>NAP</td>\n",
       "      <td>Normal</td>\n",
       "      <td>N</td>\n",
       "      <td>Up</td>\n",
       "    </tr>\n",
       "  </tbody>\n",
       "</table>\n",
       "<p>918 rows × 5 columns</p>\n",
       "</div>"
      ],
      "text/plain": [
       "    Sex ChestPainType RestingECG ExerciseAngina ST_Slope\n",
       "0     M           ATA     Normal              N       Up\n",
       "1     F           NAP     Normal              N     Flat\n",
       "2     M           ATA         ST              N       Up\n",
       "3     F           ASY     Normal              Y     Flat\n",
       "4     M           NAP     Normal              N       Up\n",
       "..   ..           ...        ...            ...      ...\n",
       "913   M            TA     Normal              N     Flat\n",
       "914   M           ASY     Normal              N     Flat\n",
       "915   M           ASY     Normal              Y     Flat\n",
       "916   F           ATA        LVH              N     Flat\n",
       "917   M           NAP     Normal              N       Up\n",
       "\n",
       "[918 rows x 5 columns]"
      ]
     },
     "execution_count": 16,
     "metadata": {},
     "output_type": "execute_result"
    }
   ],
   "source": [
    "obj"
   ]
  },
  {
   "cell_type": "code",
   "execution_count": 17,
   "id": "f5f68b75",
   "metadata": {
    "execution": {
     "iopub.execute_input": "2024-12-22T11:13:15.181385Z",
     "iopub.status.busy": "2024-12-22T11:13:15.181017Z",
     "iopub.status.idle": "2024-12-22T11:13:15.188832Z",
     "shell.execute_reply": "2024-12-22T11:13:15.187814Z"
    },
    "papermill": {
     "duration": 0.02384,
     "end_time": "2024-12-22T11:13:15.190563",
     "exception": false,
     "start_time": "2024-12-22T11:13:15.166723",
     "status": "completed"
    },
    "tags": []
   },
   "outputs": [],
   "source": [
    "for i in range(0, obj.shape[1]):\n",
    "    obj.iloc[:,i]= encoder.fit_transform(obj.iloc[:,i])"
   ]
  },
  {
   "cell_type": "code",
   "execution_count": 18,
   "id": "188a68a3",
   "metadata": {
    "execution": {
     "iopub.execute_input": "2024-12-22T11:13:15.224749Z",
     "iopub.status.busy": "2024-12-22T11:13:15.224166Z",
     "iopub.status.idle": "2024-12-22T11:13:15.241468Z",
     "shell.execute_reply": "2024-12-22T11:13:15.240075Z"
    },
    "papermill": {
     "duration": 0.038848,
     "end_time": "2024-12-22T11:13:15.243514",
     "exception": false,
     "start_time": "2024-12-22T11:13:15.204666",
     "status": "completed"
    },
    "tags": []
   },
   "outputs": [
    {
     "data": {
      "text/html": [
       "<div>\n",
       "<style scoped>\n",
       "    .dataframe tbody tr th:only-of-type {\n",
       "        vertical-align: middle;\n",
       "    }\n",
       "\n",
       "    .dataframe tbody tr th {\n",
       "        vertical-align: top;\n",
       "    }\n",
       "\n",
       "    .dataframe thead th {\n",
       "        text-align: right;\n",
       "    }\n",
       "</style>\n",
       "<table border=\"1\" class=\"dataframe\">\n",
       "  <thead>\n",
       "    <tr style=\"text-align: right;\">\n",
       "      <th></th>\n",
       "      <th>Sex</th>\n",
       "      <th>ChestPainType</th>\n",
       "      <th>RestingECG</th>\n",
       "      <th>ExerciseAngina</th>\n",
       "      <th>ST_Slope</th>\n",
       "    </tr>\n",
       "  </thead>\n",
       "  <tbody>\n",
       "    <tr>\n",
       "      <th>0</th>\n",
       "      <td>1</td>\n",
       "      <td>1</td>\n",
       "      <td>1</td>\n",
       "      <td>0</td>\n",
       "      <td>2</td>\n",
       "    </tr>\n",
       "    <tr>\n",
       "      <th>1</th>\n",
       "      <td>0</td>\n",
       "      <td>2</td>\n",
       "      <td>1</td>\n",
       "      <td>0</td>\n",
       "      <td>1</td>\n",
       "    </tr>\n",
       "    <tr>\n",
       "      <th>2</th>\n",
       "      <td>1</td>\n",
       "      <td>1</td>\n",
       "      <td>2</td>\n",
       "      <td>0</td>\n",
       "      <td>2</td>\n",
       "    </tr>\n",
       "    <tr>\n",
       "      <th>3</th>\n",
       "      <td>0</td>\n",
       "      <td>0</td>\n",
       "      <td>1</td>\n",
       "      <td>1</td>\n",
       "      <td>1</td>\n",
       "    </tr>\n",
       "    <tr>\n",
       "      <th>4</th>\n",
       "      <td>1</td>\n",
       "      <td>2</td>\n",
       "      <td>1</td>\n",
       "      <td>0</td>\n",
       "      <td>2</td>\n",
       "    </tr>\n",
       "    <tr>\n",
       "      <th>...</th>\n",
       "      <td>...</td>\n",
       "      <td>...</td>\n",
       "      <td>...</td>\n",
       "      <td>...</td>\n",
       "      <td>...</td>\n",
       "    </tr>\n",
       "    <tr>\n",
       "      <th>913</th>\n",
       "      <td>1</td>\n",
       "      <td>3</td>\n",
       "      <td>1</td>\n",
       "      <td>0</td>\n",
       "      <td>1</td>\n",
       "    </tr>\n",
       "    <tr>\n",
       "      <th>914</th>\n",
       "      <td>1</td>\n",
       "      <td>0</td>\n",
       "      <td>1</td>\n",
       "      <td>0</td>\n",
       "      <td>1</td>\n",
       "    </tr>\n",
       "    <tr>\n",
       "      <th>915</th>\n",
       "      <td>1</td>\n",
       "      <td>0</td>\n",
       "      <td>1</td>\n",
       "      <td>1</td>\n",
       "      <td>1</td>\n",
       "    </tr>\n",
       "    <tr>\n",
       "      <th>916</th>\n",
       "      <td>0</td>\n",
       "      <td>1</td>\n",
       "      <td>0</td>\n",
       "      <td>0</td>\n",
       "      <td>1</td>\n",
       "    </tr>\n",
       "    <tr>\n",
       "      <th>917</th>\n",
       "      <td>1</td>\n",
       "      <td>2</td>\n",
       "      <td>1</td>\n",
       "      <td>0</td>\n",
       "      <td>2</td>\n",
       "    </tr>\n",
       "  </tbody>\n",
       "</table>\n",
       "<p>918 rows × 5 columns</p>\n",
       "</div>"
      ],
      "text/plain": [
       "    Sex ChestPainType RestingECG ExerciseAngina ST_Slope\n",
       "0     1             1          1              0        2\n",
       "1     0             2          1              0        1\n",
       "2     1             1          2              0        2\n",
       "3     0             0          1              1        1\n",
       "4     1             2          1              0        2\n",
       "..   ..           ...        ...            ...      ...\n",
       "913   1             3          1              0        1\n",
       "914   1             0          1              0        1\n",
       "915   1             0          1              1        1\n",
       "916   0             1          0              0        1\n",
       "917   1             2          1              0        2\n",
       "\n",
       "[918 rows x 5 columns]"
      ]
     },
     "execution_count": 18,
     "metadata": {},
     "output_type": "execute_result"
    }
   ],
   "source": [
    "obj"
   ]
  },
  {
   "cell_type": "code",
   "execution_count": 19,
   "id": "5c3327f0",
   "metadata": {
    "execution": {
     "iopub.execute_input": "2024-12-22T11:13:15.277713Z",
     "iopub.status.busy": "2024-12-22T11:13:15.277282Z",
     "iopub.status.idle": "2024-12-22T11:13:15.282858Z",
     "shell.execute_reply": "2024-12-22T11:13:15.281819Z"
    },
    "papermill": {
     "duration": 0.022778,
     "end_time": "2024-12-22T11:13:15.284564",
     "exception": false,
     "start_time": "2024-12-22T11:13:15.261786",
     "status": "completed"
    },
    "tags": []
   },
   "outputs": [],
   "source": [
    "final_data = pd.concat([obj, non_obj], axis= 1)"
   ]
  },
  {
   "cell_type": "code",
   "execution_count": 20,
   "id": "449f7b52",
   "metadata": {
    "execution": {
     "iopub.execute_input": "2024-12-22T11:13:15.313464Z",
     "iopub.status.busy": "2024-12-22T11:13:15.313045Z",
     "iopub.status.idle": "2024-12-22T11:13:15.330681Z",
     "shell.execute_reply": "2024-12-22T11:13:15.329546Z"
    },
    "papermill": {
     "duration": 0.033454,
     "end_time": "2024-12-22T11:13:15.332338",
     "exception": false,
     "start_time": "2024-12-22T11:13:15.298884",
     "status": "completed"
    },
    "tags": []
   },
   "outputs": [
    {
     "data": {
      "text/html": [
       "<div>\n",
       "<style scoped>\n",
       "    .dataframe tbody tr th:only-of-type {\n",
       "        vertical-align: middle;\n",
       "    }\n",
       "\n",
       "    .dataframe tbody tr th {\n",
       "        vertical-align: top;\n",
       "    }\n",
       "\n",
       "    .dataframe thead th {\n",
       "        text-align: right;\n",
       "    }\n",
       "</style>\n",
       "<table border=\"1\" class=\"dataframe\">\n",
       "  <thead>\n",
       "    <tr style=\"text-align: right;\">\n",
       "      <th></th>\n",
       "      <th>Age</th>\n",
       "      <th>Sex</th>\n",
       "      <th>ChestPainType</th>\n",
       "      <th>RestingBP</th>\n",
       "      <th>Cholesterol</th>\n",
       "      <th>FastingBS</th>\n",
       "      <th>RestingECG</th>\n",
       "      <th>MaxHR</th>\n",
       "      <th>ExerciseAngina</th>\n",
       "      <th>Oldpeak</th>\n",
       "      <th>ST_Slope</th>\n",
       "      <th>HeartDisease</th>\n",
       "    </tr>\n",
       "  </thead>\n",
       "  <tbody>\n",
       "    <tr>\n",
       "      <th>0</th>\n",
       "      <td>40</td>\n",
       "      <td>M</td>\n",
       "      <td>ATA</td>\n",
       "      <td>140</td>\n",
       "      <td>289</td>\n",
       "      <td>0</td>\n",
       "      <td>Normal</td>\n",
       "      <td>172</td>\n",
       "      <td>N</td>\n",
       "      <td>0.0</td>\n",
       "      <td>Up</td>\n",
       "      <td>0</td>\n",
       "    </tr>\n",
       "    <tr>\n",
       "      <th>1</th>\n",
       "      <td>49</td>\n",
       "      <td>F</td>\n",
       "      <td>NAP</td>\n",
       "      <td>160</td>\n",
       "      <td>180</td>\n",
       "      <td>0</td>\n",
       "      <td>Normal</td>\n",
       "      <td>156</td>\n",
       "      <td>N</td>\n",
       "      <td>1.0</td>\n",
       "      <td>Flat</td>\n",
       "      <td>1</td>\n",
       "    </tr>\n",
       "    <tr>\n",
       "      <th>2</th>\n",
       "      <td>37</td>\n",
       "      <td>M</td>\n",
       "      <td>ATA</td>\n",
       "      <td>130</td>\n",
       "      <td>283</td>\n",
       "      <td>0</td>\n",
       "      <td>ST</td>\n",
       "      <td>98</td>\n",
       "      <td>N</td>\n",
       "      <td>0.0</td>\n",
       "      <td>Up</td>\n",
       "      <td>0</td>\n",
       "    </tr>\n",
       "    <tr>\n",
       "      <th>3</th>\n",
       "      <td>48</td>\n",
       "      <td>F</td>\n",
       "      <td>ASY</td>\n",
       "      <td>138</td>\n",
       "      <td>214</td>\n",
       "      <td>0</td>\n",
       "      <td>Normal</td>\n",
       "      <td>108</td>\n",
       "      <td>Y</td>\n",
       "      <td>1.5</td>\n",
       "      <td>Flat</td>\n",
       "      <td>1</td>\n",
       "    </tr>\n",
       "    <tr>\n",
       "      <th>4</th>\n",
       "      <td>54</td>\n",
       "      <td>M</td>\n",
       "      <td>NAP</td>\n",
       "      <td>150</td>\n",
       "      <td>195</td>\n",
       "      <td>0</td>\n",
       "      <td>Normal</td>\n",
       "      <td>122</td>\n",
       "      <td>N</td>\n",
       "      <td>0.0</td>\n",
       "      <td>Up</td>\n",
       "      <td>0</td>\n",
       "    </tr>\n",
       "    <tr>\n",
       "      <th>...</th>\n",
       "      <td>...</td>\n",
       "      <td>...</td>\n",
       "      <td>...</td>\n",
       "      <td>...</td>\n",
       "      <td>...</td>\n",
       "      <td>...</td>\n",
       "      <td>...</td>\n",
       "      <td>...</td>\n",
       "      <td>...</td>\n",
       "      <td>...</td>\n",
       "      <td>...</td>\n",
       "      <td>...</td>\n",
       "    </tr>\n",
       "    <tr>\n",
       "      <th>913</th>\n",
       "      <td>45</td>\n",
       "      <td>M</td>\n",
       "      <td>TA</td>\n",
       "      <td>110</td>\n",
       "      <td>264</td>\n",
       "      <td>0</td>\n",
       "      <td>Normal</td>\n",
       "      <td>132</td>\n",
       "      <td>N</td>\n",
       "      <td>1.2</td>\n",
       "      <td>Flat</td>\n",
       "      <td>1</td>\n",
       "    </tr>\n",
       "    <tr>\n",
       "      <th>914</th>\n",
       "      <td>68</td>\n",
       "      <td>M</td>\n",
       "      <td>ASY</td>\n",
       "      <td>144</td>\n",
       "      <td>193</td>\n",
       "      <td>1</td>\n",
       "      <td>Normal</td>\n",
       "      <td>141</td>\n",
       "      <td>N</td>\n",
       "      <td>3.4</td>\n",
       "      <td>Flat</td>\n",
       "      <td>1</td>\n",
       "    </tr>\n",
       "    <tr>\n",
       "      <th>915</th>\n",
       "      <td>57</td>\n",
       "      <td>M</td>\n",
       "      <td>ASY</td>\n",
       "      <td>130</td>\n",
       "      <td>131</td>\n",
       "      <td>0</td>\n",
       "      <td>Normal</td>\n",
       "      <td>115</td>\n",
       "      <td>Y</td>\n",
       "      <td>1.2</td>\n",
       "      <td>Flat</td>\n",
       "      <td>1</td>\n",
       "    </tr>\n",
       "    <tr>\n",
       "      <th>916</th>\n",
       "      <td>57</td>\n",
       "      <td>F</td>\n",
       "      <td>ATA</td>\n",
       "      <td>130</td>\n",
       "      <td>236</td>\n",
       "      <td>0</td>\n",
       "      <td>LVH</td>\n",
       "      <td>174</td>\n",
       "      <td>N</td>\n",
       "      <td>0.0</td>\n",
       "      <td>Flat</td>\n",
       "      <td>1</td>\n",
       "    </tr>\n",
       "    <tr>\n",
       "      <th>917</th>\n",
       "      <td>38</td>\n",
       "      <td>M</td>\n",
       "      <td>NAP</td>\n",
       "      <td>138</td>\n",
       "      <td>175</td>\n",
       "      <td>0</td>\n",
       "      <td>Normal</td>\n",
       "      <td>173</td>\n",
       "      <td>N</td>\n",
       "      <td>0.0</td>\n",
       "      <td>Up</td>\n",
       "      <td>0</td>\n",
       "    </tr>\n",
       "  </tbody>\n",
       "</table>\n",
       "<p>918 rows × 12 columns</p>\n",
       "</div>"
      ],
      "text/plain": [
       "     Age Sex ChestPainType  RestingBP  Cholesterol  FastingBS RestingECG  \\\n",
       "0     40   M           ATA        140          289          0     Normal   \n",
       "1     49   F           NAP        160          180          0     Normal   \n",
       "2     37   M           ATA        130          283          0         ST   \n",
       "3     48   F           ASY        138          214          0     Normal   \n",
       "4     54   M           NAP        150          195          0     Normal   \n",
       "..   ...  ..           ...        ...          ...        ...        ...   \n",
       "913   45   M            TA        110          264          0     Normal   \n",
       "914   68   M           ASY        144          193          1     Normal   \n",
       "915   57   M           ASY        130          131          0     Normal   \n",
       "916   57   F           ATA        130          236          0        LVH   \n",
       "917   38   M           NAP        138          175          0     Normal   \n",
       "\n",
       "     MaxHR ExerciseAngina  Oldpeak ST_Slope  HeartDisease  \n",
       "0      172              N      0.0       Up             0  \n",
       "1      156              N      1.0     Flat             1  \n",
       "2       98              N      0.0       Up             0  \n",
       "3      108              Y      1.5     Flat             1  \n",
       "4      122              N      0.0       Up             0  \n",
       "..     ...            ...      ...      ...           ...  \n",
       "913    132              N      1.2     Flat             1  \n",
       "914    141              N      3.4     Flat             1  \n",
       "915    115              Y      1.2     Flat             1  \n",
       "916    174              N      0.0     Flat             1  \n",
       "917    173              N      0.0       Up             0  \n",
       "\n",
       "[918 rows x 12 columns]"
      ]
     },
     "execution_count": 20,
     "metadata": {},
     "output_type": "execute_result"
    }
   ],
   "source": [
    "data"
   ]
  },
  {
   "cell_type": "code",
   "execution_count": 21,
   "id": "2a4f50a9",
   "metadata": {
    "execution": {
     "iopub.execute_input": "2024-12-22T11:13:15.362808Z",
     "iopub.status.busy": "2024-12-22T11:13:15.362461Z",
     "iopub.status.idle": "2024-12-22T11:13:15.378885Z",
     "shell.execute_reply": "2024-12-22T11:13:15.377335Z"
    },
    "papermill": {
     "duration": 0.034593,
     "end_time": "2024-12-22T11:13:15.380678",
     "exception": false,
     "start_time": "2024-12-22T11:13:15.346085",
     "status": "completed"
    },
    "tags": []
   },
   "outputs": [
    {
     "data": {
      "text/html": [
       "<div>\n",
       "<style scoped>\n",
       "    .dataframe tbody tr th:only-of-type {\n",
       "        vertical-align: middle;\n",
       "    }\n",
       "\n",
       "    .dataframe tbody tr th {\n",
       "        vertical-align: top;\n",
       "    }\n",
       "\n",
       "    .dataframe thead th {\n",
       "        text-align: right;\n",
       "    }\n",
       "</style>\n",
       "<table border=\"1\" class=\"dataframe\">\n",
       "  <thead>\n",
       "    <tr style=\"text-align: right;\">\n",
       "      <th></th>\n",
       "      <th>Sex</th>\n",
       "      <th>ChestPainType</th>\n",
       "      <th>RestingECG</th>\n",
       "      <th>ExerciseAngina</th>\n",
       "      <th>ST_Slope</th>\n",
       "      <th>Age</th>\n",
       "      <th>RestingBP</th>\n",
       "      <th>Cholesterol</th>\n",
       "      <th>FastingBS</th>\n",
       "      <th>MaxHR</th>\n",
       "      <th>Oldpeak</th>\n",
       "      <th>HeartDisease</th>\n",
       "    </tr>\n",
       "  </thead>\n",
       "  <tbody>\n",
       "    <tr>\n",
       "      <th>0</th>\n",
       "      <td>1</td>\n",
       "      <td>1</td>\n",
       "      <td>1</td>\n",
       "      <td>0</td>\n",
       "      <td>2</td>\n",
       "      <td>40</td>\n",
       "      <td>140</td>\n",
       "      <td>289</td>\n",
       "      <td>0</td>\n",
       "      <td>172</td>\n",
       "      <td>0.0</td>\n",
       "      <td>0</td>\n",
       "    </tr>\n",
       "    <tr>\n",
       "      <th>1</th>\n",
       "      <td>0</td>\n",
       "      <td>2</td>\n",
       "      <td>1</td>\n",
       "      <td>0</td>\n",
       "      <td>1</td>\n",
       "      <td>49</td>\n",
       "      <td>160</td>\n",
       "      <td>180</td>\n",
       "      <td>0</td>\n",
       "      <td>156</td>\n",
       "      <td>1.0</td>\n",
       "      <td>1</td>\n",
       "    </tr>\n",
       "    <tr>\n",
       "      <th>2</th>\n",
       "      <td>1</td>\n",
       "      <td>1</td>\n",
       "      <td>2</td>\n",
       "      <td>0</td>\n",
       "      <td>2</td>\n",
       "      <td>37</td>\n",
       "      <td>130</td>\n",
       "      <td>283</td>\n",
       "      <td>0</td>\n",
       "      <td>98</td>\n",
       "      <td>0.0</td>\n",
       "      <td>0</td>\n",
       "    </tr>\n",
       "    <tr>\n",
       "      <th>3</th>\n",
       "      <td>0</td>\n",
       "      <td>0</td>\n",
       "      <td>1</td>\n",
       "      <td>1</td>\n",
       "      <td>1</td>\n",
       "      <td>48</td>\n",
       "      <td>138</td>\n",
       "      <td>214</td>\n",
       "      <td>0</td>\n",
       "      <td>108</td>\n",
       "      <td>1.5</td>\n",
       "      <td>1</td>\n",
       "    </tr>\n",
       "    <tr>\n",
       "      <th>4</th>\n",
       "      <td>1</td>\n",
       "      <td>2</td>\n",
       "      <td>1</td>\n",
       "      <td>0</td>\n",
       "      <td>2</td>\n",
       "      <td>54</td>\n",
       "      <td>150</td>\n",
       "      <td>195</td>\n",
       "      <td>0</td>\n",
       "      <td>122</td>\n",
       "      <td>0.0</td>\n",
       "      <td>0</td>\n",
       "    </tr>\n",
       "    <tr>\n",
       "      <th>...</th>\n",
       "      <td>...</td>\n",
       "      <td>...</td>\n",
       "      <td>...</td>\n",
       "      <td>...</td>\n",
       "      <td>...</td>\n",
       "      <td>...</td>\n",
       "      <td>...</td>\n",
       "      <td>...</td>\n",
       "      <td>...</td>\n",
       "      <td>...</td>\n",
       "      <td>...</td>\n",
       "      <td>...</td>\n",
       "    </tr>\n",
       "    <tr>\n",
       "      <th>913</th>\n",
       "      <td>1</td>\n",
       "      <td>3</td>\n",
       "      <td>1</td>\n",
       "      <td>0</td>\n",
       "      <td>1</td>\n",
       "      <td>45</td>\n",
       "      <td>110</td>\n",
       "      <td>264</td>\n",
       "      <td>0</td>\n",
       "      <td>132</td>\n",
       "      <td>1.2</td>\n",
       "      <td>1</td>\n",
       "    </tr>\n",
       "    <tr>\n",
       "      <th>914</th>\n",
       "      <td>1</td>\n",
       "      <td>0</td>\n",
       "      <td>1</td>\n",
       "      <td>0</td>\n",
       "      <td>1</td>\n",
       "      <td>68</td>\n",
       "      <td>144</td>\n",
       "      <td>193</td>\n",
       "      <td>1</td>\n",
       "      <td>141</td>\n",
       "      <td>3.4</td>\n",
       "      <td>1</td>\n",
       "    </tr>\n",
       "    <tr>\n",
       "      <th>915</th>\n",
       "      <td>1</td>\n",
       "      <td>0</td>\n",
       "      <td>1</td>\n",
       "      <td>1</td>\n",
       "      <td>1</td>\n",
       "      <td>57</td>\n",
       "      <td>130</td>\n",
       "      <td>131</td>\n",
       "      <td>0</td>\n",
       "      <td>115</td>\n",
       "      <td>1.2</td>\n",
       "      <td>1</td>\n",
       "    </tr>\n",
       "    <tr>\n",
       "      <th>916</th>\n",
       "      <td>0</td>\n",
       "      <td>1</td>\n",
       "      <td>0</td>\n",
       "      <td>0</td>\n",
       "      <td>1</td>\n",
       "      <td>57</td>\n",
       "      <td>130</td>\n",
       "      <td>236</td>\n",
       "      <td>0</td>\n",
       "      <td>174</td>\n",
       "      <td>0.0</td>\n",
       "      <td>1</td>\n",
       "    </tr>\n",
       "    <tr>\n",
       "      <th>917</th>\n",
       "      <td>1</td>\n",
       "      <td>2</td>\n",
       "      <td>1</td>\n",
       "      <td>0</td>\n",
       "      <td>2</td>\n",
       "      <td>38</td>\n",
       "      <td>138</td>\n",
       "      <td>175</td>\n",
       "      <td>0</td>\n",
       "      <td>173</td>\n",
       "      <td>0.0</td>\n",
       "      <td>0</td>\n",
       "    </tr>\n",
       "  </tbody>\n",
       "</table>\n",
       "<p>918 rows × 12 columns</p>\n",
       "</div>"
      ],
      "text/plain": [
       "    Sex ChestPainType RestingECG ExerciseAngina ST_Slope  Age  RestingBP  \\\n",
       "0     1             1          1              0        2   40        140   \n",
       "1     0             2          1              0        1   49        160   \n",
       "2     1             1          2              0        2   37        130   \n",
       "3     0             0          1              1        1   48        138   \n",
       "4     1             2          1              0        2   54        150   \n",
       "..   ..           ...        ...            ...      ...  ...        ...   \n",
       "913   1             3          1              0        1   45        110   \n",
       "914   1             0          1              0        1   68        144   \n",
       "915   1             0          1              1        1   57        130   \n",
       "916   0             1          0              0        1   57        130   \n",
       "917   1             2          1              0        2   38        138   \n",
       "\n",
       "     Cholesterol  FastingBS  MaxHR  Oldpeak  HeartDisease  \n",
       "0            289          0    172      0.0             0  \n",
       "1            180          0    156      1.0             1  \n",
       "2            283          0     98      0.0             0  \n",
       "3            214          0    108      1.5             1  \n",
       "4            195          0    122      0.0             0  \n",
       "..           ...        ...    ...      ...           ...  \n",
       "913          264          0    132      1.2             1  \n",
       "914          193          1    141      3.4             1  \n",
       "915          131          0    115      1.2             1  \n",
       "916          236          0    174      0.0             1  \n",
       "917          175          0    173      0.0             0  \n",
       "\n",
       "[918 rows x 12 columns]"
      ]
     },
     "execution_count": 21,
     "metadata": {},
     "output_type": "execute_result"
    }
   ],
   "source": [
    "final_data"
   ]
  },
  {
   "cell_type": "markdown",
   "id": "54f3a326",
   "metadata": {
    "papermill": {
     "duration": 0.013405,
     "end_time": "2024-12-22T11:13:15.407756",
     "exception": false,
     "start_time": "2024-12-22T11:13:15.394351",
     "status": "completed"
    },
    "tags": []
   },
   "source": [
    "# Prediction Model\n"
   ]
  },
  {
   "cell_type": "code",
   "execution_count": 22,
   "id": "6e99c61f",
   "metadata": {
    "execution": {
     "iopub.execute_input": "2024-12-22T11:13:15.437100Z",
     "iopub.status.busy": "2024-12-22T11:13:15.436716Z",
     "iopub.status.idle": "2024-12-22T11:13:16.215352Z",
     "shell.execute_reply": "2024-12-22T11:13:16.214426Z"
    },
    "papermill": {
     "duration": 0.795883,
     "end_time": "2024-12-22T11:13:16.217464",
     "exception": false,
     "start_time": "2024-12-22T11:13:15.421581",
     "status": "completed"
    },
    "tags": []
   },
   "outputs": [],
   "source": [
    "from sklearn.model_selection import train_test_split\n",
    "\n",
    "from sklearn.neighbors import KNeighborsClassifier\n",
    "from sklearn.tree import DecisionTreeClassifier\n",
    "from sklearn.naive_bayes import GaussianNB \n",
    "from sklearn.svm import SVC\n",
    "from sklearn.ensemble import RandomForestClassifier, GradientBoostingClassifier\n",
    "\n",
    "from sklearn.metrics import confusion_matrix\n",
    "from sklearn.metrics import classification_report"
   ]
  },
  {
   "cell_type": "code",
   "execution_count": 23,
   "id": "1102c6c7",
   "metadata": {
    "execution": {
     "iopub.execute_input": "2024-12-22T11:13:16.247156Z",
     "iopub.status.busy": "2024-12-22T11:13:16.246818Z",
     "iopub.status.idle": "2024-12-22T11:13:16.253622Z",
     "shell.execute_reply": "2024-12-22T11:13:16.252128Z"
    },
    "papermill": {
     "duration": 0.023375,
     "end_time": "2024-12-22T11:13:16.255529",
     "exception": false,
     "start_time": "2024-12-22T11:13:16.232154",
     "status": "completed"
    },
    "tags": []
   },
   "outputs": [],
   "source": [
    "x = final_data.drop(['HeartDisease'], axis=1)\n",
    "y = final_data['HeartDisease'] "
   ]
  },
  {
   "cell_type": "code",
   "execution_count": 24,
   "id": "27d452a5",
   "metadata": {
    "execution": {
     "iopub.execute_input": "2024-12-22T11:13:16.286282Z",
     "iopub.status.busy": "2024-12-22T11:13:16.285924Z",
     "iopub.status.idle": "2024-12-22T11:13:16.293473Z",
     "shell.execute_reply": "2024-12-22T11:13:16.292532Z"
    },
    "papermill": {
     "duration": 0.025145,
     "end_time": "2024-12-22T11:13:16.295431",
     "exception": false,
     "start_time": "2024-12-22T11:13:16.270286",
     "status": "completed"
    },
    "tags": []
   },
   "outputs": [
    {
     "data": {
      "text/plain": [
       "0      0\n",
       "1      1\n",
       "2      0\n",
       "3      1\n",
       "4      0\n",
       "      ..\n",
       "913    1\n",
       "914    1\n",
       "915    1\n",
       "916    1\n",
       "917    0\n",
       "Name: HeartDisease, Length: 918, dtype: int64"
      ]
     },
     "execution_count": 24,
     "metadata": {},
     "output_type": "execute_result"
    }
   ],
   "source": [
    "y"
   ]
  },
  {
   "cell_type": "code",
   "execution_count": 25,
   "id": "38b3d65f",
   "metadata": {
    "execution": {
     "iopub.execute_input": "2024-12-22T11:13:16.326236Z",
     "iopub.status.busy": "2024-12-22T11:13:16.325842Z",
     "iopub.status.idle": "2024-12-22T11:13:16.335855Z",
     "shell.execute_reply": "2024-12-22T11:13:16.334461Z"
    },
    "papermill": {
     "duration": 0.027568,
     "end_time": "2024-12-22T11:13:16.338452",
     "exception": false,
     "start_time": "2024-12-22T11:13:16.310884",
     "status": "completed"
    },
    "tags": []
   },
   "outputs": [],
   "source": [
    "x_train, x_test, y_train, y_test = train_test_split(x,y, test_size= 0.2, random_state=42)"
   ]
  },
  {
   "cell_type": "code",
   "execution_count": 26,
   "id": "fdc3abf1",
   "metadata": {
    "execution": {
     "iopub.execute_input": "2024-12-22T11:13:16.368979Z",
     "iopub.status.busy": "2024-12-22T11:13:16.368624Z",
     "iopub.status.idle": "2024-12-22T11:13:16.374131Z",
     "shell.execute_reply": "2024-12-22T11:13:16.372931Z"
    },
    "papermill": {
     "duration": 0.023104,
     "end_time": "2024-12-22T11:13:16.376034",
     "exception": false,
     "start_time": "2024-12-22T11:13:16.352930",
     "status": "completed"
    },
    "tags": []
   },
   "outputs": [],
   "source": [
    "def all(model):\n",
    "    model.fit(x_train, y_train)\n",
    "    pred = model.predict(x_test)\n",
    "    print(confusion_matrix(pred,y_test))\n",
    "    print( classification_report(pred, y_test))"
   ]
  },
  {
   "cell_type": "code",
   "execution_count": 27,
   "id": "291012cd",
   "metadata": {
    "execution": {
     "iopub.execute_input": "2024-12-22T11:13:16.406538Z",
     "iopub.status.busy": "2024-12-22T11:13:16.406154Z",
     "iopub.status.idle": "2024-12-22T11:13:16.443690Z",
     "shell.execute_reply": "2024-12-22T11:13:16.442270Z"
    },
    "papermill": {
     "duration": 0.054336,
     "end_time": "2024-12-22T11:13:16.445414",
     "exception": false,
     "start_time": "2024-12-22T11:13:16.391078",
     "status": "completed"
    },
    "tags": []
   },
   "outputs": [
    {
     "name": "stdout",
     "output_type": "stream",
     "text": [
      "Model :  KNeighborsClassifier()\n",
      "[[55 33]\n",
      " [22 74]]\n",
      "              precision    recall  f1-score   support\n",
      "\n",
      "           0       0.71      0.62      0.67        88\n",
      "           1       0.69      0.77      0.73        96\n",
      "\n",
      "    accuracy                           0.70       184\n",
      "   macro avg       0.70      0.70      0.70       184\n",
      "weighted avg       0.70      0.70      0.70       184\n",
      "\n"
     ]
    }
   ],
   "source": [
    "model1 = KNeighborsClassifier()\n",
    "print (\"Model : \",model1)\n",
    "all(model1)\n"
   ]
  },
  {
   "cell_type": "code",
   "execution_count": 28,
   "id": "09200d6c",
   "metadata": {
    "execution": {
     "iopub.execute_input": "2024-12-22T11:13:16.476478Z",
     "iopub.status.busy": "2024-12-22T11:13:16.476056Z",
     "iopub.status.idle": "2024-12-22T11:13:16.500321Z",
     "shell.execute_reply": "2024-12-22T11:13:16.499033Z"
    },
    "papermill": {
     "duration": 0.041707,
     "end_time": "2024-12-22T11:13:16.502191",
     "exception": false,
     "start_time": "2024-12-22T11:13:16.460484",
     "status": "completed"
    },
    "tags": []
   },
   "outputs": [
    {
     "name": "stdout",
     "output_type": "stream",
     "text": [
      "Model :  DecisionTreeClassifier()\n",
      "[[65 24]\n",
      " [12 83]]\n",
      "              precision    recall  f1-score   support\n",
      "\n",
      "           0       0.84      0.73      0.78        89\n",
      "           1       0.78      0.87      0.82        95\n",
      "\n",
      "    accuracy                           0.80       184\n",
      "   macro avg       0.81      0.80      0.80       184\n",
      "weighted avg       0.81      0.80      0.80       184\n",
      "\n"
     ]
    }
   ],
   "source": [
    "model1 = DecisionTreeClassifier()\n",
    "print (\"Model : \",model1)\n",
    "all(model1)\n"
   ]
  },
  {
   "cell_type": "code",
   "execution_count": 29,
   "id": "c05dfa4c",
   "metadata": {
    "execution": {
     "iopub.execute_input": "2024-12-22T11:13:16.531466Z",
     "iopub.status.busy": "2024-12-22T11:13:16.531031Z",
     "iopub.status.idle": "2024-12-22T11:13:16.551560Z",
     "shell.execute_reply": "2024-12-22T11:13:16.550369Z"
    },
    "papermill": {
     "duration": 0.037038,
     "end_time": "2024-12-22T11:13:16.553389",
     "exception": false,
     "start_time": "2024-12-22T11:13:16.516351",
     "status": "completed"
    },
    "tags": []
   },
   "outputs": [
    {
     "name": "stdout",
     "output_type": "stream",
     "text": [
      "Model :  GaussianNB()\n",
      "[[65 17]\n",
      " [12 90]]\n",
      "              precision    recall  f1-score   support\n",
      "\n",
      "           0       0.84      0.79      0.82        82\n",
      "           1       0.84      0.88      0.86       102\n",
      "\n",
      "    accuracy                           0.84       184\n",
      "   macro avg       0.84      0.84      0.84       184\n",
      "weighted avg       0.84      0.84      0.84       184\n",
      "\n"
     ]
    }
   ],
   "source": [
    "model1 = GaussianNB()\n",
    "print (\"Model : \",model1)\n",
    "all(model1)"
   ]
  },
  {
   "cell_type": "code",
   "execution_count": 30,
   "id": "1e05c566",
   "metadata": {
    "execution": {
     "iopub.execute_input": "2024-12-22T11:13:16.583578Z",
     "iopub.status.busy": "2024-12-22T11:13:16.583194Z",
     "iopub.status.idle": "2024-12-22T11:13:16.628877Z",
     "shell.execute_reply": "2024-12-22T11:13:16.627439Z"
    },
    "papermill": {
     "duration": 0.062013,
     "end_time": "2024-12-22T11:13:16.630501",
     "exception": false,
     "start_time": "2024-12-22T11:13:16.568488",
     "status": "completed"
    },
    "tags": []
   },
   "outputs": [
    {
     "name": "stdout",
     "output_type": "stream",
     "text": [
      "Model :  SVC()\n",
      "[[54 35]\n",
      " [23 72]]\n",
      "              precision    recall  f1-score   support\n",
      "\n",
      "           0       0.70      0.61      0.65        89\n",
      "           1       0.67      0.76      0.71        95\n",
      "\n",
      "    accuracy                           0.68       184\n",
      "   macro avg       0.69      0.68      0.68       184\n",
      "weighted avg       0.69      0.68      0.68       184\n",
      "\n"
     ]
    }
   ],
   "source": [
    "model1 = SVC()\n",
    "print (\"Model : \",model1)\n",
    "all(model1)"
   ]
  },
  {
   "cell_type": "code",
   "execution_count": 31,
   "id": "ae2bf99e",
   "metadata": {
    "execution": {
     "iopub.execute_input": "2024-12-22T11:13:16.660354Z",
     "iopub.status.busy": "2024-12-22T11:13:16.659970Z",
     "iopub.status.idle": "2024-12-22T11:13:16.901905Z",
     "shell.execute_reply": "2024-12-22T11:13:16.900734Z"
    },
    "papermill": {
     "duration": 0.25889,
     "end_time": "2024-12-22T11:13:16.903656",
     "exception": false,
     "start_time": "2024-12-22T11:13:16.644766",
     "status": "completed"
    },
    "tags": []
   },
   "outputs": [
    {
     "name": "stdout",
     "output_type": "stream",
     "text": [
      "Model :  RandomForestClassifier()\n",
      "[[67 13]\n",
      " [10 94]]\n",
      "              precision    recall  f1-score   support\n",
      "\n",
      "           0       0.87      0.84      0.85        80\n",
      "           1       0.88      0.90      0.89       104\n",
      "\n",
      "    accuracy                           0.88       184\n",
      "   macro avg       0.87      0.87      0.87       184\n",
      "weighted avg       0.87      0.88      0.87       184\n",
      "\n"
     ]
    }
   ],
   "source": [
    "model1 = RandomForestClassifier()\n",
    "print (\"Model : \",model1)\n",
    "all(model1)"
   ]
  },
  {
   "cell_type": "code",
   "execution_count": 32,
   "id": "dd4ed599",
   "metadata": {
    "execution": {
     "iopub.execute_input": "2024-12-22T11:13:16.935278Z",
     "iopub.status.busy": "2024-12-22T11:13:16.934816Z",
     "iopub.status.idle": "2024-12-22T11:13:17.124553Z",
     "shell.execute_reply": "2024-12-22T11:13:17.123069Z"
    },
    "papermill": {
     "duration": 0.20837,
     "end_time": "2024-12-22T11:13:17.126445",
     "exception": false,
     "start_time": "2024-12-22T11:13:16.918075",
     "status": "completed"
    },
    "tags": []
   },
   "outputs": [
    {
     "name": "stdout",
     "output_type": "stream",
     "text": [
      "Model :  GradientBoostingClassifier()\n",
      "[[69 15]\n",
      " [ 8 92]]\n",
      "              precision    recall  f1-score   support\n",
      "\n",
      "           0       0.90      0.82      0.86        84\n",
      "           1       0.86      0.92      0.89       100\n",
      "\n",
      "    accuracy                           0.88       184\n",
      "   macro avg       0.88      0.87      0.87       184\n",
      "weighted avg       0.88      0.88      0.87       184\n",
      "\n"
     ]
    }
   ],
   "source": [
    "model1 = GradientBoostingClassifier()\n",
    "print (\"Model : \",model1)\n",
    "all(model1)"
   ]
  },
  {
   "cell_type": "code",
   "execution_count": null,
   "id": "c7f6f9be",
   "metadata": {
    "papermill": {
     "duration": 0.014425,
     "end_time": "2024-12-22T11:13:17.156107",
     "exception": false,
     "start_time": "2024-12-22T11:13:17.141682",
     "status": "completed"
    },
    "tags": []
   },
   "outputs": [],
   "source": []
  }
 ],
 "metadata": {
  "kaggle": {
   "accelerator": "none",
   "dataSources": [
    {
     "datasetId": 3989109,
     "sourceId": 6945892,
     "sourceType": "datasetVersion"
    }
   ],
   "dockerImageVersionId": 30822,
   "isGpuEnabled": false,
   "isInternetEnabled": true,
   "language": "python",
   "sourceType": "notebook"
  },
  "kernelspec": {
   "display_name": "Python 3",
   "language": "python",
   "name": "python3"
  },
  "language_info": {
   "codemirror_mode": {
    "name": "ipython",
    "version": 3
   },
   "file_extension": ".py",
   "mimetype": "text/x-python",
   "name": "python",
   "nbconvert_exporter": "python",
   "pygments_lexer": "ipython3",
   "version": "3.10.12"
  },
  "papermill": {
   "default_parameters": {},
   "duration": 11.740554,
   "end_time": "2024-12-22T11:13:17.993176",
   "environment_variables": {},
   "exception": null,
   "input_path": "__notebook__.ipynb",
   "output_path": "__notebook__.ipynb",
   "parameters": {},
   "start_time": "2024-12-22T11:13:06.252622",
   "version": "2.6.0"
  }
 },
 "nbformat": 4,
 "nbformat_minor": 5
}
