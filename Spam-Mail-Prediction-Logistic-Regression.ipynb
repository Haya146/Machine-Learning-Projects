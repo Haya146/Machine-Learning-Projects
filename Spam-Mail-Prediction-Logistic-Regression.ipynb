{
 "cells": [
  {
   "cell_type": "markdown",
   "id": "ed4c2b6c",
   "metadata": {
    "papermill": {
     "duration": 0.009294,
     "end_time": "2024-11-17T01:28:09.440181",
     "exception": false,
     "start_time": "2024-11-17T01:28:09.430887",
     "status": "completed"
    },
    "tags": []
   },
   "source": [
    "# Importing The Dependencies"
   ]
  },
  {
   "cell_type": "code",
   "execution_count": 1,
   "id": "b6195e75",
   "metadata": {
    "_cell_guid": "b1076dfc-b9ad-4769-8c92-a6c4dae69d19",
    "_uuid": "8f2839f25d086af736a60e9eeb907d3b93b6e0e5",
    "execution": {
     "iopub.execute_input": "2024-11-17T01:28:09.462502Z",
     "iopub.status.busy": "2024-11-17T01:28:09.461425Z",
     "iopub.status.idle": "2024-11-17T01:28:12.198157Z",
     "shell.execute_reply": "2024-11-17T01:28:12.197153Z"
    },
    "papermill": {
     "duration": 2.750713,
     "end_time": "2024-11-17T01:28:12.200810",
     "exception": false,
     "start_time": "2024-11-17T01:28:09.450097",
     "status": "completed"
    },
    "tags": []
   },
   "outputs": [],
   "source": [
    "import numpy as np \n",
    "import pandas as pd \n",
    "\n",
    "from sklearn.model_selection import train_test_split\n",
    "# Convert Mail Data into Numerical Values\n",
    "from sklearn.feature_extraction.text import TfidfVectorizer \n",
    "from sklearn.linear_model import LogisticRegression\n",
    "from sklearn.metrics import accuracy_score"
   ]
  },
  {
   "cell_type": "markdown",
   "id": "b4ffb683",
   "metadata": {
    "papermill": {
     "duration": 0.007662,
     "end_time": "2024-11-17T01:28:12.216691",
     "exception": false,
     "start_time": "2024-11-17T01:28:12.209029",
     "status": "completed"
    },
    "tags": []
   },
   "source": [
    "# Explore the Data"
   ]
  },
  {
   "cell_type": "markdown",
   "id": "ad374586",
   "metadata": {
    "papermill": {
     "duration": 0.007446,
     "end_time": "2024-11-17T01:28:12.232956",
     "exception": false,
     "start_time": "2024-11-17T01:28:12.225510",
     "status": "completed"
    },
    "tags": []
   },
   "source": [
    "## Read the data"
   ]
  },
  {
   "cell_type": "code",
   "execution_count": 2,
   "id": "41004138",
   "metadata": {
    "execution": {
     "iopub.execute_input": "2024-11-17T01:28:12.251213Z",
     "iopub.status.busy": "2024-11-17T01:28:12.250093Z",
     "iopub.status.idle": "2024-11-17T01:28:12.304978Z",
     "shell.execute_reply": "2024-11-17T01:28:12.303686Z"
    },
    "papermill": {
     "duration": 0.06664,
     "end_time": "2024-11-17T01:28:12.307414",
     "exception": false,
     "start_time": "2024-11-17T01:28:12.240774",
     "status": "completed"
    },
    "tags": []
   },
   "outputs": [
    {
     "data": {
      "text/html": [
       "<div>\n",
       "<style scoped>\n",
       "    .dataframe tbody tr th:only-of-type {\n",
       "        vertical-align: middle;\n",
       "    }\n",
       "\n",
       "    .dataframe tbody tr th {\n",
       "        vertical-align: top;\n",
       "    }\n",
       "\n",
       "    .dataframe thead th {\n",
       "        text-align: right;\n",
       "    }\n",
       "</style>\n",
       "<table border=\"1\" class=\"dataframe\">\n",
       "  <thead>\n",
       "    <tr style=\"text-align: right;\">\n",
       "      <th></th>\n",
       "      <th>Category</th>\n",
       "      <th>Message</th>\n",
       "    </tr>\n",
       "  </thead>\n",
       "  <tbody>\n",
       "    <tr>\n",
       "      <th>0</th>\n",
       "      <td>ham</td>\n",
       "      <td>Go until jurong point, crazy.. Available only ...</td>\n",
       "    </tr>\n",
       "    <tr>\n",
       "      <th>1</th>\n",
       "      <td>ham</td>\n",
       "      <td>Ok lar... Joking wif u oni...</td>\n",
       "    </tr>\n",
       "    <tr>\n",
       "      <th>2</th>\n",
       "      <td>spam</td>\n",
       "      <td>Free entry in 2 a wkly comp to win FA Cup fina...</td>\n",
       "    </tr>\n",
       "    <tr>\n",
       "      <th>3</th>\n",
       "      <td>ham</td>\n",
       "      <td>U dun say so early hor... U c already then say...</td>\n",
       "    </tr>\n",
       "    <tr>\n",
       "      <th>4</th>\n",
       "      <td>ham</td>\n",
       "      <td>Nah I don't think he goes to usf, he lives aro...</td>\n",
       "    </tr>\n",
       "  </tbody>\n",
       "</table>\n",
       "</div>"
      ],
      "text/plain": [
       "  Category                                            Message\n",
       "0      ham  Go until jurong point, crazy.. Available only ...\n",
       "1      ham                      Ok lar... Joking wif u oni...\n",
       "2     spam  Free entry in 2 a wkly comp to win FA Cup fina...\n",
       "3      ham  U dun say so early hor... U c already then say...\n",
       "4      ham  Nah I don't think he goes to usf, he lives aro..."
      ]
     },
     "execution_count": 2,
     "metadata": {},
     "output_type": "execute_result"
    }
   ],
   "source": [
    "df = pd.read_csv('/kaggle/input/maildataset/mail_data.csv')\n",
    "df.head()"
   ]
  },
  {
   "cell_type": "markdown",
   "id": "8b300d76",
   "metadata": {
    "papermill": {
     "duration": 0.007674,
     "end_time": "2024-11-17T01:28:12.323396",
     "exception": false,
     "start_time": "2024-11-17T01:28:12.315722",
     "status": "completed"
    },
    "tags": []
   },
   "source": [
    "## Replace the null value with null string"
   ]
  },
  {
   "cell_type": "code",
   "execution_count": 3,
   "id": "f2733b90",
   "metadata": {
    "execution": {
     "iopub.execute_input": "2024-11-17T01:28:12.342087Z",
     "iopub.status.busy": "2024-11-17T01:28:12.341647Z",
     "iopub.status.idle": "2024-11-17T01:28:12.351285Z",
     "shell.execute_reply": "2024-11-17T01:28:12.350109Z"
    },
    "papermill": {
     "duration": 0.021638,
     "end_time": "2024-11-17T01:28:12.353514",
     "exception": false,
     "start_time": "2024-11-17T01:28:12.331876",
     "status": "completed"
    },
    "tags": []
   },
   "outputs": [],
   "source": [
    "mail_data= df.where((pd.notnull(df)),'')"
   ]
  },
  {
   "cell_type": "code",
   "execution_count": 4,
   "id": "798790bc",
   "metadata": {
    "execution": {
     "iopub.execute_input": "2024-11-17T01:28:12.372225Z",
     "iopub.status.busy": "2024-11-17T01:28:12.371772Z",
     "iopub.status.idle": "2024-11-17T01:28:12.382284Z",
     "shell.execute_reply": "2024-11-17T01:28:12.381138Z"
    },
    "papermill": {
     "duration": 0.022708,
     "end_time": "2024-11-17T01:28:12.384544",
     "exception": false,
     "start_time": "2024-11-17T01:28:12.361836",
     "status": "completed"
    },
    "tags": []
   },
   "outputs": [
    {
     "data": {
      "text/html": [
       "<div>\n",
       "<style scoped>\n",
       "    .dataframe tbody tr th:only-of-type {\n",
       "        vertical-align: middle;\n",
       "    }\n",
       "\n",
       "    .dataframe tbody tr th {\n",
       "        vertical-align: top;\n",
       "    }\n",
       "\n",
       "    .dataframe thead th {\n",
       "        text-align: right;\n",
       "    }\n",
       "</style>\n",
       "<table border=\"1\" class=\"dataframe\">\n",
       "  <thead>\n",
       "    <tr style=\"text-align: right;\">\n",
       "      <th></th>\n",
       "      <th>Category</th>\n",
       "      <th>Message</th>\n",
       "    </tr>\n",
       "  </thead>\n",
       "  <tbody>\n",
       "    <tr>\n",
       "      <th>0</th>\n",
       "      <td>ham</td>\n",
       "      <td>Go until jurong point, crazy.. Available only ...</td>\n",
       "    </tr>\n",
       "    <tr>\n",
       "      <th>1</th>\n",
       "      <td>ham</td>\n",
       "      <td>Ok lar... Joking wif u oni...</td>\n",
       "    </tr>\n",
       "    <tr>\n",
       "      <th>2</th>\n",
       "      <td>spam</td>\n",
       "      <td>Free entry in 2 a wkly comp to win FA Cup fina...</td>\n",
       "    </tr>\n",
       "    <tr>\n",
       "      <th>3</th>\n",
       "      <td>ham</td>\n",
       "      <td>U dun say so early hor... U c already then say...</td>\n",
       "    </tr>\n",
       "    <tr>\n",
       "      <th>4</th>\n",
       "      <td>ham</td>\n",
       "      <td>Nah I don't think he goes to usf, he lives aro...</td>\n",
       "    </tr>\n",
       "  </tbody>\n",
       "</table>\n",
       "</div>"
      ],
      "text/plain": [
       "  Category                                            Message\n",
       "0      ham  Go until jurong point, crazy.. Available only ...\n",
       "1      ham                      Ok lar... Joking wif u oni...\n",
       "2     spam  Free entry in 2 a wkly comp to win FA Cup fina...\n",
       "3      ham  U dun say so early hor... U c already then say...\n",
       "4      ham  Nah I don't think he goes to usf, he lives aro..."
      ]
     },
     "execution_count": 4,
     "metadata": {},
     "output_type": "execute_result"
    }
   ],
   "source": [
    "mail_data.head()"
   ]
  },
  {
   "cell_type": "code",
   "execution_count": 5,
   "id": "cb4753da",
   "metadata": {
    "execution": {
     "iopub.execute_input": "2024-11-17T01:28:12.403144Z",
     "iopub.status.busy": "2024-11-17T01:28:12.402392Z",
     "iopub.status.idle": "2024-11-17T01:28:12.409272Z",
     "shell.execute_reply": "2024-11-17T01:28:12.408106Z"
    },
    "papermill": {
     "duration": 0.018637,
     "end_time": "2024-11-17T01:28:12.411497",
     "exception": false,
     "start_time": "2024-11-17T01:28:12.392860",
     "status": "completed"
    },
    "tags": []
   },
   "outputs": [
    {
     "data": {
      "text/plain": [
       "(5572, 2)"
      ]
     },
     "execution_count": 5,
     "metadata": {},
     "output_type": "execute_result"
    }
   ],
   "source": [
    "# Checking the number of rows and columns\n",
    "mail_data.shape"
   ]
  },
  {
   "cell_type": "markdown",
   "id": "6313638c",
   "metadata": {
    "papermill": {
     "duration": 0.008341,
     "end_time": "2024-11-17T01:28:12.428438",
     "exception": false,
     "start_time": "2024-11-17T01:28:12.420097",
     "status": "completed"
    },
    "tags": []
   },
   "source": [
    "## Label Encoding"
   ]
  },
  {
   "cell_type": "markdown",
   "id": "0b41ddf0",
   "metadata": {
    "papermill": {
     "duration": 0.008037,
     "end_time": "2024-11-17T01:28:12.445062",
     "exception": false,
     "start_time": "2024-11-17T01:28:12.437025",
     "status": "completed"
    },
    "tags": []
   },
   "source": [
    "-  **Label spam as 0    ; ham as 1**"
   ]
  },
  {
   "cell_type": "code",
   "execution_count": 6,
   "id": "166577b3",
   "metadata": {
    "execution": {
     "iopub.execute_input": "2024-11-17T01:28:12.463870Z",
     "iopub.status.busy": "2024-11-17T01:28:12.463036Z",
     "iopub.status.idle": "2024-11-17T01:28:12.471323Z",
     "shell.execute_reply": "2024-11-17T01:28:12.470321Z"
    },
    "papermill": {
     "duration": 0.020217,
     "end_time": "2024-11-17T01:28:12.473566",
     "exception": false,
     "start_time": "2024-11-17T01:28:12.453349",
     "status": "completed"
    },
    "tags": []
   },
   "outputs": [],
   "source": [
    "mail_data.loc[mail_data['Category']== 'spam','Category',]=0\n",
    "mail_data.loc[mail_data['Category']== 'ham','Category',]=1"
   ]
  },
  {
   "cell_type": "code",
   "execution_count": 7,
   "id": "4ddf6ce6",
   "metadata": {
    "execution": {
     "iopub.execute_input": "2024-11-17T01:28:12.492402Z",
     "iopub.status.busy": "2024-11-17T01:28:12.491981Z",
     "iopub.status.idle": "2024-11-17T01:28:12.507358Z",
     "shell.execute_reply": "2024-11-17T01:28:12.506295Z"
    },
    "papermill": {
     "duration": 0.027512,
     "end_time": "2024-11-17T01:28:12.509583",
     "exception": false,
     "start_time": "2024-11-17T01:28:12.482071",
     "status": "completed"
    },
    "tags": []
   },
   "outputs": [
    {
     "data": {
      "text/html": [
       "<div>\n",
       "<style scoped>\n",
       "    .dataframe tbody tr th:only-of-type {\n",
       "        vertical-align: middle;\n",
       "    }\n",
       "\n",
       "    .dataframe tbody tr th {\n",
       "        vertical-align: top;\n",
       "    }\n",
       "\n",
       "    .dataframe thead th {\n",
       "        text-align: right;\n",
       "    }\n",
       "</style>\n",
       "<table border=\"1\" class=\"dataframe\">\n",
       "  <thead>\n",
       "    <tr style=\"text-align: right;\">\n",
       "      <th></th>\n",
       "      <th>Category</th>\n",
       "      <th>Message</th>\n",
       "    </tr>\n",
       "  </thead>\n",
       "  <tbody>\n",
       "    <tr>\n",
       "      <th>0</th>\n",
       "      <td>1</td>\n",
       "      <td>Go until jurong point, crazy.. Available only ...</td>\n",
       "    </tr>\n",
       "    <tr>\n",
       "      <th>1</th>\n",
       "      <td>1</td>\n",
       "      <td>Ok lar... Joking wif u oni...</td>\n",
       "    </tr>\n",
       "    <tr>\n",
       "      <th>2</th>\n",
       "      <td>0</td>\n",
       "      <td>Free entry in 2 a wkly comp to win FA Cup fina...</td>\n",
       "    </tr>\n",
       "    <tr>\n",
       "      <th>3</th>\n",
       "      <td>1</td>\n",
       "      <td>U dun say so early hor... U c already then say...</td>\n",
       "    </tr>\n",
       "    <tr>\n",
       "      <th>4</th>\n",
       "      <td>1</td>\n",
       "      <td>Nah I don't think he goes to usf, he lives aro...</td>\n",
       "    </tr>\n",
       "    <tr>\n",
       "      <th>...</th>\n",
       "      <td>...</td>\n",
       "      <td>...</td>\n",
       "    </tr>\n",
       "    <tr>\n",
       "      <th>5567</th>\n",
       "      <td>0</td>\n",
       "      <td>This is the 2nd time we have tried 2 contact u...</td>\n",
       "    </tr>\n",
       "    <tr>\n",
       "      <th>5568</th>\n",
       "      <td>1</td>\n",
       "      <td>Will ü b going to esplanade fr home?</td>\n",
       "    </tr>\n",
       "    <tr>\n",
       "      <th>5569</th>\n",
       "      <td>1</td>\n",
       "      <td>Pity, * was in mood for that. So...any other s...</td>\n",
       "    </tr>\n",
       "    <tr>\n",
       "      <th>5570</th>\n",
       "      <td>1</td>\n",
       "      <td>The guy did some bitching but I acted like i'd...</td>\n",
       "    </tr>\n",
       "    <tr>\n",
       "      <th>5571</th>\n",
       "      <td>1</td>\n",
       "      <td>Rofl. Its true to its name</td>\n",
       "    </tr>\n",
       "  </tbody>\n",
       "</table>\n",
       "<p>5572 rows × 2 columns</p>\n",
       "</div>"
      ],
      "text/plain": [
       "     Category                                            Message\n",
       "0           1  Go until jurong point, crazy.. Available only ...\n",
       "1           1                      Ok lar... Joking wif u oni...\n",
       "2           0  Free entry in 2 a wkly comp to win FA Cup fina...\n",
       "3           1  U dun say so early hor... U c already then say...\n",
       "4           1  Nah I don't think he goes to usf, he lives aro...\n",
       "...       ...                                                ...\n",
       "5567        0  This is the 2nd time we have tried 2 contact u...\n",
       "5568        1               Will ü b going to esplanade fr home?\n",
       "5569        1  Pity, * was in mood for that. So...any other s...\n",
       "5570        1  The guy did some bitching but I acted like i'd...\n",
       "5571        1                         Rofl. Its true to its name\n",
       "\n",
       "[5572 rows x 2 columns]"
      ]
     },
     "execution_count": 7,
     "metadata": {},
     "output_type": "execute_result"
    }
   ],
   "source": [
    "mail_data"
   ]
  },
  {
   "cell_type": "markdown",
   "id": "bfdca167",
   "metadata": {
    "papermill": {
     "duration": 0.008553,
     "end_time": "2024-11-17T01:28:12.526941",
     "exception": false,
     "start_time": "2024-11-17T01:28:12.518388",
     "status": "completed"
    },
    "tags": []
   },
   "source": [
    "spam -> 0    \n",
    "ham -> 1"
   ]
  },
  {
   "cell_type": "markdown",
   "id": "82640efe",
   "metadata": {
    "papermill": {
     "duration": 0.008272,
     "end_time": "2024-11-17T01:28:12.543727",
     "exception": false,
     "start_time": "2024-11-17T01:28:12.535455",
     "status": "completed"
    },
    "tags": []
   },
   "source": [
    "## Separarting the data as texts and labels"
   ]
  },
  {
   "cell_type": "code",
   "execution_count": 8,
   "id": "9f282eda",
   "metadata": {
    "execution": {
     "iopub.execute_input": "2024-11-17T01:28:12.563065Z",
     "iopub.status.busy": "2024-11-17T01:28:12.562224Z",
     "iopub.status.idle": "2024-11-17T01:28:12.567272Z",
     "shell.execute_reply": "2024-11-17T01:28:12.566285Z"
    },
    "papermill": {
     "duration": 0.016864,
     "end_time": "2024-11-17T01:28:12.569397",
     "exception": false,
     "start_time": "2024-11-17T01:28:12.552533",
     "status": "completed"
    },
    "tags": []
   },
   "outputs": [],
   "source": [
    "x= mail_data['Message']\n",
    "y= mail_data['Category']"
   ]
  },
  {
   "cell_type": "code",
   "execution_count": 9,
   "id": "28a3802d",
   "metadata": {
    "execution": {
     "iopub.execute_input": "2024-11-17T01:28:12.587982Z",
     "iopub.status.busy": "2024-11-17T01:28:12.587593Z",
     "iopub.status.idle": "2024-11-17T01:28:12.596412Z",
     "shell.execute_reply": "2024-11-17T01:28:12.595349Z"
    },
    "papermill": {
     "duration": 0.020487,
     "end_time": "2024-11-17T01:28:12.598459",
     "exception": false,
     "start_time": "2024-11-17T01:28:12.577972",
     "status": "completed"
    },
    "tags": []
   },
   "outputs": [
    {
     "data": {
      "text/plain": [
       "0       Go until jurong point, crazy.. Available only ...\n",
       "1                           Ok lar... Joking wif u oni...\n",
       "2       Free entry in 2 a wkly comp to win FA Cup fina...\n",
       "3       U dun say so early hor... U c already then say...\n",
       "4       Nah I don't think he goes to usf, he lives aro...\n",
       "                              ...                        \n",
       "5567    This is the 2nd time we have tried 2 contact u...\n",
       "5568                 Will ü b going to esplanade fr home?\n",
       "5569    Pity, * was in mood for that. So...any other s...\n",
       "5570    The guy did some bitching but I acted like i'd...\n",
       "5571                           Rofl. Its true to its name\n",
       "Name: Message, Length: 5572, dtype: object"
      ]
     },
     "execution_count": 9,
     "metadata": {},
     "output_type": "execute_result"
    }
   ],
   "source": [
    "x"
   ]
  },
  {
   "cell_type": "code",
   "execution_count": 10,
   "id": "2cc81305",
   "metadata": {
    "execution": {
     "iopub.execute_input": "2024-11-17T01:28:12.617790Z",
     "iopub.status.busy": "2024-11-17T01:28:12.617040Z",
     "iopub.status.idle": "2024-11-17T01:28:12.625099Z",
     "shell.execute_reply": "2024-11-17T01:28:12.624094Z"
    },
    "papermill": {
     "duration": 0.020273,
     "end_time": "2024-11-17T01:28:12.627510",
     "exception": false,
     "start_time": "2024-11-17T01:28:12.607237",
     "status": "completed"
    },
    "tags": []
   },
   "outputs": [
    {
     "data": {
      "text/plain": [
       "0       1\n",
       "1       1\n",
       "2       0\n",
       "3       1\n",
       "4       1\n",
       "       ..\n",
       "5567    0\n",
       "5568    1\n",
       "5569    1\n",
       "5570    1\n",
       "5571    1\n",
       "Name: Category, Length: 5572, dtype: object"
      ]
     },
     "execution_count": 10,
     "metadata": {},
     "output_type": "execute_result"
    }
   ],
   "source": [
    "y"
   ]
  },
  {
   "cell_type": "markdown",
   "id": "e46b179d",
   "metadata": {
    "papermill": {
     "duration": 0.008685,
     "end_time": "2024-11-17T01:28:12.645323",
     "exception": false,
     "start_time": "2024-11-17T01:28:12.636638",
     "status": "completed"
    },
    "tags": []
   },
   "source": [
    "# Splitting the Data into Training Data and Testing Data"
   ]
  },
  {
   "cell_type": "code",
   "execution_count": 11,
   "id": "0330e55f",
   "metadata": {
    "execution": {
     "iopub.execute_input": "2024-11-17T01:28:12.665658Z",
     "iopub.status.busy": "2024-11-17T01:28:12.664918Z",
     "iopub.status.idle": "2024-11-17T01:28:12.677959Z",
     "shell.execute_reply": "2024-11-17T01:28:12.676866Z"
    },
    "papermill": {
     "duration": 0.026081,
     "end_time": "2024-11-17T01:28:12.680460",
     "exception": false,
     "start_time": "2024-11-17T01:28:12.654379",
     "status": "completed"
    },
    "tags": []
   },
   "outputs": [],
   "source": [
    "x_train, x_test, y_train, y_test = train_test_split(x,y,test_size=0.2,random_state=3) "
   ]
  },
  {
   "cell_type": "code",
   "execution_count": 12,
   "id": "1b3ab783",
   "metadata": {
    "execution": {
     "iopub.execute_input": "2024-11-17T01:28:12.700314Z",
     "iopub.status.busy": "2024-11-17T01:28:12.699529Z",
     "iopub.status.idle": "2024-11-17T01:28:12.705885Z",
     "shell.execute_reply": "2024-11-17T01:28:12.704872Z"
    },
    "papermill": {
     "duration": 0.018757,
     "end_time": "2024-11-17T01:28:12.708096",
     "exception": false,
     "start_time": "2024-11-17T01:28:12.689339",
     "status": "completed"
    },
    "tags": []
   },
   "outputs": [
    {
     "name": "stdout",
     "output_type": "stream",
     "text": [
      "(5572,)\n",
      "(1115,)\n",
      "(4457,)\n"
     ]
    }
   ],
   "source": [
    "print(x.shape)\n",
    "print(x_test.shape)\n",
    "print(x_train.shape)"
   ]
  },
  {
   "cell_type": "code",
   "execution_count": 13,
   "id": "64a430b7",
   "metadata": {
    "execution": {
     "iopub.execute_input": "2024-11-17T01:28:12.728367Z",
     "iopub.status.busy": "2024-11-17T01:28:12.727390Z",
     "iopub.status.idle": "2024-11-17T01:28:12.733004Z",
     "shell.execute_reply": "2024-11-17T01:28:12.731969Z"
    },
    "papermill": {
     "duration": 0.018506,
     "end_time": "2024-11-17T01:28:12.735587",
     "exception": false,
     "start_time": "2024-11-17T01:28:12.717081",
     "status": "completed"
    },
    "tags": []
   },
   "outputs": [
    {
     "name": "stdout",
     "output_type": "stream",
     "text": [
      "(5572,)\n",
      "(1115,)\n",
      "(4457,)\n"
     ]
    }
   ],
   "source": [
    "print(y.shape)\n",
    "print(y_test.shape)\n",
    "print(y_train.shape)"
   ]
  },
  {
   "cell_type": "markdown",
   "id": "5b3f5043",
   "metadata": {
    "papermill": {
     "duration": 0.008619,
     "end_time": "2024-11-17T01:28:12.753291",
     "exception": false,
     "start_time": "2024-11-17T01:28:12.744672",
     "status": "completed"
    },
    "tags": []
   },
   "source": [
    "# Feature Extraction"
   ]
  },
  {
   "cell_type": "markdown",
   "id": "b58de995",
   "metadata": {
    "papermill": {
     "duration": 0.008608,
     "end_time": "2024-11-17T01:28:12.770892",
     "exception": false,
     "start_time": "2024-11-17T01:28:12.762284",
     "status": "completed"
    },
    "tags": []
   },
   "source": [
    "## transform the text data into vectors "
   ]
  },
  {
   "cell_type": "code",
   "execution_count": 14,
   "id": "e250c0da",
   "metadata": {
    "execution": {
     "iopub.execute_input": "2024-11-17T01:28:12.790676Z",
     "iopub.status.busy": "2024-11-17T01:28:12.789902Z",
     "iopub.status.idle": "2024-11-17T01:28:12.914915Z",
     "shell.execute_reply": "2024-11-17T01:28:12.913936Z"
    },
    "papermill": {
     "duration": 0.137758,
     "end_time": "2024-11-17T01:28:12.917573",
     "exception": false,
     "start_time": "2024-11-17T01:28:12.779815",
     "status": "completed"
    },
    "tags": []
   },
   "outputs": [],
   "source": [
    "# That can be used as input to the logistic regression model\n",
    "feature_extraction = TfidfVectorizer(min_df= 1, stop_words= 'english', lowercase= True)\n",
    "\n",
    "x_train_features = feature_extraction.fit_transform(x_train)\n",
    "x_test_features = feature_extraction.transform(x_test)\n",
    "\n",
    "# convert y_train and y_test values as integers\n",
    "y_train = y_train.astype('int')\n",
    "y_test = y_test.astype('int')"
   ]
  },
  {
   "cell_type": "code",
   "execution_count": 15,
   "id": "8823979b",
   "metadata": {
    "execution": {
     "iopub.execute_input": "2024-11-17T01:28:12.937833Z",
     "iopub.status.busy": "2024-11-17T01:28:12.937027Z",
     "iopub.status.idle": "2024-11-17T01:28:12.944911Z",
     "shell.execute_reply": "2024-11-17T01:28:12.943719Z"
    },
    "papermill": {
     "duration": 0.020251,
     "end_time": "2024-11-17T01:28:12.947041",
     "exception": false,
     "start_time": "2024-11-17T01:28:12.926790",
     "status": "completed"
    },
    "tags": []
   },
   "outputs": [
    {
     "name": "stdout",
     "output_type": "stream",
     "text": [
      "3075                  Don know. I did't msg him recently.\n",
      "1787    Do you know why god created gap between your f...\n",
      "1614                         Thnx dude. u guys out 2nite?\n",
      "4304                                      Yup i'm free...\n",
      "3266    44 7732584351, Do you want a New Nokia 3510i c...\n",
      "Name: Message, dtype: object\n"
     ]
    }
   ],
   "source": [
    "print(x_train.head())"
   ]
  },
  {
   "cell_type": "code",
   "execution_count": 16,
   "id": "ecab3c65",
   "metadata": {
    "execution": {
     "iopub.execute_input": "2024-11-17T01:28:12.967703Z",
     "iopub.status.busy": "2024-11-17T01:28:12.966639Z",
     "iopub.status.idle": "2024-11-17T01:28:12.973717Z",
     "shell.execute_reply": "2024-11-17T01:28:12.972485Z"
    },
    "papermill": {
     "duration": 0.019551,
     "end_time": "2024-11-17T01:28:12.975875",
     "exception": false,
     "start_time": "2024-11-17T01:28:12.956324",
     "status": "completed"
    },
    "tags": []
   },
   "outputs": [
    {
     "name": "stdout",
     "output_type": "stream",
     "text": [
      "<Compressed Sparse Row sparse matrix of dtype 'float64'\n",
      "\twith 34775 stored elements and shape (4457, 7431)>\n",
      "  Coords\tValues\n",
      "  (0, 5413)\t0.6198254967574347\n",
      "  (0, 4456)\t0.4168658090846482\n",
      "  (0, 2224)\t0.413103377943378\n",
      "  (0, 3811)\t0.34780165336891333\n",
      "  (0, 2329)\t0.38783870336935383\n",
      "  (1, 4080)\t0.18880584110891163\n",
      "  (1, 3185)\t0.29694482957694585\n",
      "  (1, 3325)\t0.31610586766078863\n",
      "  (1, 2957)\t0.3398297002864083\n",
      "  (1, 2746)\t0.3398297002864083\n",
      "  (1, 918)\t0.22871581159877646\n",
      "  (1, 1839)\t0.2784903590561455\n",
      "  (1, 2758)\t0.3226407885943799\n",
      "  (1, 2956)\t0.33036995955537024\n",
      "  (1, 1991)\t0.33036995955537024\n",
      "  (1, 3046)\t0.2503712792613518\n",
      "  (1, 3811)\t0.17419952275504033\n",
      "  (2, 407)\t0.509272536051008\n",
      "  (2, 3156)\t0.4107239318312698\n",
      "  (2, 2404)\t0.45287711070606745\n",
      "  (2, 6601)\t0.6056811524587518\n",
      "  (3, 2870)\t0.5864269879324768\n",
      "  (3, 7414)\t0.8100020912469564\n",
      "  (4, 50)\t0.23633754072626942\n",
      "  (4, 5497)\t0.15743785051118356\n",
      "  :\t:\n",
      "  (4454, 4602)\t0.2669765732445391\n",
      "  (4454, 3142)\t0.32014451677763156\n",
      "  (4455, 2247)\t0.37052851863170466\n",
      "  (4455, 2469)\t0.35441545511837946\n",
      "  (4455, 5646)\t0.33545678464631296\n",
      "  (4455, 6810)\t0.29731757715898277\n",
      "  (4455, 6091)\t0.23103841516927642\n",
      "  (4455, 7113)\t0.30536590342067704\n",
      "  (4455, 3872)\t0.3108911491788658\n",
      "  (4455, 4715)\t0.30714144758811196\n",
      "  (4455, 6916)\t0.19636985317119715\n",
      "  (4455, 3922)\t0.31287563163368587\n",
      "  (4455, 4456)\t0.24920025316220423\n",
      "  (4456, 141)\t0.292943737785358\n",
      "  (4456, 647)\t0.30133182431707617\n",
      "  (4456, 6311)\t0.30133182431707617\n",
      "  (4456, 5569)\t0.4619395404299172\n",
      "  (4456, 6028)\t0.21034888000987115\n",
      "  (4456, 7154)\t0.24083218452280053\n",
      "  (4456, 7150)\t0.3677554681447669\n",
      "  (4456, 6249)\t0.17573831794959716\n",
      "  (4456, 6307)\t0.2752760476857975\n",
      "  (4456, 334)\t0.2220077711654938\n",
      "  (4456, 5778)\t0.16243064490100795\n",
      "  (4456, 2870)\t0.31523196273113385\n"
     ]
    }
   ],
   "source": [
    "print(x_train_features)"
   ]
  },
  {
   "cell_type": "markdown",
   "id": "3c8cd381",
   "metadata": {
    "papermill": {
     "duration": 0.008844,
     "end_time": "2024-11-17T01:28:12.994076",
     "exception": false,
     "start_time": "2024-11-17T01:28:12.985232",
     "status": "completed"
    },
    "tags": []
   },
   "source": [
    "# Training the Model"
   ]
  },
  {
   "cell_type": "code",
   "execution_count": 17,
   "id": "51160075",
   "metadata": {
    "execution": {
     "iopub.execute_input": "2024-11-17T01:28:13.014035Z",
     "iopub.status.busy": "2024-11-17T01:28:13.013613Z",
     "iopub.status.idle": "2024-11-17T01:28:13.018643Z",
     "shell.execute_reply": "2024-11-17T01:28:13.017476Z"
    },
    "papermill": {
     "duration": 0.017744,
     "end_time": "2024-11-17T01:28:13.020892",
     "exception": false,
     "start_time": "2024-11-17T01:28:13.003148",
     "status": "completed"
    },
    "tags": []
   },
   "outputs": [],
   "source": [
    "model = LogisticRegression()"
   ]
  },
  {
   "cell_type": "code",
   "execution_count": 18,
   "id": "2b22c544",
   "metadata": {
    "execution": {
     "iopub.execute_input": "2024-11-17T01:28:13.041468Z",
     "iopub.status.busy": "2024-11-17T01:28:13.041079Z",
     "iopub.status.idle": "2024-11-17T01:28:13.105789Z",
     "shell.execute_reply": "2024-11-17T01:28:13.104736Z"
    },
    "papermill": {
     "duration": 0.077728,
     "end_time": "2024-11-17T01:28:13.108372",
     "exception": false,
     "start_time": "2024-11-17T01:28:13.030644",
     "status": "completed"
    },
    "tags": []
   },
   "outputs": [
    {
     "data": {
      "text/html": [
       "<style>#sk-container-id-1 {color: black;background-color: white;}#sk-container-id-1 pre{padding: 0;}#sk-container-id-1 div.sk-toggleable {background-color: white;}#sk-container-id-1 label.sk-toggleable__label {cursor: pointer;display: block;width: 100%;margin-bottom: 0;padding: 0.3em;box-sizing: border-box;text-align: center;}#sk-container-id-1 label.sk-toggleable__label-arrow:before {content: \"▸\";float: left;margin-right: 0.25em;color: #696969;}#sk-container-id-1 label.sk-toggleable__label-arrow:hover:before {color: black;}#sk-container-id-1 div.sk-estimator:hover label.sk-toggleable__label-arrow:before {color: black;}#sk-container-id-1 div.sk-toggleable__content {max-height: 0;max-width: 0;overflow: hidden;text-align: left;background-color: #f0f8ff;}#sk-container-id-1 div.sk-toggleable__content pre {margin: 0.2em;color: black;border-radius: 0.25em;background-color: #f0f8ff;}#sk-container-id-1 input.sk-toggleable__control:checked~div.sk-toggleable__content {max-height: 200px;max-width: 100%;overflow: auto;}#sk-container-id-1 input.sk-toggleable__control:checked~label.sk-toggleable__label-arrow:before {content: \"▾\";}#sk-container-id-1 div.sk-estimator input.sk-toggleable__control:checked~label.sk-toggleable__label {background-color: #d4ebff;}#sk-container-id-1 div.sk-label input.sk-toggleable__control:checked~label.sk-toggleable__label {background-color: #d4ebff;}#sk-container-id-1 input.sk-hidden--visually {border: 0;clip: rect(1px 1px 1px 1px);clip: rect(1px, 1px, 1px, 1px);height: 1px;margin: -1px;overflow: hidden;padding: 0;position: absolute;width: 1px;}#sk-container-id-1 div.sk-estimator {font-family: monospace;background-color: #f0f8ff;border: 1px dotted black;border-radius: 0.25em;box-sizing: border-box;margin-bottom: 0.5em;}#sk-container-id-1 div.sk-estimator:hover {background-color: #d4ebff;}#sk-container-id-1 div.sk-parallel-item::after {content: \"\";width: 100%;border-bottom: 1px solid gray;flex-grow: 1;}#sk-container-id-1 div.sk-label:hover label.sk-toggleable__label {background-color: #d4ebff;}#sk-container-id-1 div.sk-serial::before {content: \"\";position: absolute;border-left: 1px solid gray;box-sizing: border-box;top: 0;bottom: 0;left: 50%;z-index: 0;}#sk-container-id-1 div.sk-serial {display: flex;flex-direction: column;align-items: center;background-color: white;padding-right: 0.2em;padding-left: 0.2em;position: relative;}#sk-container-id-1 div.sk-item {position: relative;z-index: 1;}#sk-container-id-1 div.sk-parallel {display: flex;align-items: stretch;justify-content: center;background-color: white;position: relative;}#sk-container-id-1 div.sk-item::before, #sk-container-id-1 div.sk-parallel-item::before {content: \"\";position: absolute;border-left: 1px solid gray;box-sizing: border-box;top: 0;bottom: 0;left: 50%;z-index: -1;}#sk-container-id-1 div.sk-parallel-item {display: flex;flex-direction: column;z-index: 1;position: relative;background-color: white;}#sk-container-id-1 div.sk-parallel-item:first-child::after {align-self: flex-end;width: 50%;}#sk-container-id-1 div.sk-parallel-item:last-child::after {align-self: flex-start;width: 50%;}#sk-container-id-1 div.sk-parallel-item:only-child::after {width: 0;}#sk-container-id-1 div.sk-dashed-wrapped {border: 1px dashed gray;margin: 0 0.4em 0.5em 0.4em;box-sizing: border-box;padding-bottom: 0.4em;background-color: white;}#sk-container-id-1 div.sk-label label {font-family: monospace;font-weight: bold;display: inline-block;line-height: 1.2em;}#sk-container-id-1 div.sk-label-container {text-align: center;}#sk-container-id-1 div.sk-container {/* jupyter's `normalize.less` sets `[hidden] { display: none; }` but bootstrap.min.css set `[hidden] { display: none !important; }` so we also need the `!important` here to be able to override the default hidden behavior on the sphinx rendered scikit-learn.org. See: https://github.com/scikit-learn/scikit-learn/issues/21755 */display: inline-block !important;position: relative;}#sk-container-id-1 div.sk-text-repr-fallback {display: none;}</style><div id=\"sk-container-id-1\" class=\"sk-top-container\"><div class=\"sk-text-repr-fallback\"><pre>LogisticRegression()</pre><b>In a Jupyter environment, please rerun this cell to show the HTML representation or trust the notebook. <br />On GitHub, the HTML representation is unable to render, please try loading this page with nbviewer.org.</b></div><div class=\"sk-container\" hidden><div class=\"sk-item\"><div class=\"sk-estimator sk-toggleable\"><input class=\"sk-toggleable__control sk-hidden--visually\" id=\"sk-estimator-id-1\" type=\"checkbox\" checked><label for=\"sk-estimator-id-1\" class=\"sk-toggleable__label sk-toggleable__label-arrow\">LogisticRegression</label><div class=\"sk-toggleable__content\"><pre>LogisticRegression()</pre></div></div></div></div></div>"
      ],
      "text/plain": [
       "LogisticRegression()"
      ]
     },
     "execution_count": 18,
     "metadata": {},
     "output_type": "execute_result"
    }
   ],
   "source": [
    "# training the logistic regression model with the training data\n",
    "model.fit(x_train_features,y_train)"
   ]
  },
  {
   "cell_type": "markdown",
   "id": "e0febe65",
   "metadata": {
    "papermill": {
     "duration": 0.009193,
     "end_time": "2024-11-17T01:28:13.127225",
     "exception": false,
     "start_time": "2024-11-17T01:28:13.118032",
     "status": "completed"
    },
    "tags": []
   },
   "source": [
    "# Evaluating the tained model"
   ]
  },
  {
   "cell_type": "markdown",
   "id": "efc0650e",
   "metadata": {
    "papermill": {
     "duration": 0.009079,
     "end_time": "2024-11-17T01:28:13.146303",
     "exception": false,
     "start_time": "2024-11-17T01:28:13.137224",
     "status": "completed"
    },
    "tags": []
   },
   "source": [
    "## Prediction on training data"
   ]
  },
  {
   "cell_type": "code",
   "execution_count": 19,
   "id": "7c48488f",
   "metadata": {
    "execution": {
     "iopub.execute_input": "2024-11-17T01:28:13.166997Z",
     "iopub.status.busy": "2024-11-17T01:28:13.166566Z",
     "iopub.status.idle": "2024-11-17T01:28:13.174735Z",
     "shell.execute_reply": "2024-11-17T01:28:13.173527Z"
    },
    "papermill": {
     "duration": 0.021292,
     "end_time": "2024-11-17T01:28:13.177251",
     "exception": false,
     "start_time": "2024-11-17T01:28:13.155959",
     "status": "completed"
    },
    "tags": []
   },
   "outputs": [],
   "source": [
    "prediction_training_data = model.predict(x_train_features)\n",
    "accuracy_on_training_data = accuracy_score(y_train,prediction_training_data)"
   ]
  },
  {
   "cell_type": "code",
   "execution_count": 20,
   "id": "a932fc4c",
   "metadata": {
    "execution": {
     "iopub.execute_input": "2024-11-17T01:28:13.198252Z",
     "iopub.status.busy": "2024-11-17T01:28:13.197851Z",
     "iopub.status.idle": "2024-11-17T01:28:13.203612Z",
     "shell.execute_reply": "2024-11-17T01:28:13.202330Z"
    },
    "papermill": {
     "duration": 0.019054,
     "end_time": "2024-11-17T01:28:13.206003",
     "exception": false,
     "start_time": "2024-11-17T01:28:13.186949",
     "status": "completed"
    },
    "tags": []
   },
   "outputs": [
    {
     "name": "stdout",
     "output_type": "stream",
     "text": [
      "Accuracy on training data:  0.9670181736594121\n"
     ]
    }
   ],
   "source": [
    "print(\"Accuracy on training data: \", accuracy_on_training_data)"
   ]
  },
  {
   "cell_type": "markdown",
   "id": "eb9a978e",
   "metadata": {
    "papermill": {
     "duration": 0.009137,
     "end_time": "2024-11-17T01:28:13.224779",
     "exception": false,
     "start_time": "2024-11-17T01:28:13.215642",
     "status": "completed"
    },
    "tags": []
   },
   "source": [
    "## Prediction on testing data"
   ]
  },
  {
   "cell_type": "code",
   "execution_count": 21,
   "id": "3c7346ad",
   "metadata": {
    "execution": {
     "iopub.execute_input": "2024-11-17T01:28:13.245490Z",
     "iopub.status.busy": "2024-11-17T01:28:13.245088Z",
     "iopub.status.idle": "2024-11-17T01:28:13.252066Z",
     "shell.execute_reply": "2024-11-17T01:28:13.251020Z"
    },
    "papermill": {
     "duration": 0.020041,
     "end_time": "2024-11-17T01:28:13.254335",
     "exception": false,
     "start_time": "2024-11-17T01:28:13.234294",
     "status": "completed"
    },
    "tags": []
   },
   "outputs": [],
   "source": [
    "prediction_testing_data = model.predict(x_test_features)\n",
    "accuracy_on_testing_data = accuracy_score(y_test,prediction_testing_data)"
   ]
  },
  {
   "cell_type": "code",
   "execution_count": 22,
   "id": "3f0c09e2",
   "metadata": {
    "execution": {
     "iopub.execute_input": "2024-11-17T01:28:13.275176Z",
     "iopub.status.busy": "2024-11-17T01:28:13.274719Z",
     "iopub.status.idle": "2024-11-17T01:28:13.280765Z",
     "shell.execute_reply": "2024-11-17T01:28:13.279598Z"
    },
    "papermill": {
     "duration": 0.019186,
     "end_time": "2024-11-17T01:28:13.283132",
     "exception": false,
     "start_time": "2024-11-17T01:28:13.263946",
     "status": "completed"
    },
    "tags": []
   },
   "outputs": [
    {
     "name": "stdout",
     "output_type": "stream",
     "text": [
      "Accuracy on testing data:  0.9659192825112107\n"
     ]
    }
   ],
   "source": [
    "print(\"Accuracy on testing data: \", accuracy_on_testing_data)"
   ]
  },
  {
   "cell_type": "markdown",
   "id": "6114a935",
   "metadata": {
    "papermill": {
     "duration": 0.009755,
     "end_time": "2024-11-17T01:28:13.302712",
     "exception": false,
     "start_time": "2024-11-17T01:28:13.292957",
     "status": "completed"
    },
    "tags": []
   },
   "source": [
    "# Building a predictive system"
   ]
  },
  {
   "cell_type": "code",
   "execution_count": 23,
   "id": "8f102780",
   "metadata": {
    "execution": {
     "iopub.execute_input": "2024-11-17T01:28:13.323637Z",
     "iopub.status.busy": "2024-11-17T01:28:13.323199Z",
     "iopub.status.idle": "2024-11-17T01:28:13.333284Z",
     "shell.execute_reply": "2024-11-17T01:28:13.331966Z"
    },
    "papermill": {
     "duration": 0.023436,
     "end_time": "2024-11-17T01:28:13.335779",
     "exception": false,
     "start_time": "2024-11-17T01:28:13.312343",
     "status": "completed"
    },
    "tags": []
   },
   "outputs": [
    {
     "name": "stdout",
     "output_type": "stream",
     "text": [
      "0\n",
      "Be Careful! Its a spam message.\n"
     ]
    }
   ],
   "source": [
    "# input_mail=[\"I've been searching for the right words to thank you for this breather. I promise i wont take your help for granted and will fulfil my promise. You have been wonderful and a blessing at all times\"]\n",
    "input_mail=[\"URGENT! You have won a 1 week FREE membership in our £100,000 Prize Jackpot! Txt the word: CLAIM to No: 81010 T&C www.dbuk.net LCCLTD POBOX 4403LDNW1A7RW18\"]\n",
    "\n",
    "# Convert text to feature vectors\n",
    "input_data_features = feature_extraction.transform(input_mail)\n",
    "\n",
    "# making prediction \n",
    "prediction = model.predict(input_data_features)\n",
    "print (prediction[0])\n",
    "\n",
    "if prediction[0] == 1 :\n",
    "    print('this is Ham message')\n",
    "else: \n",
    "    print('Be Careful! Its a spam message.')"
   ]
  },
  {
   "cell_type": "code",
   "execution_count": null,
   "id": "b85bd350",
   "metadata": {
    "papermill": {
     "duration": 0.009501,
     "end_time": "2024-11-17T01:28:13.355211",
     "exception": false,
     "start_time": "2024-11-17T01:28:13.345710",
     "status": "completed"
    },
    "tags": []
   },
   "outputs": [],
   "source": []
  }
 ],
 "metadata": {
  "kaggle": {
   "accelerator": "none",
   "dataSources": [
    {
     "databundleVersionId": 10186950,
     "datasetId": 1930941,
     "sourceId": 9927350,
     "sourceType": "datasetVersion"
    }
   ],
   "dockerImageVersionId": 30786,
   "isGpuEnabled": false,
   "isInternetEnabled": true,
   "language": "python",
   "sourceType": "notebook"
  },
  "kernelspec": {
   "display_name": "Python 3",
   "language": "python",
   "name": "python3"
  },
  "language_info": {
   "codemirror_mode": {
    "name": "ipython",
    "version": 3
   },
   "file_extension": ".py",
   "mimetype": "text/x-python",
   "name": "python",
   "nbconvert_exporter": "python",
   "pygments_lexer": "ipython3",
   "version": "3.10.14"
  },
  "papermill": {
   "default_parameters": {},
   "duration": 7.469389,
   "end_time": "2024-11-17T01:28:13.987428",
   "environment_variables": {},
   "exception": null,
   "input_path": "__notebook__.ipynb",
   "output_path": "__notebook__.ipynb",
   "parameters": {},
   "start_time": "2024-11-17T01:28:06.518039",
   "version": "2.6.0"
  }
 },
 "nbformat": 4,
 "nbformat_minor": 5
}
