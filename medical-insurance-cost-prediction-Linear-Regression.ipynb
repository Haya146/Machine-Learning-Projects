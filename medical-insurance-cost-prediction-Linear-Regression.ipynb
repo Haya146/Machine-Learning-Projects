{
 "cells": [
  {
   "cell_type": "markdown",
   "id": "9066db43",
   "metadata": {
    "papermill": {
     "duration": 0.014893,
     "end_time": "2024-11-16T06:01:38.866061",
     "exception": false,
     "start_time": "2024-11-16T06:01:38.851168",
     "status": "completed"
    },
    "tags": []
   },
   "source": [
    "## Importing the Dependencies"
   ]
  },
  {
   "cell_type": "code",
   "execution_count": 1,
   "id": "4086c77c",
   "metadata": {
    "_cell_guid": "b1076dfc-b9ad-4769-8c92-a6c4dae69d19",
    "_uuid": "8f2839f25d086af736a60e9eeb907d3b93b6e0e5",
    "execution": {
     "iopub.execute_input": "2024-11-16T06:01:38.901265Z",
     "iopub.status.busy": "2024-11-16T06:01:38.900535Z",
     "iopub.status.idle": "2024-11-16T06:01:43.003689Z",
     "shell.execute_reply": "2024-11-16T06:01:43.002054Z"
    },
    "papermill": {
     "duration": 4.125787,
     "end_time": "2024-11-16T06:01:43.006985",
     "exception": false,
     "start_time": "2024-11-16T06:01:38.881198",
     "status": "completed"
    },
    "tags": []
   },
   "outputs": [],
   "source": [
    "import numpy as np\n",
    "import pandas as pd\n",
    "\n",
    "import matplotlib.pyplot as plt\n",
    "import seaborn as sns \n",
    "sns.set()\n",
    "\n",
    "from sklearn.model_selection import train_test_split \n",
    "from sklearn.linear_model import LinearRegression\n",
    "from sklearn import metrics\n",
    "\n",
    "import warnings \n",
    "warnings.filterwarnings('ignore')"
   ]
  },
  {
   "cell_type": "markdown",
   "id": "ee34c8b8",
   "metadata": {
    "papermill": {
     "duration": 0.013833,
     "end_time": "2024-11-16T06:01:43.036141",
     "exception": false,
     "start_time": "2024-11-16T06:01:43.022308",
     "status": "completed"
    },
    "tags": []
   },
   "source": [
    "## Readig Data"
   ]
  },
  {
   "cell_type": "code",
   "execution_count": 2,
   "id": "e30301e0",
   "metadata": {
    "execution": {
     "iopub.execute_input": "2024-11-16T06:01:43.066891Z",
     "iopub.status.busy": "2024-11-16T06:01:43.066227Z",
     "iopub.status.idle": "2024-11-16T06:01:43.123806Z",
     "shell.execute_reply": "2024-11-16T06:01:43.122076Z"
    },
    "papermill": {
     "duration": 0.0766,
     "end_time": "2024-11-16T06:01:43.126800",
     "exception": false,
     "start_time": "2024-11-16T06:01:43.050200",
     "status": "completed"
    },
    "tags": []
   },
   "outputs": [
    {
     "data": {
      "text/html": [
       "<div>\n",
       "<style scoped>\n",
       "    .dataframe tbody tr th:only-of-type {\n",
       "        vertical-align: middle;\n",
       "    }\n",
       "\n",
       "    .dataframe tbody tr th {\n",
       "        vertical-align: top;\n",
       "    }\n",
       "\n",
       "    .dataframe thead th {\n",
       "        text-align: right;\n",
       "    }\n",
       "</style>\n",
       "<table border=\"1\" class=\"dataframe\">\n",
       "  <thead>\n",
       "    <tr style=\"text-align: right;\">\n",
       "      <th></th>\n",
       "      <th>age</th>\n",
       "      <th>sex</th>\n",
       "      <th>bmi</th>\n",
       "      <th>children</th>\n",
       "      <th>smoker</th>\n",
       "      <th>region</th>\n",
       "      <th>charges</th>\n",
       "    </tr>\n",
       "  </thead>\n",
       "  <tbody>\n",
       "    <tr>\n",
       "      <th>0</th>\n",
       "      <td>19</td>\n",
       "      <td>female</td>\n",
       "      <td>27.900</td>\n",
       "      <td>0</td>\n",
       "      <td>yes</td>\n",
       "      <td>southwest</td>\n",
       "      <td>16884.92400</td>\n",
       "    </tr>\n",
       "    <tr>\n",
       "      <th>1</th>\n",
       "      <td>18</td>\n",
       "      <td>male</td>\n",
       "      <td>33.770</td>\n",
       "      <td>1</td>\n",
       "      <td>no</td>\n",
       "      <td>southeast</td>\n",
       "      <td>1725.55230</td>\n",
       "    </tr>\n",
       "    <tr>\n",
       "      <th>2</th>\n",
       "      <td>28</td>\n",
       "      <td>male</td>\n",
       "      <td>33.000</td>\n",
       "      <td>3</td>\n",
       "      <td>no</td>\n",
       "      <td>southeast</td>\n",
       "      <td>4449.46200</td>\n",
       "    </tr>\n",
       "    <tr>\n",
       "      <th>3</th>\n",
       "      <td>33</td>\n",
       "      <td>male</td>\n",
       "      <td>22.705</td>\n",
       "      <td>0</td>\n",
       "      <td>no</td>\n",
       "      <td>northwest</td>\n",
       "      <td>21984.47061</td>\n",
       "    </tr>\n",
       "    <tr>\n",
       "      <th>4</th>\n",
       "      <td>32</td>\n",
       "      <td>male</td>\n",
       "      <td>28.880</td>\n",
       "      <td>0</td>\n",
       "      <td>no</td>\n",
       "      <td>northwest</td>\n",
       "      <td>3866.85520</td>\n",
       "    </tr>\n",
       "  </tbody>\n",
       "</table>\n",
       "</div>"
      ],
      "text/plain": [
       "   age     sex     bmi  children smoker     region      charges\n",
       "0   19  female  27.900         0    yes  southwest  16884.92400\n",
       "1   18    male  33.770         1     no  southeast   1725.55230\n",
       "2   28    male  33.000         3     no  southeast   4449.46200\n",
       "3   33    male  22.705         0     no  northwest  21984.47061\n",
       "4   32    male  28.880         0     no  northwest   3866.85520"
      ]
     },
     "execution_count": 2,
     "metadata": {},
     "output_type": "execute_result"
    }
   ],
   "source": [
    "df = pd.read_csv('/kaggle/input/insurance/insurance.csv')\n",
    "df.head()"
   ]
  },
  {
   "cell_type": "markdown",
   "id": "f6517405",
   "metadata": {
    "papermill": {
     "duration": 0.014228,
     "end_time": "2024-11-16T06:01:43.155653",
     "exception": false,
     "start_time": "2024-11-16T06:01:43.141425",
     "status": "completed"
    },
    "tags": []
   },
   "source": [
    "## Understand the Data"
   ]
  },
  {
   "cell_type": "code",
   "execution_count": 3,
   "id": "0fb471c2",
   "metadata": {
    "execution": {
     "iopub.execute_input": "2024-11-16T06:01:43.187504Z",
     "iopub.status.busy": "2024-11-16T06:01:43.187020Z",
     "iopub.status.idle": "2024-11-16T06:01:43.195068Z",
     "shell.execute_reply": "2024-11-16T06:01:43.193769Z"
    },
    "papermill": {
     "duration": 0.027954,
     "end_time": "2024-11-16T06:01:43.197840",
     "exception": false,
     "start_time": "2024-11-16T06:01:43.169886",
     "status": "completed"
    },
    "tags": []
   },
   "outputs": [
    {
     "data": {
      "text/plain": [
       "(1338, 7)"
      ]
     },
     "execution_count": 3,
     "metadata": {},
     "output_type": "execute_result"
    }
   ],
   "source": [
    "# Number of rows and columns \n",
    "df.shape"
   ]
  },
  {
   "cell_type": "code",
   "execution_count": 4,
   "id": "70313ed4",
   "metadata": {
    "execution": {
     "iopub.execute_input": "2024-11-16T06:01:43.230316Z",
     "iopub.status.busy": "2024-11-16T06:01:43.229453Z",
     "iopub.status.idle": "2024-11-16T06:01:43.264177Z",
     "shell.execute_reply": "2024-11-16T06:01:43.262857Z"
    },
    "papermill": {
     "duration": 0.054697,
     "end_time": "2024-11-16T06:01:43.267563",
     "exception": false,
     "start_time": "2024-11-16T06:01:43.212866",
     "status": "completed"
    },
    "tags": []
   },
   "outputs": [
    {
     "name": "stdout",
     "output_type": "stream",
     "text": [
      "<class 'pandas.core.frame.DataFrame'>\n",
      "RangeIndex: 1338 entries, 0 to 1337\n",
      "Data columns (total 7 columns):\n",
      " #   Column    Non-Null Count  Dtype  \n",
      "---  ------    --------------  -----  \n",
      " 0   age       1338 non-null   int64  \n",
      " 1   sex       1338 non-null   object \n",
      " 2   bmi       1338 non-null   float64\n",
      " 3   children  1338 non-null   int64  \n",
      " 4   smoker    1338 non-null   object \n",
      " 5   region    1338 non-null   object \n",
      " 6   charges   1338 non-null   float64\n",
      "dtypes: float64(2), int64(2), object(3)\n",
      "memory usage: 73.3+ KB\n"
     ]
    }
   ],
   "source": [
    "# Getting some informations about the dataset\n",
    "df.info()"
   ]
  },
  {
   "cell_type": "markdown",
   "id": "8d50f89c",
   "metadata": {
    "papermill": {
     "duration": 0.014671,
     "end_time": "2024-11-16T06:01:43.297616",
     "exception": false,
     "start_time": "2024-11-16T06:01:43.282945",
     "status": "completed"
    },
    "tags": []
   },
   "source": [
    "Categorical Features:\n",
    "* Sex\n",
    "* Smoker\n",
    "* Reigon"
   ]
  },
  {
   "cell_type": "code",
   "execution_count": 5,
   "id": "3d9c6481",
   "metadata": {
    "execution": {
     "iopub.execute_input": "2024-11-16T06:01:43.328879Z",
     "iopub.status.busy": "2024-11-16T06:01:43.328416Z",
     "iopub.status.idle": "2024-11-16T06:01:43.338393Z",
     "shell.execute_reply": "2024-11-16T06:01:43.337370Z"
    },
    "papermill": {
     "duration": 0.028499,
     "end_time": "2024-11-16T06:01:43.340837",
     "exception": false,
     "start_time": "2024-11-16T06:01:43.312338",
     "status": "completed"
    },
    "tags": []
   },
   "outputs": [
    {
     "data": {
      "text/plain": [
       "age         0\n",
       "sex         0\n",
       "bmi         0\n",
       "children    0\n",
       "smoker      0\n",
       "region      0\n",
       "charges     0\n",
       "dtype: int64"
      ]
     },
     "execution_count": 5,
     "metadata": {},
     "output_type": "execute_result"
    }
   ],
   "source": [
    "# Checking for missing values\n",
    "df.isnull().sum()"
   ]
  },
  {
   "cell_type": "markdown",
   "id": "2ea4c93d",
   "metadata": {
    "papermill": {
     "duration": 0.014474,
     "end_time": "2024-11-16T06:01:43.370271",
     "exception": false,
     "start_time": "2024-11-16T06:01:43.355797",
     "status": "completed"
    },
    "tags": []
   },
   "source": [
    "## EDA"
   ]
  },
  {
   "cell_type": "code",
   "execution_count": 6,
   "id": "1e09b6b8",
   "metadata": {
    "execution": {
     "iopub.execute_input": "2024-11-16T06:01:43.401757Z",
     "iopub.status.busy": "2024-11-16T06:01:43.401265Z",
     "iopub.status.idle": "2024-11-16T06:01:43.435074Z",
     "shell.execute_reply": "2024-11-16T06:01:43.433900Z"
    },
    "papermill": {
     "duration": 0.052788,
     "end_time": "2024-11-16T06:01:43.437816",
     "exception": false,
     "start_time": "2024-11-16T06:01:43.385028",
     "status": "completed"
    },
    "tags": []
   },
   "outputs": [
    {
     "data": {
      "text/html": [
       "<div>\n",
       "<style scoped>\n",
       "    .dataframe tbody tr th:only-of-type {\n",
       "        vertical-align: middle;\n",
       "    }\n",
       "\n",
       "    .dataframe tbody tr th {\n",
       "        vertical-align: top;\n",
       "    }\n",
       "\n",
       "    .dataframe thead th {\n",
       "        text-align: right;\n",
       "    }\n",
       "</style>\n",
       "<table border=\"1\" class=\"dataframe\">\n",
       "  <thead>\n",
       "    <tr style=\"text-align: right;\">\n",
       "      <th></th>\n",
       "      <th>count</th>\n",
       "      <th>mean</th>\n",
       "      <th>std</th>\n",
       "      <th>min</th>\n",
       "      <th>25%</th>\n",
       "      <th>50%</th>\n",
       "      <th>75%</th>\n",
       "      <th>max</th>\n",
       "    </tr>\n",
       "  </thead>\n",
       "  <tbody>\n",
       "    <tr>\n",
       "      <th>age</th>\n",
       "      <td>1338.0</td>\n",
       "      <td>39.207025</td>\n",
       "      <td>14.049960</td>\n",
       "      <td>18.0000</td>\n",
       "      <td>27.00000</td>\n",
       "      <td>39.000</td>\n",
       "      <td>51.000000</td>\n",
       "      <td>64.00000</td>\n",
       "    </tr>\n",
       "    <tr>\n",
       "      <th>bmi</th>\n",
       "      <td>1338.0</td>\n",
       "      <td>30.663397</td>\n",
       "      <td>6.098187</td>\n",
       "      <td>15.9600</td>\n",
       "      <td>26.29625</td>\n",
       "      <td>30.400</td>\n",
       "      <td>34.693750</td>\n",
       "      <td>53.13000</td>\n",
       "    </tr>\n",
       "    <tr>\n",
       "      <th>children</th>\n",
       "      <td>1338.0</td>\n",
       "      <td>1.094918</td>\n",
       "      <td>1.205493</td>\n",
       "      <td>0.0000</td>\n",
       "      <td>0.00000</td>\n",
       "      <td>1.000</td>\n",
       "      <td>2.000000</td>\n",
       "      <td>5.00000</td>\n",
       "    </tr>\n",
       "    <tr>\n",
       "      <th>charges</th>\n",
       "      <td>1338.0</td>\n",
       "      <td>13270.422265</td>\n",
       "      <td>12110.011237</td>\n",
       "      <td>1121.8739</td>\n",
       "      <td>4740.28715</td>\n",
       "      <td>9382.033</td>\n",
       "      <td>16639.912515</td>\n",
       "      <td>63770.42801</td>\n",
       "    </tr>\n",
       "  </tbody>\n",
       "</table>\n",
       "</div>"
      ],
      "text/plain": [
       "           count          mean           std        min         25%       50%  \\\n",
       "age       1338.0     39.207025     14.049960    18.0000    27.00000    39.000   \n",
       "bmi       1338.0     30.663397      6.098187    15.9600    26.29625    30.400   \n",
       "children  1338.0      1.094918      1.205493     0.0000     0.00000     1.000   \n",
       "charges   1338.0  13270.422265  12110.011237  1121.8739  4740.28715  9382.033   \n",
       "\n",
       "                   75%          max  \n",
       "age          51.000000     64.00000  \n",
       "bmi          34.693750     53.13000  \n",
       "children      2.000000      5.00000  \n",
       "charges   16639.912515  63770.42801  "
      ]
     },
     "execution_count": 6,
     "metadata": {},
     "output_type": "execute_result"
    }
   ],
   "source": [
    "# Statistical Measures of the dataset\n",
    "df.describe().T"
   ]
  },
  {
   "cell_type": "code",
   "execution_count": 7,
   "id": "1373f784",
   "metadata": {
    "execution": {
     "iopub.execute_input": "2024-11-16T06:01:43.470615Z",
     "iopub.status.busy": "2024-11-16T06:01:43.470167Z",
     "iopub.status.idle": "2024-11-16T06:01:44.038725Z",
     "shell.execute_reply": "2024-11-16T06:01:44.037207Z"
    },
    "papermill": {
     "duration": 0.590258,
     "end_time": "2024-11-16T06:01:44.043398",
     "exception": false,
     "start_time": "2024-11-16T06:01:43.453140",
     "status": "completed"
    },
    "tags": []
   },
   "outputs": [
    {
     "data": {
      "image/png": "[encoded data removed]",
      "text/plain": [
       "<Figure size 600x600 with 1 Axes>"
      ]
     },
     "metadata": {},
     "output_type": "display_data"
    }
   ],
   "source": [
    "# Destribution of age value\n",
    "plt.figure(figsize=(6,6))\n",
    "sns.distplot(df['age'])\n",
    "plt.title('Age Distribution')\n",
    "plt.show()"
   ]
  },
  {
   "cell_type": "code",
   "execution_count": 8,
   "id": "d4fccf2d",
   "metadata": {
    "execution": {
     "iopub.execute_input": "2024-11-16T06:01:44.092945Z",
     "iopub.status.busy": "2024-11-16T06:01:44.092449Z",
     "iopub.status.idle": "2024-11-16T06:01:44.385016Z",
     "shell.execute_reply": "2024-11-16T06:01:44.383696Z"
    },
    "papermill": {
     "duration": 0.317209,
     "end_time": "2024-11-16T06:01:44.387505",
     "exception": false,
     "start_time": "2024-11-16T06:01:44.070296",
     "status": "completed"
    },
    "tags": []
   },
   "outputs": [
    {
     "data": {
      "image/png": "[encoded data removed]",
      "text/plain": [
       "<Figure size 600x600 with 1 Axes>"
      ]
     },
     "metadata": {},
     "output_type": "display_data"
    }
   ],
   "source": [
    "# Gender Column \n",
    "plt.figure(figsize= (6,6))\n",
    "sns.countplot(x= 'sex', data= df)\n",
    "plt.title('Sex')\n",
    "plt.show()"
   ]
  },
  {
   "cell_type": "code",
   "execution_count": 9,
   "id": "be5582d8",
   "metadata": {
    "execution": {
     "iopub.execute_input": "2024-11-16T06:01:44.424317Z",
     "iopub.status.busy": "2024-11-16T06:01:44.423902Z",
     "iopub.status.idle": "2024-11-16T06:01:44.434032Z",
     "shell.execute_reply": "2024-11-16T06:01:44.432776Z"
    },
    "papermill": {
     "duration": 0.031748,
     "end_time": "2024-11-16T06:01:44.436520",
     "exception": false,
     "start_time": "2024-11-16T06:01:44.404772",
     "status": "completed"
    },
    "tags": []
   },
   "outputs": [
    {
     "data": {
      "text/plain": [
       "sex\n",
       "male      676\n",
       "female    662\n",
       "Name: count, dtype: int64"
      ]
     },
     "execution_count": 9,
     "metadata": {},
     "output_type": "execute_result"
    }
   ],
   "source": [
    "df['sex'].value_counts()"
   ]
  },
  {
   "cell_type": "code",
   "execution_count": 10,
   "id": "329a90c0",
   "metadata": {
    "execution": {
     "iopub.execute_input": "2024-11-16T06:01:44.471265Z",
     "iopub.status.busy": "2024-11-16T06:01:44.470835Z",
     "iopub.status.idle": "2024-11-16T06:01:44.959759Z",
     "shell.execute_reply": "2024-11-16T06:01:44.958207Z"
    },
    "papermill": {
     "duration": 0.509775,
     "end_time": "2024-11-16T06:01:44.962766",
     "exception": false,
     "start_time": "2024-11-16T06:01:44.452991",
     "status": "completed"
    },
    "tags": []
   },
   "outputs": [
    {
     "data": {
      "image/png": "[encoded data removed]",
      "text/plain": [
       "<Figure size 640x480 with 1 Axes>"
      ]
     },
     "metadata": {},
     "output_type": "display_data"
    }
   ],
   "source": [
    "sns.distplot(df['bmi'])\n",
    "plt.title('BMI Distribution')\n",
    "plt.show()"
   ]
  },
  {
   "cell_type": "markdown",
   "id": "3db7e65d",
   "metadata": {
    "papermill": {
     "duration": 0.018126,
     "end_time": "2024-11-16T06:01:44.999254",
     "exception": false,
     "start_time": "2024-11-16T06:01:44.981128",
     "status": "completed"
    },
    "tags": []
   },
   "source": [
    "Normal BMI Range --> 18.5 to 24.9"
   ]
  },
  {
   "cell_type": "code",
   "execution_count": 11,
   "id": "e8954771",
   "metadata": {
    "execution": {
     "iopub.execute_input": "2024-11-16T06:01:45.037036Z",
     "iopub.status.busy": "2024-11-16T06:01:45.036585Z",
     "iopub.status.idle": "2024-11-16T06:01:45.328964Z",
     "shell.execute_reply": "2024-11-16T06:01:45.327685Z"
    },
    "papermill": {
     "duration": 0.314336,
     "end_time": "2024-11-16T06:01:45.331723",
     "exception": false,
     "start_time": "2024-11-16T06:01:45.017387",
     "status": "completed"
    },
    "tags": []
   },
   "outputs": [
    {
     "data": {
      "image/png": "[encoded data removed]",
      "text/plain": [
       "<Figure size 600x600 with 1 Axes>"
      ]
     },
     "metadata": {},
     "output_type": "display_data"
    }
   ],
   "source": [
    "# Children Column \n",
    "plt.figure(figsize= (6,6))\n",
    "sns.countplot(x= 'children', data= df)\n",
    "plt.title('Children')\n",
    "plt.show()"
   ]
  },
  {
   "cell_type": "code",
   "execution_count": 12,
   "id": "9230babb",
   "metadata": {
    "execution": {
     "iopub.execute_input": "2024-11-16T06:01:45.368315Z",
     "iopub.status.busy": "2024-11-16T06:01:45.367818Z",
     "iopub.status.idle": "2024-11-16T06:01:45.380644Z",
     "shell.execute_reply": "2024-11-16T06:01:45.379323Z"
    },
    "papermill": {
     "duration": 0.034408,
     "end_time": "2024-11-16T06:01:45.383529",
     "exception": false,
     "start_time": "2024-11-16T06:01:45.349121",
     "status": "completed"
    },
    "tags": []
   },
   "outputs": [
    {
     "data": {
      "text/plain": [
       "children\n",
       "0    574\n",
       "1    324\n",
       "2    240\n",
       "3    157\n",
       "4     25\n",
       "5     18\n",
       "Name: count, dtype: int64"
      ]
     },
     "execution_count": 12,
     "metadata": {},
     "output_type": "execute_result"
    }
   ],
   "source": [
    "df['children'].value_counts()"
   ]
  },
  {
   "cell_type": "code",
   "execution_count": 13,
   "id": "af771fa5",
   "metadata": {
    "execution": {
     "iopub.execute_input": "2024-11-16T06:01:45.422128Z",
     "iopub.status.busy": "2024-11-16T06:01:45.421694Z",
     "iopub.status.idle": "2024-11-16T06:01:45.637385Z",
     "shell.execute_reply": "2024-11-16T06:01:45.635885Z"
    },
    "papermill": {
     "duration": 0.238218,
     "end_time": "2024-11-16T06:01:45.640284",
     "exception": false,
     "start_time": "2024-11-16T06:01:45.402066",
     "status": "completed"
    },
    "tags": []
   },
   "outputs": [
    {
     "data": {
      "image/png": "[encoded data removed]",
      "text/plain": [
       "<Figure size 600x600 with 1 Axes>"
      ]
     },
     "metadata": {},
     "output_type": "display_data"
    }
   ],
   "source": [
    "# Smoker Column \n",
    "plt.figure(figsize= (6,6))\n",
    "sns.countplot(x= 'smoker', data= df)\n",
    "plt.title('Smoker')\n",
    "plt.show()"
   ]
  },
  {
   "cell_type": "code",
   "execution_count": 14,
   "id": "a85060b7",
   "metadata": {
    "execution": {
     "iopub.execute_input": "2024-11-16T06:01:45.679211Z",
     "iopub.status.busy": "2024-11-16T06:01:45.678774Z",
     "iopub.status.idle": "2024-11-16T06:01:45.690181Z",
     "shell.execute_reply": "2024-11-16T06:01:45.688664Z"
    },
    "papermill": {
     "duration": 0.034209,
     "end_time": "2024-11-16T06:01:45.693115",
     "exception": false,
     "start_time": "2024-11-16T06:01:45.658906",
     "status": "completed"
    },
    "tags": []
   },
   "outputs": [
    {
     "data": {
      "text/plain": [
       "smoker\n",
       "no     1064\n",
       "yes     274\n",
       "Name: count, dtype: int64"
      ]
     },
     "execution_count": 14,
     "metadata": {},
     "output_type": "execute_result"
    }
   ],
   "source": [
    "df['smoker'].value_counts()"
   ]
  },
  {
   "cell_type": "code",
   "execution_count": 15,
   "id": "831d867b",
   "metadata": {
    "execution": {
     "iopub.execute_input": "2024-11-16T06:01:45.732138Z",
     "iopub.status.busy": "2024-11-16T06:01:45.731679Z",
     "iopub.status.idle": "2024-11-16T06:01:46.088345Z",
     "shell.execute_reply": "2024-11-16T06:01:46.086945Z"
    },
    "papermill": {
     "duration": 0.380258,
     "end_time": "2024-11-16T06:01:46.091426",
     "exception": false,
     "start_time": "2024-11-16T06:01:45.711168",
     "status": "completed"
    },
    "tags": []
   },
   "outputs": [
    {
     "data": {
      "image/png": "[encoded data removed]",
      "text/plain": [
       "<Figure size 600x600 with 1 Axes>"
      ]
     },
     "metadata": {},
     "output_type": "display_data"
    }
   ],
   "source": [
    "# Reigon Column \n",
    "plt.figure(figsize= (6,6))\n",
    "sns.countplot(x= 'region', data= df)\n",
    "plt.title('Region')\n",
    "plt.show()"
   ]
  },
  {
   "cell_type": "code",
   "execution_count": 16,
   "id": "4b19f106",
   "metadata": {
    "execution": {
     "iopub.execute_input": "2024-11-16T06:01:46.133566Z",
     "iopub.status.busy": "2024-11-16T06:01:46.133086Z",
     "iopub.status.idle": "2024-11-16T06:01:46.149191Z",
     "shell.execute_reply": "2024-11-16T06:01:46.147686Z"
    },
    "papermill": {
     "duration": 0.040558,
     "end_time": "2024-11-16T06:01:46.152142",
     "exception": false,
     "start_time": "2024-11-16T06:01:46.111584",
     "status": "completed"
    },
    "tags": []
   },
   "outputs": [
    {
     "data": {
      "text/plain": [
       "region\n",
       "southeast    364\n",
       "southwest    325\n",
       "northwest    325\n",
       "northeast    324\n",
       "Name: count, dtype: int64"
      ]
     },
     "execution_count": 16,
     "metadata": {},
     "output_type": "execute_result"
    }
   ],
   "source": [
    "df['region'].value_counts()"
   ]
  },
  {
   "cell_type": "code",
   "execution_count": 17,
   "id": "44620c5c",
   "metadata": {
    "execution": {
     "iopub.execute_input": "2024-11-16T06:01:46.192562Z",
     "iopub.status.busy": "2024-11-16T06:01:46.192036Z",
     "iopub.status.idle": "2024-11-16T06:01:46.791176Z",
     "shell.execute_reply": "2024-11-16T06:01:46.789870Z"
    },
    "papermill": {
     "duration": 0.623201,
     "end_time": "2024-11-16T06:01:46.794388",
     "exception": false,
     "start_time": "2024-11-16T06:01:46.171187",
     "status": "completed"
    },
    "tags": []
   },
   "outputs": [
    {
     "data": {
      "image/png": "[encoded data removed]",
      "text/plain": [
       "<Figure size 640x480 with 1 Axes>"
      ]
     },
     "metadata": {},
     "output_type": "display_data"
    }
   ],
   "source": [
    "sns.distplot(df['charges'])\n",
    "plt.title('Charges Distribution')\n",
    "plt.show()"
   ]
  },
  {
   "cell_type": "markdown",
   "id": "6e598b50",
   "metadata": {
    "papermill": {
     "duration": 0.019733,
     "end_time": "2024-11-16T06:01:46.833734",
     "exception": false,
     "start_time": "2024-11-16T06:01:46.814001",
     "status": "completed"
    },
    "tags": []
   },
   "source": [
    "## Data Preprocessing"
   ]
  },
  {
   "cell_type": "markdown",
   "id": "7c3fdfcc",
   "metadata": {
    "papermill": {
     "duration": 0.019567,
     "end_time": "2024-11-16T06:01:46.873117",
     "exception": false,
     "start_time": "2024-11-16T06:01:46.853550",
     "status": "completed"
    },
    "tags": []
   },
   "source": [
    "### Encoding the catogerical features"
   ]
  },
  {
   "cell_type": "code",
   "execution_count": 18,
   "id": "4cdaca87",
   "metadata": {
    "execution": {
     "iopub.execute_input": "2024-11-16T06:01:46.915573Z",
     "iopub.status.busy": "2024-11-16T06:01:46.915141Z",
     "iopub.status.idle": "2024-11-16T06:01:46.932855Z",
     "shell.execute_reply": "2024-11-16T06:01:46.931570Z"
    },
    "papermill": {
     "duration": 0.043157,
     "end_time": "2024-11-16T06:01:46.936212",
     "exception": false,
     "start_time": "2024-11-16T06:01:46.893055",
     "status": "completed"
    },
    "tags": []
   },
   "outputs": [],
   "source": [
    "# Encoding sex column \n",
    "df.replace({'sex':{'male':0, 'female':1}},inplace= True)\n",
    "\n",
    "# Encoding smoker column \n",
    "df.replace({'smoker':{'yes':0, 'no':1}},inplace= True)\n",
    "\n",
    "# Encoding smoker column \n",
    "df.replace({'region':{'southeast':0, 'southwest':1, 'northeast':2, 'northwest':3}},inplace= True)"
   ]
  },
  {
   "cell_type": "markdown",
   "id": "90d96f40",
   "metadata": {
    "papermill": {
     "duration": 0.01961,
     "end_time": "2024-11-16T06:01:46.980134",
     "exception": false,
     "start_time": "2024-11-16T06:01:46.960524",
     "status": "completed"
    },
    "tags": []
   },
   "source": [
    "### Spliting the Features and Target"
   ]
  },
  {
   "cell_type": "code",
   "execution_count": 19,
   "id": "aeb89716",
   "metadata": {
    "execution": {
     "iopub.execute_input": "2024-11-16T06:01:47.021649Z",
     "iopub.status.busy": "2024-11-16T06:01:47.020493Z",
     "iopub.status.idle": "2024-11-16T06:01:47.029144Z",
     "shell.execute_reply": "2024-11-16T06:01:47.027878Z"
    },
    "papermill": {
     "duration": 0.032275,
     "end_time": "2024-11-16T06:01:47.031648",
     "exception": false,
     "start_time": "2024-11-16T06:01:46.999373",
     "status": "completed"
    },
    "tags": []
   },
   "outputs": [],
   "source": [
    "x = df.drop(columns= 'charges',axis=1)\n",
    "y= df['charges']"
   ]
  },
  {
   "cell_type": "code",
   "execution_count": 20,
   "id": "c346f34c",
   "metadata": {
    "execution": {
     "iopub.execute_input": "2024-11-16T06:01:47.073643Z",
     "iopub.status.busy": "2024-11-16T06:01:47.073076Z",
     "iopub.status.idle": "2024-11-16T06:01:47.093130Z",
     "shell.execute_reply": "2024-11-16T06:01:47.091863Z"
    },
    "papermill": {
     "duration": 0.044017,
     "end_time": "2024-11-16T06:01:47.095657",
     "exception": false,
     "start_time": "2024-11-16T06:01:47.051640",
     "status": "completed"
    },
    "tags": []
   },
   "outputs": [
    {
     "data": {
      "text/html": [
       "<div>\n",
       "<style scoped>\n",
       "    .dataframe tbody tr th:only-of-type {\n",
       "        vertical-align: middle;\n",
       "    }\n",
       "\n",
       "    .dataframe tbody tr th {\n",
       "        vertical-align: top;\n",
       "    }\n",
       "\n",
       "    .dataframe thead th {\n",
       "        text-align: right;\n",
       "    }\n",
       "</style>\n",
       "<table border=\"1\" class=\"dataframe\">\n",
       "  <thead>\n",
       "    <tr style=\"text-align: right;\">\n",
       "      <th></th>\n",
       "      <th>age</th>\n",
       "      <th>sex</th>\n",
       "      <th>bmi</th>\n",
       "      <th>children</th>\n",
       "      <th>smoker</th>\n",
       "      <th>region</th>\n",
       "    </tr>\n",
       "  </thead>\n",
       "  <tbody>\n",
       "    <tr>\n",
       "      <th>0</th>\n",
       "      <td>19</td>\n",
       "      <td>1</td>\n",
       "      <td>27.900</td>\n",
       "      <td>0</td>\n",
       "      <td>0</td>\n",
       "      <td>1</td>\n",
       "    </tr>\n",
       "    <tr>\n",
       "      <th>1</th>\n",
       "      <td>18</td>\n",
       "      <td>0</td>\n",
       "      <td>33.770</td>\n",
       "      <td>1</td>\n",
       "      <td>1</td>\n",
       "      <td>0</td>\n",
       "    </tr>\n",
       "    <tr>\n",
       "      <th>2</th>\n",
       "      <td>28</td>\n",
       "      <td>0</td>\n",
       "      <td>33.000</td>\n",
       "      <td>3</td>\n",
       "      <td>1</td>\n",
       "      <td>0</td>\n",
       "    </tr>\n",
       "    <tr>\n",
       "      <th>3</th>\n",
       "      <td>33</td>\n",
       "      <td>0</td>\n",
       "      <td>22.705</td>\n",
       "      <td>0</td>\n",
       "      <td>1</td>\n",
       "      <td>3</td>\n",
       "    </tr>\n",
       "    <tr>\n",
       "      <th>4</th>\n",
       "      <td>32</td>\n",
       "      <td>0</td>\n",
       "      <td>28.880</td>\n",
       "      <td>0</td>\n",
       "      <td>1</td>\n",
       "      <td>3</td>\n",
       "    </tr>\n",
       "    <tr>\n",
       "      <th>...</th>\n",
       "      <td>...</td>\n",
       "      <td>...</td>\n",
       "      <td>...</td>\n",
       "      <td>...</td>\n",
       "      <td>...</td>\n",
       "      <td>...</td>\n",
       "    </tr>\n",
       "    <tr>\n",
       "      <th>1333</th>\n",
       "      <td>50</td>\n",
       "      <td>0</td>\n",
       "      <td>30.970</td>\n",
       "      <td>3</td>\n",
       "      <td>1</td>\n",
       "      <td>3</td>\n",
       "    </tr>\n",
       "    <tr>\n",
       "      <th>1334</th>\n",
       "      <td>18</td>\n",
       "      <td>1</td>\n",
       "      <td>31.920</td>\n",
       "      <td>0</td>\n",
       "      <td>1</td>\n",
       "      <td>2</td>\n",
       "    </tr>\n",
       "    <tr>\n",
       "      <th>1335</th>\n",
       "      <td>18</td>\n",
       "      <td>1</td>\n",
       "      <td>36.850</td>\n",
       "      <td>0</td>\n",
       "      <td>1</td>\n",
       "      <td>0</td>\n",
       "    </tr>\n",
       "    <tr>\n",
       "      <th>1336</th>\n",
       "      <td>21</td>\n",
       "      <td>1</td>\n",
       "      <td>25.800</td>\n",
       "      <td>0</td>\n",
       "      <td>1</td>\n",
       "      <td>1</td>\n",
       "    </tr>\n",
       "    <tr>\n",
       "      <th>1337</th>\n",
       "      <td>61</td>\n",
       "      <td>1</td>\n",
       "      <td>29.070</td>\n",
       "      <td>0</td>\n",
       "      <td>0</td>\n",
       "      <td>3</td>\n",
       "    </tr>\n",
       "  </tbody>\n",
       "</table>\n",
       "<p>1338 rows × 6 columns</p>\n",
       "</div>"
      ],
      "text/plain": [
       "      age  sex     bmi  children  smoker  region\n",
       "0      19    1  27.900         0       0       1\n",
       "1      18    0  33.770         1       1       0\n",
       "2      28    0  33.000         3       1       0\n",
       "3      33    0  22.705         0       1       3\n",
       "4      32    0  28.880         0       1       3\n",
       "...   ...  ...     ...       ...     ...     ...\n",
       "1333   50    0  30.970         3       1       3\n",
       "1334   18    1  31.920         0       1       2\n",
       "1335   18    1  36.850         0       1       0\n",
       "1336   21    1  25.800         0       1       1\n",
       "1337   61    1  29.070         0       0       3\n",
       "\n",
       "[1338 rows x 6 columns]"
      ]
     },
     "execution_count": 20,
     "metadata": {},
     "output_type": "execute_result"
    }
   ],
   "source": [
    "x # Features"
   ]
  },
  {
   "cell_type": "code",
   "execution_count": 21,
   "id": "25d476da",
   "metadata": {
    "execution": {
     "iopub.execute_input": "2024-11-16T06:01:47.138490Z",
     "iopub.status.busy": "2024-11-16T06:01:47.137895Z",
     "iopub.status.idle": "2024-11-16T06:01:47.150003Z",
     "shell.execute_reply": "2024-11-16T06:01:47.148526Z"
    },
    "papermill": {
     "duration": 0.037314,
     "end_time": "2024-11-16T06:01:47.152872",
     "exception": false,
     "start_time": "2024-11-16T06:01:47.115558",
     "status": "completed"
    },
    "tags": []
   },
   "outputs": [
    {
     "data": {
      "text/plain": [
       "0       16884.92400\n",
       "1        1725.55230\n",
       "2        4449.46200\n",
       "3       21984.47061\n",
       "4        3866.85520\n",
       "           ...     \n",
       "1333    10600.54830\n",
       "1334     2205.98080\n",
       "1335     1629.83350\n",
       "1336     2007.94500\n",
       "1337    29141.36030\n",
       "Name: charges, Length: 1338, dtype: float64"
      ]
     },
     "execution_count": 21,
     "metadata": {},
     "output_type": "execute_result"
    }
   ],
   "source": [
    "y # Target"
   ]
  },
  {
   "cell_type": "markdown",
   "id": "306261f0",
   "metadata": {
    "papermill": {
     "duration": 0.019915,
     "end_time": "2024-11-16T06:01:47.193380",
     "exception": false,
     "start_time": "2024-11-16T06:01:47.173465",
     "status": "completed"
    },
    "tags": []
   },
   "source": [
    "### Splitting the data into Training Data & Testing Data"
   ]
  },
  {
   "cell_type": "code",
   "execution_count": 22,
   "id": "3c7b3dea",
   "metadata": {
    "execution": {
     "iopub.execute_input": "2024-11-16T06:01:47.236944Z",
     "iopub.status.busy": "2024-11-16T06:01:47.235586Z",
     "iopub.status.idle": "2024-11-16T06:01:47.247304Z",
     "shell.execute_reply": "2024-11-16T06:01:47.246059Z"
    },
    "papermill": {
     "duration": 0.036929,
     "end_time": "2024-11-16T06:01:47.250309",
     "exception": false,
     "start_time": "2024-11-16T06:01:47.213380",
     "status": "completed"
    },
    "tags": []
   },
   "outputs": [],
   "source": [
    "x_train, x_test, y_train, y_test = train_test_split(x,y,  test_size= 0.2, random_state=2)"
   ]
  },
  {
   "cell_type": "code",
   "execution_count": 23,
   "id": "c6c7417a",
   "metadata": {
    "execution": {
     "iopub.execute_input": "2024-11-16T06:01:47.292719Z",
     "iopub.status.busy": "2024-11-16T06:01:47.292142Z",
     "iopub.status.idle": "2024-11-16T06:01:47.299514Z",
     "shell.execute_reply": "2024-11-16T06:01:47.298226Z"
    },
    "papermill": {
     "duration": 0.032565,
     "end_time": "2024-11-16T06:01:47.302908",
     "exception": false,
     "start_time": "2024-11-16T06:01:47.270343",
     "status": "completed"
    },
    "tags": []
   },
   "outputs": [
    {
     "name": "stdout",
     "output_type": "stream",
     "text": [
      "(1338, 6)\n",
      "(1070, 6)\n",
      "(268, 6)\n"
     ]
    }
   ],
   "source": [
    "print(x.shape)\n",
    "print(x_train.shape)\n",
    "print(x_test.shape)"
   ]
  },
  {
   "cell_type": "code",
   "execution_count": 24,
   "id": "1a471e26",
   "metadata": {
    "execution": {
     "iopub.execute_input": "2024-11-16T06:01:47.347825Z",
     "iopub.status.busy": "2024-11-16T06:01:47.347253Z",
     "iopub.status.idle": "2024-11-16T06:01:47.354650Z",
     "shell.execute_reply": "2024-11-16T06:01:47.353279Z"
    },
    "papermill": {
     "duration": 0.033534,
     "end_time": "2024-11-16T06:01:47.357229",
     "exception": false,
     "start_time": "2024-11-16T06:01:47.323695",
     "status": "completed"
    },
    "tags": []
   },
   "outputs": [
    {
     "name": "stdout",
     "output_type": "stream",
     "text": [
      "(1338,)\n",
      "(1070,)\n",
      "(268,)\n"
     ]
    }
   ],
   "source": [
    "print(y.shape)\n",
    "print(y_train.shape)\n",
    "print(y_test.shape)"
   ]
  },
  {
   "cell_type": "markdown",
   "id": "5ddd0342",
   "metadata": {
    "papermill": {
     "duration": 0.02002,
     "end_time": "2024-11-16T06:01:47.398102",
     "exception": false,
     "start_time": "2024-11-16T06:01:47.378082",
     "status": "completed"
    },
    "tags": []
   },
   "source": [
    "## Model Training"
   ]
  },
  {
   "cell_type": "markdown",
   "id": "77e33519",
   "metadata": {
    "papermill": {
     "duration": 0.020063,
     "end_time": "2024-11-16T06:01:47.438624",
     "exception": false,
     "start_time": "2024-11-16T06:01:47.418561",
     "status": "completed"
    },
    "tags": []
   },
   "source": [
    "### Loading the linear regression model"
   ]
  },
  {
   "cell_type": "code",
   "execution_count": 25,
   "id": "437c8247",
   "metadata": {
    "execution": {
     "iopub.execute_input": "2024-11-16T06:01:47.482247Z",
     "iopub.status.busy": "2024-11-16T06:01:47.481690Z",
     "iopub.status.idle": "2024-11-16T06:01:47.488093Z",
     "shell.execute_reply": "2024-11-16T06:01:47.486732Z"
    },
    "papermill": {
     "duration": 0.030876,
     "end_time": "2024-11-16T06:01:47.490778",
     "exception": false,
     "start_time": "2024-11-16T06:01:47.459902",
     "status": "completed"
    },
    "tags": []
   },
   "outputs": [],
   "source": [
    " regressor = LinearRegression()"
   ]
  },
  {
   "cell_type": "code",
   "execution_count": 26,
   "id": "51920918",
   "metadata": {
    "execution": {
     "iopub.execute_input": "2024-11-16T06:01:47.533982Z",
     "iopub.status.busy": "2024-11-16T06:01:47.533404Z",
     "iopub.status.idle": "2024-11-16T06:01:47.570322Z",
     "shell.execute_reply": "2024-11-16T06:01:47.568720Z"
    },
    "papermill": {
     "duration": 0.062798,
     "end_time": "2024-11-16T06:01:47.573851",
     "exception": false,
     "start_time": "2024-11-16T06:01:47.511053",
     "status": "completed"
    },
    "tags": []
   },
   "outputs": [
    {
     "data": {
      "text/html": [
       "<style>#sk-container-id-1 {color: black;background-color: white;}#sk-container-id-1 pre{padding: 0;}#sk-container-id-1 div.sk-toggleable {background-color: white;}#sk-container-id-1 label.sk-toggleable__label {cursor: pointer;display: block;width: 100%;margin-bottom: 0;padding: 0.3em;box-sizing: border-box;text-align: center;}#sk-container-id-1 label.sk-toggleable__label-arrow:before {content: \"▸\";float: left;margin-right: 0.25em;color: #696969;}#sk-container-id-1 label.sk-toggleable__label-arrow:hover:before {color: black;}#sk-container-id-1 div.sk-estimator:hover label.sk-toggleable__label-arrow:before {color: black;}#sk-container-id-1 div.sk-toggleable__content {max-height: 0;max-width: 0;overflow: hidden;text-align: left;background-color: #f0f8ff;}#sk-container-id-1 div.sk-toggleable__content pre {margin: 0.2em;color: black;border-radius: 0.25em;background-color: #f0f8ff;}#sk-container-id-1 input.sk-toggleable__control:checked~div.sk-toggleable__content {max-height: 200px;max-width: 100%;overflow: auto;}#sk-container-id-1 input.sk-toggleable__control:checked~label.sk-toggleable__label-arrow:before {content: \"▾\";}#sk-container-id-1 div.sk-estimator input.sk-toggleable__control:checked~label.sk-toggleable__label {background-color: #d4ebff;}#sk-container-id-1 div.sk-label input.sk-toggleable__control:checked~label.sk-toggleable__label {background-color: #d4ebff;}#sk-container-id-1 input.sk-hidden--visually {border: 0;clip: rect(1px 1px 1px 1px);clip: rect(1px, 1px, 1px, 1px);height: 1px;margin: -1px;overflow: hidden;padding: 0;position: absolute;width: 1px;}#sk-container-id-1 div.sk-estimator {font-family: monospace;background-color: #f0f8ff;border: 1px dotted black;border-radius: 0.25em;box-sizing: border-box;margin-bottom: 0.5em;}#sk-container-id-1 div.sk-estimator:hover {background-color: #d4ebff;}#sk-container-id-1 div.sk-parallel-item::after {content: \"\";width: 100%;border-bottom: 1px solid gray;flex-grow: 1;}#sk-container-id-1 div.sk-label:hover label.sk-toggleable__label {background-color: #d4ebff;}#sk-container-id-1 div.sk-serial::before {content: \"\";position: absolute;border-left: 1px solid gray;box-sizing: border-box;top: 0;bottom: 0;left: 50%;z-index: 0;}#sk-container-id-1 div.sk-serial {display: flex;flex-direction: column;align-items: center;background-color: white;padding-right: 0.2em;padding-left: 0.2em;position: relative;}#sk-container-id-1 div.sk-item {position: relative;z-index: 1;}#sk-container-id-1 div.sk-parallel {display: flex;align-items: stretch;justify-content: center;background-color: white;position: relative;}#sk-container-id-1 div.sk-item::before, #sk-container-id-1 div.sk-parallel-item::before {content: \"\";position: absolute;border-left: 1px solid gray;box-sizing: border-box;top: 0;bottom: 0;left: 50%;z-index: -1;}#sk-container-id-1 div.sk-parallel-item {display: flex;flex-direction: column;z-index: 1;position: relative;background-color: white;}#sk-container-id-1 div.sk-parallel-item:first-child::after {align-self: flex-end;width: 50%;}#sk-container-id-1 div.sk-parallel-item:last-child::after {align-self: flex-start;width: 50%;}#sk-container-id-1 div.sk-parallel-item:only-child::after {width: 0;}#sk-container-id-1 div.sk-dashed-wrapped {border: 1px dashed gray;margin: 0 0.4em 0.5em 0.4em;box-sizing: border-box;padding-bottom: 0.4em;background-color: white;}#sk-container-id-1 div.sk-label label {font-family: monospace;font-weight: bold;display: inline-block;line-height: 1.2em;}#sk-container-id-1 div.sk-label-container {text-align: center;}#sk-container-id-1 div.sk-container {/* jupyter's `normalize.less` sets `[hidden] { display: none; }` but bootstrap.min.css set `[hidden] { display: none !important; }` so we also need the `!important` here to be able to override the default hidden behavior on the sphinx rendered scikit-learn.org. See: https://github.com/scikit-learn/scikit-learn/issues/21755 */display: inline-block !important;position: relative;}#sk-container-id-1 div.sk-text-repr-fallback {display: none;}</style><div id=\"sk-container-id-1\" class=\"sk-top-container\"><div class=\"sk-text-repr-fallback\"><pre>LinearRegression()</pre><b>In a Jupyter environment, please rerun this cell to show the HTML representation or trust the notebook. <br />On GitHub, the HTML representation is unable to render, please try loading this page with nbviewer.org.</b></div><div class=\"sk-container\" hidden><div class=\"sk-item\"><div class=\"sk-estimator sk-toggleable\"><input class=\"sk-toggleable__control sk-hidden--visually\" id=\"sk-estimator-id-1\" type=\"checkbox\" checked><label for=\"sk-estimator-id-1\" class=\"sk-toggleable__label sk-toggleable__label-arrow\">LinearRegression</label><div class=\"sk-toggleable__content\"><pre>LinearRegression()</pre></div></div></div></div></div>"
      ],
      "text/plain": [
       "LinearRegression()"
      ]
     },
     "execution_count": 26,
     "metadata": {},
     "output_type": "execute_result"
    }
   ],
   "source": [
    "regressor.fit(x_train,y_train)"
   ]
  },
  {
   "cell_type": "markdown",
   "id": "7db7ab08",
   "metadata": {
    "papermill": {
     "duration": 0.023841,
     "end_time": "2024-11-16T06:01:47.622804",
     "exception": false,
     "start_time": "2024-11-16T06:01:47.598963",
     "status": "completed"
    },
    "tags": []
   },
   "source": [
    "## Model Evaluation"
   ]
  },
  {
   "cell_type": "markdown",
   "id": "59d2e841",
   "metadata": {
    "papermill": {
     "duration": 0.020405,
     "end_time": "2024-11-16T06:01:47.663558",
     "exception": false,
     "start_time": "2024-11-16T06:01:47.643153",
     "status": "completed"
    },
    "tags": []
   },
   "source": [
    "### Prediction on training data "
   ]
  },
  {
   "cell_type": "code",
   "execution_count": 27,
   "id": "ead4d6ad",
   "metadata": {
    "execution": {
     "iopub.execute_input": "2024-11-16T06:01:47.706834Z",
     "iopub.status.busy": "2024-11-16T06:01:47.706307Z",
     "iopub.status.idle": "2024-11-16T06:01:47.714230Z",
     "shell.execute_reply": "2024-11-16T06:01:47.712956Z"
    },
    "papermill": {
     "duration": 0.032758,
     "end_time": "2024-11-16T06:01:47.716987",
     "exception": false,
     "start_time": "2024-11-16T06:01:47.684229",
     "status": "completed"
    },
    "tags": []
   },
   "outputs": [],
   "source": [
    "train_data_prediction = regressor.predict(x_train)"
   ]
  },
  {
   "cell_type": "markdown",
   "id": "ce110463",
   "metadata": {
    "papermill": {
     "duration": 0.020513,
     "end_time": "2024-11-16T06:01:47.758789",
     "exception": false,
     "start_time": "2024-11-16T06:01:47.738276",
     "status": "completed"
    },
    "tags": []
   },
   "source": [
    "### R Squared Value"
   ]
  },
  {
   "cell_type": "code",
   "execution_count": 28,
   "id": "cd8cf828",
   "metadata": {
    "execution": {
     "iopub.execute_input": "2024-11-16T06:01:47.802805Z",
     "iopub.status.busy": "2024-11-16T06:01:47.802345Z",
     "iopub.status.idle": "2024-11-16T06:01:47.811109Z",
     "shell.execute_reply": "2024-11-16T06:01:47.809843Z"
    },
    "papermill": {
     "duration": 0.034001,
     "end_time": "2024-11-16T06:01:47.814033",
     "exception": false,
     "start_time": "2024-11-16T06:01:47.780032",
     "status": "completed"
    },
    "tags": []
   },
   "outputs": [
    {
     "name": "stdout",
     "output_type": "stream",
     "text": [
      "R2 Value:  0.751505643411174\n"
     ]
    }
   ],
   "source": [
    "r2_train = metrics.r2_score(y_train,train_data_prediction )\n",
    "print(\"R2 Value: \",r2_train)"
   ]
  },
  {
   "cell_type": "markdown",
   "id": "982b294c",
   "metadata": {
    "papermill": {
     "duration": 0.02109,
     "end_time": "2024-11-16T06:01:47.855989",
     "exception": false,
     "start_time": "2024-11-16T06:01:47.834899",
     "status": "completed"
    },
    "tags": []
   },
   "source": [
    "### Prediction on testing data "
   ]
  },
  {
   "cell_type": "code",
   "execution_count": 29,
   "id": "c989c93a",
   "metadata": {
    "execution": {
     "iopub.execute_input": "2024-11-16T06:01:47.900920Z",
     "iopub.status.busy": "2024-11-16T06:01:47.900439Z",
     "iopub.status.idle": "2024-11-16T06:01:47.908876Z",
     "shell.execute_reply": "2024-11-16T06:01:47.907552Z"
    },
    "papermill": {
     "duration": 0.033766,
     "end_time": "2024-11-16T06:01:47.911382",
     "exception": false,
     "start_time": "2024-11-16T06:01:47.877616",
     "status": "completed"
    },
    "tags": []
   },
   "outputs": [],
   "source": [
    "test_data_prediction = regressor.predict(x_test)"
   ]
  },
  {
   "cell_type": "markdown",
   "id": "a7274ed3",
   "metadata": {
    "papermill": {
     "duration": 0.021605,
     "end_time": "2024-11-16T06:01:47.956049",
     "exception": false,
     "start_time": "2024-11-16T06:01:47.934444",
     "status": "completed"
    },
    "tags": []
   },
   "source": [
    "### R Squared Value"
   ]
  },
  {
   "cell_type": "code",
   "execution_count": 30,
   "id": "3efec3df",
   "metadata": {
    "execution": {
     "iopub.execute_input": "2024-11-16T06:01:48.002287Z",
     "iopub.status.busy": "2024-11-16T06:01:48.001727Z",
     "iopub.status.idle": "2024-11-16T06:01:48.011340Z",
     "shell.execute_reply": "2024-11-16T06:01:48.009132Z"
    },
    "papermill": {
     "duration": 0.035782,
     "end_time": "2024-11-16T06:01:48.014152",
     "exception": false,
     "start_time": "2024-11-16T06:01:47.978370",
     "status": "completed"
    },
    "tags": []
   },
   "outputs": [
    {
     "name": "stdout",
     "output_type": "stream",
     "text": [
      "R2 Value:  0.7447273869684076\n"
     ]
    }
   ],
   "source": [
    "r2_train = metrics.r2_score(y_test,test_data_prediction )\n",
    "print(\"R2 Value: \",r2_train)"
   ]
  },
  {
   "cell_type": "markdown",
   "id": "b5a82103",
   "metadata": {
    "papermill": {
     "duration": 0.021398,
     "end_time": "2024-11-16T06:01:48.056837",
     "exception": false,
     "start_time": "2024-11-16T06:01:48.035439",
     "status": "completed"
    },
    "tags": []
   },
   "source": [
    "## Build a predictive system"
   ]
  },
  {
   "cell_type": "code",
   "execution_count": 31,
   "id": "193102a1",
   "metadata": {
    "execution": {
     "iopub.execute_input": "2024-11-16T06:01:48.101997Z",
     "iopub.status.busy": "2024-11-16T06:01:48.101517Z",
     "iopub.status.idle": "2024-11-16T06:01:48.109704Z",
     "shell.execute_reply": "2024-11-16T06:01:48.108480Z"
    },
    "papermill": {
     "duration": 0.033533,
     "end_time": "2024-11-16T06:01:48.112633",
     "exception": false,
     "start_time": "2024-11-16T06:01:48.079100",
     "status": "completed"
    },
    "tags": []
   },
   "outputs": [
    {
     "name": "stdout",
     "output_type": "stream",
     "text": [
      "[3760.0805765]\n",
      "The insurance cost is USD 3760.080576496057\n"
     ]
    }
   ],
   "source": [
    "input_data=(31,1,25.74,0,1,0) # 1->female 1->no 0->southeast\n",
    "\n",
    "# Changing input_data to a numpy array \n",
    "input_data_as_numpay_array= np.asarray(input_data)\n",
    "\n",
    "# Reshape the array\n",
    "input_data_reshaped = input_data_as_numpay_array.reshape(1,-1)\n",
    "\n",
    "# Prediction\n",
    "prediction = regressor.predict(input_data_reshaped)\n",
    "print(prediction)\n",
    "\n",
    "print('The insurance cost is USD',prediction[0])"
   ]
  },
  {
   "cell_type": "code",
   "execution_count": null,
   "id": "95601843",
   "metadata": {
    "papermill": {
     "duration": 0.020564,
     "end_time": "2024-11-16T06:01:48.154518",
     "exception": false,
     "start_time": "2024-11-16T06:01:48.133954",
     "status": "completed"
    },
    "tags": []
   },
   "outputs": [],
   "source": []
  }
 ],
 "metadata": {
  "kaggle": {
   "accelerator": "none",
   "dataSources": [
    {
     "datasetId": 13720,
     "sourceId": 18513,
     "sourceType": "datasetVersion"
    }
   ],
   "dockerImageVersionId": 30786,
   "isGpuEnabled": false,
   "isInternetEnabled": true,
   "language": "python",
   "sourceType": "notebook"
  },
  "kernelspec": {
   "display_name": "Python 3",
   "language": "python",
   "name": "python3"
  },
  "language_info": {
   "codemirror_mode": {
    "name": "ipython",
    "version": 3
   },
   "file_extension": ".py",
   "mimetype": "text/x-python",
   "name": "python",
   "nbconvert_exporter": "python",
   "pygments_lexer": "ipython3",
   "version": "3.10.14"
  },
  "papermill": {
   "default_parameters": {},
   "duration": 13.596387,
   "end_time": "2024-11-16T06:01:48.898938",
   "environment_variables": {},
   "exception": null,
   "input_path": "__notebook__.ipynb",
   "output_path": "__notebook__.ipynb",
   "parameters": {},
   "start_time": "2024-11-16T06:01:35.302551",
   "version": "2.6.0"
  }
 },
 "nbformat": 4,
 "nbformat_minor": 5
}
