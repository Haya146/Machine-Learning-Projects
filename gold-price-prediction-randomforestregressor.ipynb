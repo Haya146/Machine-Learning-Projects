{
 "cells": [
  {
   "cell_type": "markdown",
   "id": "576b987f",
   "metadata": {
    "papermill": {
     "duration": 0.008556,
     "end_time": "2024-12-12T01:49:28.981632",
     "exception": false,
     "start_time": "2024-12-12T01:49:28.973076",
     "status": "completed"
    },
    "tags": []
   },
   "source": [
    "# Importing the Libraries"
   ]
  },
  {
   "cell_type": "code",
   "execution_count": 1,
   "id": "52dbd431",
   "metadata": {
    "_cell_guid": "b1076dfc-b9ad-4769-8c92-a6c4dae69d19",
    "_uuid": "8f2839f25d086af736a60e9eeb907d3b93b6e0e5",
    "execution": {
     "iopub.execute_input": "2024-12-12T01:49:28.998332Z",
     "iopub.status.busy": "2024-12-12T01:49:28.997388Z",
     "iopub.status.idle": "2024-12-12T01:49:32.438399Z",
     "shell.execute_reply": "2024-12-12T01:49:32.437279Z"
    },
    "papermill": {
     "duration": 3.452182,
     "end_time": "2024-12-12T01:49:32.441079",
     "exception": false,
     "start_time": "2024-12-12T01:49:28.988897",
     "status": "completed"
    },
    "tags": []
   },
   "outputs": [],
   "source": [
    "import numpy as np\n",
    "import pandas as pd\n",
    "import matplotlib.pyplot as plt\n",
    "import seaborn as sns\n",
    "from sklearn.model_selection import train_test_split\n",
    "from sklearn.ensemble import RandomForestRegressor\n",
    "from sklearn import metrics\n",
    "\n",
    "import warnings \n",
    "warnings.filterwarnings('ignore')"
   ]
  },
  {
   "cell_type": "markdown",
   "id": "4511c675",
   "metadata": {
    "papermill": {
     "duration": 0.006588,
     "end_time": "2024-12-12T01:49:32.456285",
     "exception": false,
     "start_time": "2024-12-12T01:49:32.449697",
     "status": "completed"
    },
    "tags": []
   },
   "source": [
    "# Data Preprocessing"
   ]
  },
  {
   "cell_type": "code",
   "execution_count": 2,
   "id": "bdc41e7e",
   "metadata": {
    "execution": {
     "iopub.execute_input": "2024-12-12T01:49:32.472444Z",
     "iopub.status.busy": "2024-12-12T01:49:32.471866Z",
     "iopub.status.idle": "2024-12-12T01:49:32.521428Z",
     "shell.execute_reply": "2024-12-12T01:49:32.520309Z"
    },
    "papermill": {
     "duration": 0.060088,
     "end_time": "2024-12-12T01:49:32.523666",
     "exception": false,
     "start_time": "2024-12-12T01:49:32.463578",
     "status": "completed"
    },
    "tags": []
   },
   "outputs": [
    {
     "data": {
      "text/html": [
       "<div>\n",
       "<style scoped>\n",
       "    .dataframe tbody tr th:only-of-type {\n",
       "        vertical-align: middle;\n",
       "    }\n",
       "\n",
       "    .dataframe tbody tr th {\n",
       "        vertical-align: top;\n",
       "    }\n",
       "\n",
       "    .dataframe thead th {\n",
       "        text-align: right;\n",
       "    }\n",
       "</style>\n",
       "<table border=\"1\" class=\"dataframe\">\n",
       "  <thead>\n",
       "    <tr style=\"text-align: right;\">\n",
       "      <th></th>\n",
       "      <th>Date</th>\n",
       "      <th>SPX</th>\n",
       "      <th>GLD</th>\n",
       "      <th>USO</th>\n",
       "      <th>SLV</th>\n",
       "      <th>EUR/USD</th>\n",
       "    </tr>\n",
       "  </thead>\n",
       "  <tbody>\n",
       "    <tr>\n",
       "      <th>0</th>\n",
       "      <td>1/2/2008</td>\n",
       "      <td>1447.160034</td>\n",
       "      <td>84.860001</td>\n",
       "      <td>78.470001</td>\n",
       "      <td>15.180</td>\n",
       "      <td>1.471692</td>\n",
       "    </tr>\n",
       "    <tr>\n",
       "      <th>1</th>\n",
       "      <td>1/3/2008</td>\n",
       "      <td>1447.160034</td>\n",
       "      <td>85.570000</td>\n",
       "      <td>78.370003</td>\n",
       "      <td>15.285</td>\n",
       "      <td>1.474491</td>\n",
       "    </tr>\n",
       "    <tr>\n",
       "      <th>2</th>\n",
       "      <td>1/4/2008</td>\n",
       "      <td>1411.630005</td>\n",
       "      <td>85.129997</td>\n",
       "      <td>77.309998</td>\n",
       "      <td>15.167</td>\n",
       "      <td>1.475492</td>\n",
       "    </tr>\n",
       "    <tr>\n",
       "      <th>3</th>\n",
       "      <td>1/7/2008</td>\n",
       "      <td>1416.180054</td>\n",
       "      <td>84.769997</td>\n",
       "      <td>75.500000</td>\n",
       "      <td>15.053</td>\n",
       "      <td>1.468299</td>\n",
       "    </tr>\n",
       "    <tr>\n",
       "      <th>4</th>\n",
       "      <td>1/8/2008</td>\n",
       "      <td>1390.189941</td>\n",
       "      <td>86.779999</td>\n",
       "      <td>76.059998</td>\n",
       "      <td>15.590</td>\n",
       "      <td>1.557099</td>\n",
       "    </tr>\n",
       "  </tbody>\n",
       "</table>\n",
       "</div>"
      ],
      "text/plain": [
       "       Date          SPX        GLD        USO     SLV   EUR/USD\n",
       "0  1/2/2008  1447.160034  84.860001  78.470001  15.180  1.471692\n",
       "1  1/3/2008  1447.160034  85.570000  78.370003  15.285  1.474491\n",
       "2  1/4/2008  1411.630005  85.129997  77.309998  15.167  1.475492\n",
       "3  1/7/2008  1416.180054  84.769997  75.500000  15.053  1.468299\n",
       "4  1/8/2008  1390.189941  86.779999  76.059998  15.590  1.557099"
      ]
     },
     "execution_count": 2,
     "metadata": {},
     "output_type": "execute_result"
    }
   ],
   "source": [
    "gold_data = pd.read_csv('/kaggle/input/gold-price-data/gld_price_data.csv')\n",
    "gold_data.head()"
   ]
  },
  {
   "cell_type": "code",
   "execution_count": 3,
   "id": "d7a42948",
   "metadata": {
    "execution": {
     "iopub.execute_input": "2024-12-12T01:49:32.542675Z",
     "iopub.status.busy": "2024-12-12T01:49:32.541650Z",
     "iopub.status.idle": "2024-12-12T01:49:32.555955Z",
     "shell.execute_reply": "2024-12-12T01:49:32.554446Z"
    },
    "papermill": {
     "duration": 0.025485,
     "end_time": "2024-12-12T01:49:32.558394",
     "exception": false,
     "start_time": "2024-12-12T01:49:32.532909",
     "status": "completed"
    },
    "tags": []
   },
   "outputs": [
    {
     "data": {
      "text/html": [
       "<div>\n",
       "<style scoped>\n",
       "    .dataframe tbody tr th:only-of-type {\n",
       "        vertical-align: middle;\n",
       "    }\n",
       "\n",
       "    .dataframe tbody tr th {\n",
       "        vertical-align: top;\n",
       "    }\n",
       "\n",
       "    .dataframe thead th {\n",
       "        text-align: right;\n",
       "    }\n",
       "</style>\n",
       "<table border=\"1\" class=\"dataframe\">\n",
       "  <thead>\n",
       "    <tr style=\"text-align: right;\">\n",
       "      <th></th>\n",
       "      <th>Date</th>\n",
       "      <th>SPX</th>\n",
       "      <th>GLD</th>\n",
       "      <th>USO</th>\n",
       "      <th>SLV</th>\n",
       "      <th>EUR/USD</th>\n",
       "    </tr>\n",
       "  </thead>\n",
       "  <tbody>\n",
       "    <tr>\n",
       "      <th>2285</th>\n",
       "      <td>5/8/2018</td>\n",
       "      <td>2671.919922</td>\n",
       "      <td>124.589996</td>\n",
       "      <td>14.0600</td>\n",
       "      <td>15.5100</td>\n",
       "      <td>1.186789</td>\n",
       "    </tr>\n",
       "    <tr>\n",
       "      <th>2286</th>\n",
       "      <td>5/9/2018</td>\n",
       "      <td>2697.790039</td>\n",
       "      <td>124.330002</td>\n",
       "      <td>14.3700</td>\n",
       "      <td>15.5300</td>\n",
       "      <td>1.184722</td>\n",
       "    </tr>\n",
       "    <tr>\n",
       "      <th>2287</th>\n",
       "      <td>5/10/2018</td>\n",
       "      <td>2723.070068</td>\n",
       "      <td>125.180000</td>\n",
       "      <td>14.4100</td>\n",
       "      <td>15.7400</td>\n",
       "      <td>1.191753</td>\n",
       "    </tr>\n",
       "    <tr>\n",
       "      <th>2288</th>\n",
       "      <td>5/14/2018</td>\n",
       "      <td>2730.129883</td>\n",
       "      <td>124.489998</td>\n",
       "      <td>14.3800</td>\n",
       "      <td>15.5600</td>\n",
       "      <td>1.193118</td>\n",
       "    </tr>\n",
       "    <tr>\n",
       "      <th>2289</th>\n",
       "      <td>5/16/2018</td>\n",
       "      <td>2725.780029</td>\n",
       "      <td>122.543800</td>\n",
       "      <td>14.4058</td>\n",
       "      <td>15.4542</td>\n",
       "      <td>1.182033</td>\n",
       "    </tr>\n",
       "  </tbody>\n",
       "</table>\n",
       "</div>"
      ],
      "text/plain": [
       "           Date          SPX         GLD      USO      SLV   EUR/USD\n",
       "2285   5/8/2018  2671.919922  124.589996  14.0600  15.5100  1.186789\n",
       "2286   5/9/2018  2697.790039  124.330002  14.3700  15.5300  1.184722\n",
       "2287  5/10/2018  2723.070068  125.180000  14.4100  15.7400  1.191753\n",
       "2288  5/14/2018  2730.129883  124.489998  14.3800  15.5600  1.193118\n",
       "2289  5/16/2018  2725.780029  122.543800  14.4058  15.4542  1.182033"
      ]
     },
     "execution_count": 3,
     "metadata": {},
     "output_type": "execute_result"
    }
   ],
   "source": [
    "gold_data.tail()"
   ]
  },
  {
   "cell_type": "code",
   "execution_count": 4,
   "id": "eb988b70",
   "metadata": {
    "execution": {
     "iopub.execute_input": "2024-12-12T01:49:32.575315Z",
     "iopub.status.busy": "2024-12-12T01:49:32.574946Z",
     "iopub.status.idle": "2024-12-12T01:49:32.582324Z",
     "shell.execute_reply": "2024-12-12T01:49:32.581184Z"
    },
    "papermill": {
     "duration": 0.018566,
     "end_time": "2024-12-12T01:49:32.584626",
     "exception": false,
     "start_time": "2024-12-12T01:49:32.566060",
     "status": "completed"
    },
    "tags": []
   },
   "outputs": [
    {
     "data": {
      "text/plain": [
       "(2290, 6)"
      ]
     },
     "execution_count": 4,
     "metadata": {},
     "output_type": "execute_result"
    }
   ],
   "source": [
    "gold_data.shape"
   ]
  },
  {
   "cell_type": "code",
   "execution_count": 5,
   "id": "6f5d45f5",
   "metadata": {
    "execution": {
     "iopub.execute_input": "2024-12-12T01:49:32.602115Z",
     "iopub.status.busy": "2024-12-12T01:49:32.601682Z",
     "iopub.status.idle": "2024-12-12T01:49:32.632528Z",
     "shell.execute_reply": "2024-12-12T01:49:32.631220Z"
    },
    "papermill": {
     "duration": 0.042642,
     "end_time": "2024-12-12T01:49:32.634884",
     "exception": false,
     "start_time": "2024-12-12T01:49:32.592242",
     "status": "completed"
    },
    "tags": []
   },
   "outputs": [
    {
     "name": "stdout",
     "output_type": "stream",
     "text": [
      "<class 'pandas.core.frame.DataFrame'>\n",
      "RangeIndex: 2290 entries, 0 to 2289\n",
      "Data columns (total 6 columns):\n",
      " #   Column   Non-Null Count  Dtype  \n",
      "---  ------   --------------  -----  \n",
      " 0   Date     2290 non-null   object \n",
      " 1   SPX      2290 non-null   float64\n",
      " 2   GLD      2290 non-null   float64\n",
      " 3   USO      2290 non-null   float64\n",
      " 4   SLV      2290 non-null   float64\n",
      " 5   EUR/USD  2290 non-null   float64\n",
      "dtypes: float64(5), object(1)\n",
      "memory usage: 107.5+ KB\n"
     ]
    }
   ],
   "source": [
    "gold_data.info()"
   ]
  },
  {
   "cell_type": "code",
   "execution_count": 6,
   "id": "aee6e7b1",
   "metadata": {
    "execution": {
     "iopub.execute_input": "2024-12-12T01:49:32.652314Z",
     "iopub.status.busy": "2024-12-12T01:49:32.651944Z",
     "iopub.status.idle": "2024-12-12T01:49:32.660970Z",
     "shell.execute_reply": "2024-12-12T01:49:32.659764Z"
    },
    "papermill": {
     "duration": 0.02028,
     "end_time": "2024-12-12T01:49:32.663270",
     "exception": false,
     "start_time": "2024-12-12T01:49:32.642990",
     "status": "completed"
    },
    "tags": []
   },
   "outputs": [
    {
     "data": {
      "text/plain": [
       "Date       0\n",
       "SPX        0\n",
       "GLD        0\n",
       "USO        0\n",
       "SLV        0\n",
       "EUR/USD    0\n",
       "dtype: int64"
      ]
     },
     "execution_count": 6,
     "metadata": {},
     "output_type": "execute_result"
    }
   ],
   "source": [
    "gold_data.isnull().sum()"
   ]
  },
  {
   "cell_type": "code",
   "execution_count": 7,
   "id": "5ccc1a5c",
   "metadata": {
    "execution": {
     "iopub.execute_input": "2024-12-12T01:49:32.681046Z",
     "iopub.status.busy": "2024-12-12T01:49:32.680668Z",
     "iopub.status.idle": "2024-12-12T01:49:32.690977Z",
     "shell.execute_reply": "2024-12-12T01:49:32.689787Z"
    },
    "papermill": {
     "duration": 0.021869,
     "end_time": "2024-12-12T01:49:32.693483",
     "exception": false,
     "start_time": "2024-12-12T01:49:32.671614",
     "status": "completed"
    },
    "tags": []
   },
   "outputs": [
    {
     "data": {
      "text/plain": [
       "0"
      ]
     },
     "execution_count": 7,
     "metadata": {},
     "output_type": "execute_result"
    }
   ],
   "source": [
    "gold_data.duplicated().sum()"
   ]
  },
  {
   "cell_type": "code",
   "execution_count": 8,
   "id": "09f1e7e1",
   "metadata": {
    "execution": {
     "iopub.execute_input": "2024-12-12T01:49:32.711517Z",
     "iopub.status.busy": "2024-12-12T01:49:32.711102Z",
     "iopub.status.idle": "2024-12-12T01:49:32.740685Z",
     "shell.execute_reply": "2024-12-12T01:49:32.739525Z"
    },
    "papermill": {
     "duration": 0.04138,
     "end_time": "2024-12-12T01:49:32.743103",
     "exception": false,
     "start_time": "2024-12-12T01:49:32.701723",
     "status": "completed"
    },
    "tags": []
   },
   "outputs": [
    {
     "data": {
      "text/html": [
       "<div>\n",
       "<style scoped>\n",
       "    .dataframe tbody tr th:only-of-type {\n",
       "        vertical-align: middle;\n",
       "    }\n",
       "\n",
       "    .dataframe tbody tr th {\n",
       "        vertical-align: top;\n",
       "    }\n",
       "\n",
       "    .dataframe thead th {\n",
       "        text-align: right;\n",
       "    }\n",
       "</style>\n",
       "<table border=\"1\" class=\"dataframe\">\n",
       "  <thead>\n",
       "    <tr style=\"text-align: right;\">\n",
       "      <th></th>\n",
       "      <th>SPX</th>\n",
       "      <th>GLD</th>\n",
       "      <th>USO</th>\n",
       "      <th>SLV</th>\n",
       "      <th>EUR/USD</th>\n",
       "    </tr>\n",
       "  </thead>\n",
       "  <tbody>\n",
       "    <tr>\n",
       "      <th>count</th>\n",
       "      <td>2290.000000</td>\n",
       "      <td>2290.000000</td>\n",
       "      <td>2290.000000</td>\n",
       "      <td>2290.000000</td>\n",
       "      <td>2290.000000</td>\n",
       "    </tr>\n",
       "    <tr>\n",
       "      <th>mean</th>\n",
       "      <td>1654.315776</td>\n",
       "      <td>122.732875</td>\n",
       "      <td>31.842221</td>\n",
       "      <td>20.084997</td>\n",
       "      <td>1.283653</td>\n",
       "    </tr>\n",
       "    <tr>\n",
       "      <th>std</th>\n",
       "      <td>519.111540</td>\n",
       "      <td>23.283346</td>\n",
       "      <td>19.523517</td>\n",
       "      <td>7.092566</td>\n",
       "      <td>0.131547</td>\n",
       "    </tr>\n",
       "    <tr>\n",
       "      <th>min</th>\n",
       "      <td>676.530029</td>\n",
       "      <td>70.000000</td>\n",
       "      <td>7.960000</td>\n",
       "      <td>8.850000</td>\n",
       "      <td>1.039047</td>\n",
       "    </tr>\n",
       "    <tr>\n",
       "      <th>25%</th>\n",
       "      <td>1239.874969</td>\n",
       "      <td>109.725000</td>\n",
       "      <td>14.380000</td>\n",
       "      <td>15.570000</td>\n",
       "      <td>1.171313</td>\n",
       "    </tr>\n",
       "    <tr>\n",
       "      <th>50%</th>\n",
       "      <td>1551.434998</td>\n",
       "      <td>120.580002</td>\n",
       "      <td>33.869999</td>\n",
       "      <td>17.268500</td>\n",
       "      <td>1.303297</td>\n",
       "    </tr>\n",
       "    <tr>\n",
       "      <th>75%</th>\n",
       "      <td>2073.010070</td>\n",
       "      <td>132.840004</td>\n",
       "      <td>37.827501</td>\n",
       "      <td>22.882500</td>\n",
       "      <td>1.369971</td>\n",
       "    </tr>\n",
       "    <tr>\n",
       "      <th>max</th>\n",
       "      <td>2872.870117</td>\n",
       "      <td>184.589996</td>\n",
       "      <td>117.480003</td>\n",
       "      <td>47.259998</td>\n",
       "      <td>1.598798</td>\n",
       "    </tr>\n",
       "  </tbody>\n",
       "</table>\n",
       "</div>"
      ],
      "text/plain": [
       "               SPX          GLD          USO          SLV      EUR/USD\n",
       "count  2290.000000  2290.000000  2290.000000  2290.000000  2290.000000\n",
       "mean   1654.315776   122.732875    31.842221    20.084997     1.283653\n",
       "std     519.111540    23.283346    19.523517     7.092566     0.131547\n",
       "min     676.530029    70.000000     7.960000     8.850000     1.039047\n",
       "25%    1239.874969   109.725000    14.380000    15.570000     1.171313\n",
       "50%    1551.434998   120.580002    33.869999    17.268500     1.303297\n",
       "75%    2073.010070   132.840004    37.827501    22.882500     1.369971\n",
       "max    2872.870117   184.589996   117.480003    47.259998     1.598798"
      ]
     },
     "execution_count": 8,
     "metadata": {},
     "output_type": "execute_result"
    }
   ],
   "source": [
    "gold_data.describe()"
   ]
  },
  {
   "cell_type": "code",
   "execution_count": 9,
   "id": "246a2e52",
   "metadata": {
    "execution": {
     "iopub.execute_input": "2024-12-12T01:49:32.760492Z",
     "iopub.status.busy": "2024-12-12T01:49:32.760077Z",
     "iopub.status.idle": "2024-12-12T01:49:32.768076Z",
     "shell.execute_reply": "2024-12-12T01:49:32.766834Z"
    },
    "papermill": {
     "duration": 0.01912,
     "end_time": "2024-12-12T01:49:32.770219",
     "exception": false,
     "start_time": "2024-12-12T01:49:32.751099",
     "status": "completed"
    },
    "tags": []
   },
   "outputs": [],
   "source": [
    "df = gold_data.drop(columns = \"Date\", axis= 1)"
   ]
  },
  {
   "cell_type": "code",
   "execution_count": 10,
   "id": "6b2eb5cb",
   "metadata": {
    "execution": {
     "iopub.execute_input": "2024-12-12T01:49:32.787964Z",
     "iopub.status.busy": "2024-12-12T01:49:32.787567Z",
     "iopub.status.idle": "2024-12-12T01:49:32.800673Z",
     "shell.execute_reply": "2024-12-12T01:49:32.799431Z"
    },
    "papermill": {
     "duration": 0.02469,
     "end_time": "2024-12-12T01:49:32.803129",
     "exception": false,
     "start_time": "2024-12-12T01:49:32.778439",
     "status": "completed"
    },
    "tags": []
   },
   "outputs": [
    {
     "data": {
      "text/html": [
       "<div>\n",
       "<style scoped>\n",
       "    .dataframe tbody tr th:only-of-type {\n",
       "        vertical-align: middle;\n",
       "    }\n",
       "\n",
       "    .dataframe tbody tr th {\n",
       "        vertical-align: top;\n",
       "    }\n",
       "\n",
       "    .dataframe thead th {\n",
       "        text-align: right;\n",
       "    }\n",
       "</style>\n",
       "<table border=\"1\" class=\"dataframe\">\n",
       "  <thead>\n",
       "    <tr style=\"text-align: right;\">\n",
       "      <th></th>\n",
       "      <th>SPX</th>\n",
       "      <th>GLD</th>\n",
       "      <th>USO</th>\n",
       "      <th>SLV</th>\n",
       "      <th>EUR/USD</th>\n",
       "    </tr>\n",
       "  </thead>\n",
       "  <tbody>\n",
       "    <tr>\n",
       "      <th>0</th>\n",
       "      <td>1447.160034</td>\n",
       "      <td>84.860001</td>\n",
       "      <td>78.470001</td>\n",
       "      <td>15.180</td>\n",
       "      <td>1.471692</td>\n",
       "    </tr>\n",
       "    <tr>\n",
       "      <th>1</th>\n",
       "      <td>1447.160034</td>\n",
       "      <td>85.570000</td>\n",
       "      <td>78.370003</td>\n",
       "      <td>15.285</td>\n",
       "      <td>1.474491</td>\n",
       "    </tr>\n",
       "    <tr>\n",
       "      <th>2</th>\n",
       "      <td>1411.630005</td>\n",
       "      <td>85.129997</td>\n",
       "      <td>77.309998</td>\n",
       "      <td>15.167</td>\n",
       "      <td>1.475492</td>\n",
       "    </tr>\n",
       "    <tr>\n",
       "      <th>3</th>\n",
       "      <td>1416.180054</td>\n",
       "      <td>84.769997</td>\n",
       "      <td>75.500000</td>\n",
       "      <td>15.053</td>\n",
       "      <td>1.468299</td>\n",
       "    </tr>\n",
       "    <tr>\n",
       "      <th>4</th>\n",
       "      <td>1390.189941</td>\n",
       "      <td>86.779999</td>\n",
       "      <td>76.059998</td>\n",
       "      <td>15.590</td>\n",
       "      <td>1.557099</td>\n",
       "    </tr>\n",
       "  </tbody>\n",
       "</table>\n",
       "</div>"
      ],
      "text/plain": [
       "           SPX        GLD        USO     SLV   EUR/USD\n",
       "0  1447.160034  84.860001  78.470001  15.180  1.471692\n",
       "1  1447.160034  85.570000  78.370003  15.285  1.474491\n",
       "2  1411.630005  85.129997  77.309998  15.167  1.475492\n",
       "3  1416.180054  84.769997  75.500000  15.053  1.468299\n",
       "4  1390.189941  86.779999  76.059998  15.590  1.557099"
      ]
     },
     "execution_count": 10,
     "metadata": {},
     "output_type": "execute_result"
    }
   ],
   "source": [
    "df.head()"
   ]
  },
  {
   "cell_type": "markdown",
   "id": "def3362a",
   "metadata": {
    "papermill": {
     "duration": 0.008103,
     "end_time": "2024-12-12T01:49:32.819553",
     "exception": false,
     "start_time": "2024-12-12T01:49:32.811450",
     "status": "completed"
    },
    "tags": []
   },
   "source": [
    "correlation : \n",
    "1. Positive correlation\n",
    "2. Negative correlation"
   ]
  },
  {
   "cell_type": "code",
   "execution_count": 11,
   "id": "b1c11556",
   "metadata": {
    "execution": {
     "iopub.execute_input": "2024-12-12T01:49:32.838715Z",
     "iopub.status.busy": "2024-12-12T01:49:32.837457Z",
     "iopub.status.idle": "2024-12-12T01:49:32.845107Z",
     "shell.execute_reply": "2024-12-12T01:49:32.844051Z"
    },
    "papermill": {
     "duration": 0.019569,
     "end_time": "2024-12-12T01:49:32.847402",
     "exception": false,
     "start_time": "2024-12-12T01:49:32.827833",
     "status": "completed"
    },
    "tags": []
   },
   "outputs": [],
   "source": [
    "correlation = df.corr()"
   ]
  },
  {
   "cell_type": "markdown",
   "id": "18609140",
   "metadata": {
    "papermill": {
     "duration": 0.007619,
     "end_time": "2024-12-12T01:49:32.863186",
     "exception": false,
     "start_time": "2024-12-12T01:49:32.855567",
     "status": "completed"
    },
    "tags": []
   },
   "source": [
    "### Constructing a heatmap to understand the correlation"
   ]
  },
  {
   "cell_type": "code",
   "execution_count": 12,
   "id": "cc21a93a",
   "metadata": {
    "execution": {
     "iopub.execute_input": "2024-12-12T01:49:32.880864Z",
     "iopub.status.busy": "2024-12-12T01:49:32.880362Z",
     "iopub.status.idle": "2024-12-12T01:49:33.308949Z",
     "shell.execute_reply": "2024-12-12T01:49:33.307906Z"
    },
    "papermill": {
     "duration": 0.440359,
     "end_time": "2024-12-12T01:49:33.311535",
     "exception": false,
     "start_time": "2024-12-12T01:49:32.871176",
     "status": "completed"
    },
    "tags": []
   },
   "outputs": [
    {
     "data": {
      "text/plain": [
       "<Axes: >"
      ]
     },
     "execution_count": 12,
     "metadata": {},
     "output_type": "execute_result"
    },
    {
     "data": {
      "image/png": "[encoded data removed]",
      "text/plain": [
       "<Figure size 800x800 with 2 Axes>"
      ]
     },
     "metadata": {},
     "output_type": "display_data"
    }
   ],
   "source": [
    "plt.figure(figsize = (8,8))\n",
    "sns.heatmap(correlation, cbar = True, square= True, fmt= '.1f', annot = True, annot_kws={'size':8}, cmap ='Blues')"
   ]
  },
  {
   "cell_type": "markdown",
   "id": "13d7bae2",
   "metadata": {
    "papermill": {
     "duration": 0.008245,
     "end_time": "2024-12-12T01:49:33.328532",
     "exception": false,
     "start_time": "2024-12-12T01:49:33.320287",
     "status": "completed"
    },
    "tags": []
   },
   "source": [
    "### Correlation values of GLD"
   ]
  },
  {
   "cell_type": "code",
   "execution_count": 13,
   "id": "c108c7c4",
   "metadata": {
    "execution": {
     "iopub.execute_input": "2024-12-12T01:49:33.347866Z",
     "iopub.status.busy": "2024-12-12T01:49:33.347470Z",
     "iopub.status.idle": "2024-12-12T01:49:33.354500Z",
     "shell.execute_reply": "2024-12-12T01:49:33.353384Z"
    },
    "papermill": {
     "duration": 0.019277,
     "end_time": "2024-12-12T01:49:33.356834",
     "exception": false,
     "start_time": "2024-12-12T01:49:33.337557",
     "status": "completed"
    },
    "tags": []
   },
   "outputs": [
    {
     "name": "stdout",
     "output_type": "stream",
     "text": [
      "SPX        0.049345\n",
      "GLD        1.000000\n",
      "USO       -0.186360\n",
      "SLV        0.866632\n",
      "EUR/USD   -0.024375\n",
      "Name: GLD, dtype: float64\n"
     ]
    }
   ],
   "source": [
    "print(correlation['GLD'])"
   ]
  },
  {
   "cell_type": "markdown",
   "id": "7ab7fec0",
   "metadata": {
    "papermill": {
     "duration": 0.008482,
     "end_time": "2024-12-12T01:49:33.374171",
     "exception": false,
     "start_time": "2024-12-12T01:49:33.365689",
     "status": "completed"
    },
    "tags": []
   },
   "source": [
    "### Checking the distribution of the GLD price"
   ]
  },
  {
   "cell_type": "code",
   "execution_count": 14,
   "id": "e3e7a680",
   "metadata": {
    "execution": {
     "iopub.execute_input": "2024-12-12T01:49:33.393290Z",
     "iopub.status.busy": "2024-12-12T01:49:33.392892Z",
     "iopub.status.idle": "2024-12-12T01:49:33.766414Z",
     "shell.execute_reply": "2024-12-12T01:49:33.765153Z"
    },
    "papermill": {
     "duration": 0.385651,
     "end_time": "2024-12-12T01:49:33.768622",
     "exception": false,
     "start_time": "2024-12-12T01:49:33.382971",
     "status": "completed"
    },
    "tags": []
   },
   "outputs": [
    {
     "data": {
      "text/plain": [
       "<Axes: xlabel='GLD', ylabel='Density'>"
      ]
     },
     "execution_count": 14,
     "metadata": {},
     "output_type": "execute_result"
    },
    {
     "data": {
      "image/png": "[encoded data removed]",
      "text/plain": [
       "<Figure size 640x480 with 1 Axes>"
      ]
     },
     "metadata": {},
     "output_type": "display_data"
    }
   ],
   "source": [
    "sns.distplot(df['GLD'],color='green')"
   ]
  },
  {
   "cell_type": "markdown",
   "id": "9c5df137",
   "metadata": {
    "papermill": {
     "duration": 0.009009,
     "end_time": "2024-12-12T01:49:33.787767",
     "exception": false,
     "start_time": "2024-12-12T01:49:33.778758",
     "status": "completed"
    },
    "tags": []
   },
   "source": [
    "# Splitting the Features and Targets "
   ]
  },
  {
   "cell_type": "code",
   "execution_count": 15,
   "id": "fab46e25",
   "metadata": {
    "execution": {
     "iopub.execute_input": "2024-12-12T01:49:33.808703Z",
     "iopub.status.busy": "2024-12-12T01:49:33.808271Z",
     "iopub.status.idle": "2024-12-12T01:49:33.814759Z",
     "shell.execute_reply": "2024-12-12T01:49:33.813679Z"
    },
    "papermill": {
     "duration": 0.019367,
     "end_time": "2024-12-12T01:49:33.816945",
     "exception": false,
     "start_time": "2024-12-12T01:49:33.797578",
     "status": "completed"
    },
    "tags": []
   },
   "outputs": [],
   "source": [
    "x = df.drop(['GLD'], axis =1 ) # FEATURES\n",
    "y= df['GLD']  # Target"
   ]
  },
  {
   "cell_type": "code",
   "execution_count": 16,
   "id": "270cabb2",
   "metadata": {
    "execution": {
     "iopub.execute_input": "2024-12-12T01:49:33.837641Z",
     "iopub.status.busy": "2024-12-12T01:49:33.837225Z",
     "iopub.status.idle": "2024-12-12T01:49:33.846291Z",
     "shell.execute_reply": "2024-12-12T01:49:33.844968Z"
    },
    "papermill": {
     "duration": 0.022303,
     "end_time": "2024-12-12T01:49:33.848752",
     "exception": false,
     "start_time": "2024-12-12T01:49:33.826449",
     "status": "completed"
    },
    "tags": []
   },
   "outputs": [
    {
     "name": "stdout",
     "output_type": "stream",
     "text": [
      "              SPX        USO      SLV   EUR/USD\n",
      "0     1447.160034  78.470001  15.1800  1.471692\n",
      "1     1447.160034  78.370003  15.2850  1.474491\n",
      "2     1411.630005  77.309998  15.1670  1.475492\n",
      "3     1416.180054  75.500000  15.0530  1.468299\n",
      "4     1390.189941  76.059998  15.5900  1.557099\n",
      "...           ...        ...      ...       ...\n",
      "2285  2671.919922  14.060000  15.5100  1.186789\n",
      "2286  2697.790039  14.370000  15.5300  1.184722\n",
      "2287  2723.070068  14.410000  15.7400  1.191753\n",
      "2288  2730.129883  14.380000  15.5600  1.193118\n",
      "2289  2725.780029  14.405800  15.4542  1.182033\n",
      "\n",
      "[2290 rows x 4 columns]\n"
     ]
    }
   ],
   "source": [
    "print(x)"
   ]
  },
  {
   "cell_type": "code",
   "execution_count": 17,
   "id": "0f2ca70c",
   "metadata": {
    "execution": {
     "iopub.execute_input": "2024-12-12T01:49:33.869625Z",
     "iopub.status.busy": "2024-12-12T01:49:33.868693Z",
     "iopub.status.idle": "2024-12-12T01:49:33.875537Z",
     "shell.execute_reply": "2024-12-12T01:49:33.874413Z"
    },
    "papermill": {
     "duration": 0.019671,
     "end_time": "2024-12-12T01:49:33.877870",
     "exception": false,
     "start_time": "2024-12-12T01:49:33.858199",
     "status": "completed"
    },
    "tags": []
   },
   "outputs": [
    {
     "name": "stdout",
     "output_type": "stream",
     "text": [
      "0        84.860001\n",
      "1        85.570000\n",
      "2        85.129997\n",
      "3        84.769997\n",
      "4        86.779999\n",
      "           ...    \n",
      "2285    124.589996\n",
      "2286    124.330002\n",
      "2287    125.180000\n",
      "2288    124.489998\n",
      "2289    122.543800\n",
      "Name: GLD, Length: 2290, dtype: float64\n"
     ]
    }
   ],
   "source": [
    "print(y)"
   ]
  },
  {
   "cell_type": "markdown",
   "id": "2326b7f7",
   "metadata": {
    "papermill": {
     "duration": 0.010119,
     "end_time": "2024-12-12T01:49:33.897988",
     "exception": false,
     "start_time": "2024-12-12T01:49:33.887869",
     "status": "completed"
    },
    "tags": []
   },
   "source": [
    "# Splitting into Training data and Test data "
   ]
  },
  {
   "cell_type": "code",
   "execution_count": 18,
   "id": "df996591",
   "metadata": {
    "execution": {
     "iopub.execute_input": "2024-12-12T01:49:33.919404Z",
     "iopub.status.busy": "2024-12-12T01:49:33.918959Z",
     "iopub.status.idle": "2024-12-12T01:49:33.929313Z",
     "shell.execute_reply": "2024-12-12T01:49:33.927967Z"
    },
    "papermill": {
     "duration": 0.024347,
     "end_time": "2024-12-12T01:49:33.931754",
     "exception": false,
     "start_time": "2024-12-12T01:49:33.907407",
     "status": "completed"
    },
    "tags": []
   },
   "outputs": [],
   "source": [
    "x_train, x_test, y_train, y_test = train_test_split(x,y,test_size = 0.2, random_state= 2)"
   ]
  },
  {
   "cell_type": "markdown",
   "id": "48f115ee",
   "metadata": {
    "papermill": {
     "duration": 0.009085,
     "end_time": "2024-12-12T01:49:33.950610",
     "exception": false,
     "start_time": "2024-12-12T01:49:33.941525",
     "status": "completed"
    },
    "tags": []
   },
   "source": [
    "# Model Training : Random Forest Regressor"
   ]
  },
  {
   "cell_type": "code",
   "execution_count": 19,
   "id": "390a52e7",
   "metadata": {
    "execution": {
     "iopub.execute_input": "2024-12-12T01:49:33.970970Z",
     "iopub.status.busy": "2024-12-12T01:49:33.970548Z",
     "iopub.status.idle": "2024-12-12T01:49:33.975763Z",
     "shell.execute_reply": "2024-12-12T01:49:33.974673Z"
    },
    "papermill": {
     "duration": 0.018481,
     "end_time": "2024-12-12T01:49:33.978332",
     "exception": false,
     "start_time": "2024-12-12T01:49:33.959851",
     "status": "completed"
    },
    "tags": []
   },
   "outputs": [],
   "source": [
    "regressor = RandomForestRegressor(n_estimators=100)"
   ]
  },
  {
   "cell_type": "markdown",
   "id": "bdfc865b",
   "metadata": {
    "papermill": {
     "duration": 0.010028,
     "end_time": "2024-12-12T01:49:33.998908",
     "exception": false,
     "start_time": "2024-12-12T01:49:33.988880",
     "status": "completed"
    },
    "tags": []
   },
   "source": [
    "## Training the model"
   ]
  },
  {
   "cell_type": "code",
   "execution_count": 20,
   "id": "bb1f1a97",
   "metadata": {
    "execution": {
     "iopub.execute_input": "2024-12-12T01:49:34.021009Z",
     "iopub.status.busy": "2024-12-12T01:49:34.020594Z",
     "iopub.status.idle": "2024-12-12T01:49:34.781795Z",
     "shell.execute_reply": "2024-12-12T01:49:34.780395Z"
    },
    "papermill": {
     "duration": 0.776452,
     "end_time": "2024-12-12T01:49:34.785273",
     "exception": false,
     "start_time": "2024-12-12T01:49:34.008821",
     "status": "completed"
    },
    "tags": []
   },
   "outputs": [
    {
     "data": {
      "text/html": [
       "<style>#sk-container-id-1 {color: black;background-color: white;}#sk-container-id-1 pre{padding: 0;}#sk-container-id-1 div.sk-toggleable {background-color: white;}#sk-container-id-1 label.sk-toggleable__label {cursor: pointer;display: block;width: 100%;margin-bottom: 0;padding: 0.3em;box-sizing: border-box;text-align: center;}#sk-container-id-1 label.sk-toggleable__label-arrow:before {content: \"▸\";float: left;margin-right: 0.25em;color: #696969;}#sk-container-id-1 label.sk-toggleable__label-arrow:hover:before {color: black;}#sk-container-id-1 div.sk-estimator:hover label.sk-toggleable__label-arrow:before {color: black;}#sk-container-id-1 div.sk-toggleable__content {max-height: 0;max-width: 0;overflow: hidden;text-align: left;background-color: #f0f8ff;}#sk-container-id-1 div.sk-toggleable__content pre {margin: 0.2em;color: black;border-radius: 0.25em;background-color: #f0f8ff;}#sk-container-id-1 input.sk-toggleable__control:checked~div.sk-toggleable__content {max-height: 200px;max-width: 100%;overflow: auto;}#sk-container-id-1 input.sk-toggleable__control:checked~label.sk-toggleable__label-arrow:before {content: \"▾\";}#sk-container-id-1 div.sk-estimator input.sk-toggleable__control:checked~label.sk-toggleable__label {background-color: #d4ebff;}#sk-container-id-1 div.sk-label input.sk-toggleable__control:checked~label.sk-toggleable__label {background-color: #d4ebff;}#sk-container-id-1 input.sk-hidden--visually {border: 0;clip: rect(1px 1px 1px 1px);clip: rect(1px, 1px, 1px, 1px);height: 1px;margin: -1px;overflow: hidden;padding: 0;position: absolute;width: 1px;}#sk-container-id-1 div.sk-estimator {font-family: monospace;background-color: #f0f8ff;border: 1px dotted black;border-radius: 0.25em;box-sizing: border-box;margin-bottom: 0.5em;}#sk-container-id-1 div.sk-estimator:hover {background-color: #d4ebff;}#sk-container-id-1 div.sk-parallel-item::after {content: \"\";width: 100%;border-bottom: 1px solid gray;flex-grow: 1;}#sk-container-id-1 div.sk-label:hover label.sk-toggleable__label {background-color: #d4ebff;}#sk-container-id-1 div.sk-serial::before {content: \"\";position: absolute;border-left: 1px solid gray;box-sizing: border-box;top: 0;bottom: 0;left: 50%;z-index: 0;}#sk-container-id-1 div.sk-serial {display: flex;flex-direction: column;align-items: center;background-color: white;padding-right: 0.2em;padding-left: 0.2em;position: relative;}#sk-container-id-1 div.sk-item {position: relative;z-index: 1;}#sk-container-id-1 div.sk-parallel {display: flex;align-items: stretch;justify-content: center;background-color: white;position: relative;}#sk-container-id-1 div.sk-item::before, #sk-container-id-1 div.sk-parallel-item::before {content: \"\";position: absolute;border-left: 1px solid gray;box-sizing: border-box;top: 0;bottom: 0;left: 50%;z-index: -1;}#sk-container-id-1 div.sk-parallel-item {display: flex;flex-direction: column;z-index: 1;position: relative;background-color: white;}#sk-container-id-1 div.sk-parallel-item:first-child::after {align-self: flex-end;width: 50%;}#sk-container-id-1 div.sk-parallel-item:last-child::after {align-self: flex-start;width: 50%;}#sk-container-id-1 div.sk-parallel-item:only-child::after {width: 0;}#sk-container-id-1 div.sk-dashed-wrapped {border: 1px dashed gray;margin: 0 0.4em 0.5em 0.4em;box-sizing: border-box;padding-bottom: 0.4em;background-color: white;}#sk-container-id-1 div.sk-label label {font-family: monospace;font-weight: bold;display: inline-block;line-height: 1.2em;}#sk-container-id-1 div.sk-label-container {text-align: center;}#sk-container-id-1 div.sk-container {/* jupyter's `normalize.less` sets `[hidden] { display: none; }` but bootstrap.min.css set `[hidden] { display: none !important; }` so we also need the `!important` here to be able to override the default hidden behavior on the sphinx rendered scikit-learn.org. See: https://github.com/scikit-learn/scikit-learn/issues/21755 */display: inline-block !important;position: relative;}#sk-container-id-1 div.sk-text-repr-fallback {display: none;}</style><div id=\"sk-container-id-1\" class=\"sk-top-container\"><div class=\"sk-text-repr-fallback\"><pre>RandomForestRegressor()</pre><b>In a Jupyter environment, please rerun this cell to show the HTML representation or trust the notebook. <br />On GitHub, the HTML representation is unable to render, please try loading this page with nbviewer.org.</b></div><div class=\"sk-container\" hidden><div class=\"sk-item\"><div class=\"sk-estimator sk-toggleable\"><input class=\"sk-toggleable__control sk-hidden--visually\" id=\"sk-estimator-id-1\" type=\"checkbox\" checked><label for=\"sk-estimator-id-1\" class=\"sk-toggleable__label sk-toggleable__label-arrow\">RandomForestRegressor</label><div class=\"sk-toggleable__content\"><pre>RandomForestRegressor()</pre></div></div></div></div></div>"
      ],
      "text/plain": [
       "RandomForestRegressor()"
      ]
     },
     "execution_count": 20,
     "metadata": {},
     "output_type": "execute_result"
    }
   ],
   "source": [
    "regressor.fit(x_train, y_train)"
   ]
  },
  {
   "cell_type": "markdown",
   "id": "417e5b74",
   "metadata": {
    "papermill": {
     "duration": 0.009789,
     "end_time": "2024-12-12T01:49:34.807866",
     "exception": false,
     "start_time": "2024-12-12T01:49:34.798077",
     "status": "completed"
    },
    "tags": []
   },
   "source": [
    "# Model Evaluation"
   ]
  },
  {
   "cell_type": "markdown",
   "id": "8cdfe2d4",
   "metadata": {
    "papermill": {
     "duration": 0.010835,
     "end_time": "2024-12-12T01:49:34.828730",
     "exception": false,
     "start_time": "2024-12-12T01:49:34.817895",
     "status": "completed"
    },
    "tags": []
   },
   "source": [
    "## Prediction on Test Data"
   ]
  },
  {
   "cell_type": "code",
   "execution_count": 21,
   "id": "b4c9dfae",
   "metadata": {
    "execution": {
     "iopub.execute_input": "2024-12-12T01:49:34.850080Z",
     "iopub.status.busy": "2024-12-12T01:49:34.849643Z",
     "iopub.status.idle": "2024-12-12T01:49:34.877955Z",
     "shell.execute_reply": "2024-12-12T01:49:34.876688Z"
    },
    "papermill": {
     "duration": 0.042678,
     "end_time": "2024-12-12T01:49:34.881332",
     "exception": false,
     "start_time": "2024-12-12T01:49:34.838654",
     "status": "completed"
    },
    "tags": []
   },
   "outputs": [],
   "source": [
    "test_data_pred = regressor.predict(x_test)"
   ]
  },
  {
   "cell_type": "code",
   "execution_count": 22,
   "id": "9d061a9e",
   "metadata": {
    "execution": {
     "iopub.execute_input": "2024-12-12T01:49:34.907363Z",
     "iopub.status.busy": "2024-12-12T01:49:34.906158Z",
     "iopub.status.idle": "2024-12-12T01:49:34.919327Z",
     "shell.execute_reply": "2024-12-12T01:49:34.917918Z"
    },
    "papermill": {
     "duration": 0.029921,
     "end_time": "2024-12-12T01:49:34.922683",
     "exception": false,
     "start_time": "2024-12-12T01:49:34.892762",
     "status": "completed"
    },
    "tags": []
   },
   "outputs": [
    {
     "name": "stdout",
     "output_type": "stream",
     "text": [
      "[168.6263997   81.70750012 115.81080016 127.70650058 120.75960179\n",
      " 154.87089779 150.54709805 126.06340062 117.60549864 125.94000083\n",
      " 116.39190126 171.44440077 141.87269915 167.98509868 115.06600036\n",
      " 117.48570055 139.6521025  169.81700061 159.7068035  159.56749943\n",
      " 155.18180051 125.29140047 176.33389934 157.47970324 125.16550015\n",
      "  93.66129974  77.38350051 120.3635999  119.11789954 167.43159998\n",
      "  88.11600058 125.21530001  91.06360034 117.66260018 121.14419896\n",
      " 136.59550069 115.69190141 115.32100092 148.7016997  107.48270077\n",
      " 104.48850249  87.15859813 126.49810056 117.85759999 153.69529908\n",
      " 119.61709976 108.28660008 108.01299801  93.12260049 127.13259774\n",
      "  75.00480006 113.64349936 121.43810002 111.12089898 118.86859906\n",
      " 120.67919915 158.77659953 166.34740156 146.8704968   85.8178986\n",
      "  94.3991004   86.74479866  90.58460029 119.02580048 126.45730088\n",
      " 127.56329986 170.42460045 122.23339936 117.37949891  98.51380051\n",
      " 168.79470144 142.73819862 131.77280207 121.08100208 121.24089928\n",
      " 119.74280057 114.62420104 118.24190056 107.35800085 127.960101\n",
      " 113.97159969 107.43839993 117.0082005  119.50679898  88.88440019\n",
      "  88.22789872 146.12800157 127.05199902 113.39480006 110.04249854\n",
      " 108.24969906  77.60809906 170.09130202 114.10079924 121.49589944\n",
      " 127.89760145 155.1692987   91.69399912 135.64660177 158.30510344\n",
      " 125.12860045 125.34860079 130.36410229 115.11250072 120.16859979\n",
      "  92.1280998  110.41909881 169.20909922 157.27339953 114.11959974\n",
      " 106.68600128  79.25089982 113.35540042 125.77700067 107.39959936\n",
      " 119.107401   155.71950288 159.60000036 120.37369985 135.64130229\n",
      " 101.40379996 117.65709812 119.20230026 112.9577009  102.79899902\n",
      " 159.47939773  98.84020058 146.31399952 125.56680076 169.41819846\n",
      " 125.644999   127.34989732 127.51240164 113.66979955 112.8210006\n",
      " 123.68689907 102.14049924  89.26669994 124.78259972 101.28839924\n",
      " 107.07509864 113.73310083 117.02580063  99.1587997  121.79830058\n",
      " 163.09419928  87.44209848 106.84250017 117.18290091 127.76760116\n",
      " 124.07240093  80.85729906 120.59510051 157.2618987   87.86829964\n",
      " 110.15769954 118.85219927 171.85059905 102.99559885 105.60600058\n",
      " 122.60110016 158.19199844  87.68229851  93.2592004  112.72040037\n",
      " 176.97339941 114.10419961 119.31060031  94.77740096 125.75570029\n",
      " 165.88450112 114.9234     116.79650156  88.27599881 148.89950136\n",
      " 120.25879923  89.69699986 112.24650045 117.53450031 118.89040095\n",
      "  88.35189954  94.17100004 117.01160022 118.60010174 120.45420068\n",
      " 126.86939789 121.90849993 149.46910005 165.40690045 118.52639963\n",
      " 120.32120106 149.6521009  118.40329876 172.22519906 105.53599942\n",
      " 104.98680144 149.37390138 113.76180093 124.8882008  147.90319995\n",
      " 119.59350089 115.46400055 112.74580039 113.45970219 142.83380076\n",
      " 117.60559805 102.8820002  115.80330082 103.87800177  98.79400046\n",
      " 117.42800079  90.55850004  91.57090055 153.24159886 102.63280001\n",
      " 153.75420081 114.29650184 138.43920106  90.1799981  115.49779932\n",
      " 114.90219975 123.13390059 121.81610026 165.23730217  92.90189941\n",
      " 135.19940094 121.26949942 120.77590052 104.65680021 143.12890296\n",
      " 121.6500991  116.61170052 113.66740077 127.31209701 122.54819965\n",
      " 125.84979916 121.21070061  86.86539924 132.30140199 143.26600214\n",
      "  92.70299976 159.32630023 158.38240319 126.6743988  165.648\n",
      " 108.85139963 109.88530107 103.61369848  94.54650063 127.78270273\n",
      " 107.0156     162.55979987 121.91300055 132.00969958 130.46600126\n",
      " 160.62609965  90.22889832 175.86350197 127.76759986 126.88119835\n",
      "  86.34879938 124.47379939 150.26199732  89.78690014 106.94070029\n",
      " 108.82569956  84.38499879 136.16799939 154.99360242 138.84830368\n",
      "  73.73390039 152.4295017  126.17559992 126.7835004  127.41039928\n",
      " 108.47069905 156.28990072 114.6749006  116.95550181 125.24649965\n",
      " 153.92030132 121.45479992 156.51279864  92.81210049 125.49780088\n",
      " 125.62480076  87.82600038  92.10909919 126.39739903 128.13030289\n",
      " 113.12950087 117.52179725 120.98300025 127.29529748 119.77660087\n",
      " 136.47920015  93.89119925 119.81650021 113.02310109  94.1799994\n",
      " 108.86899938  87.78629912 108.94099937  89.45919991  92.34600015\n",
      " 131.6046028  162.64340033  89.28870004 119.51320112 133.41040182\n",
      " 123.87309992 128.47250113 101.9362984   89.20659882 131.4174007\n",
      " 119.77490033 108.72520026 168.00250006 115.17970067  86.5267992\n",
      " 118.75800053  91.18849986 161.49990072 116.56570057 121.46900031\n",
      " 160.27349807 119.82399939 112.79979951 108.43459862 126.58580001\n",
      "  76.22340021 103.0775     127.59120246 121.77539983  92.59770017\n",
      " 131.93220073 118.26340096 115.70129977 154.40940287 159.24820115\n",
      " 110.28089974 156.35889774 119.28160065 160.34980171 118.44890009\n",
      " 157.63359873 115.17779905 116.31420008 147.76779953 114.94740039\n",
      " 125.89589898 166.35399936 117.56720013 125.33389923 153.42540347\n",
      " 153.48160211 131.89650007 114.87130023 121.19680195 125.01390085\n",
      "  89.63380052 122.87930038 154.90810178 111.57690024 106.91910007\n",
      " 161.82160133 118.45969956 165.71189997 134.09760107 114.83699961\n",
      " 153.13159974 168.59809921 115.15800008 114.06900153 156.85519871\n",
      "  85.15609895 127.11400114 127.89440113 128.83240048 124.18290067\n",
      " 123.91300112  90.61880073 153.48700011  97.11229991 137.5460999\n",
      "  89.2127988  107.4766998  115.11450074 112.73800105 123.88919923\n",
      "  91.50829853 125.25300115 162.60009887 119.87939901 165.08970123\n",
      " 126.96829748 112.15650012 127.54569918  95.2796993   90.97439979\n",
      " 102.65079919 120.90510018  83.13589969 126.18260046 160.44560463\n",
      " 117.06620079 118.38319973 119.68500005 122.62999969 120.01040135\n",
      " 121.47330043 118.02840037 107.02839932 148.06179957 126.10909836\n",
      " 115.76630095  74.05999982 127.74950088 155.24440069 122.163\n",
      " 125.6433005   88.83179996 103.4770989  124.63580053 120.29960045\n",
      "  73.55880082 151.32620044 121.12210033 104.72889989  86.38629799\n",
      " 114.87179972 172.28919883 119.87020032 160.32839797 113.24849926\n",
      " 121.01300065 118.70630114  95.93919997 118.8377007  126.01770025\n",
      " 118.48379954  96.3720011  154.16340155 121.94570001 147.27909953\n",
      " 159.25230204 113.89620031 122.4825995  149.53319827 127.23210052\n",
      " 166.10020026 135.28360005 120.40310006 167.81239874 108.27329944\n",
      " 121.88739875 139.16540116 106.43689874]\n"
     ]
    }
   ],
   "source": [
    "print(test_data_pred)"
   ]
  },
  {
   "cell_type": "markdown",
   "id": "5624345b",
   "metadata": {
    "papermill": {
     "duration": 0.012453,
     "end_time": "2024-12-12T01:49:34.945887",
     "exception": false,
     "start_time": "2024-12-12T01:49:34.933434",
     "status": "completed"
    },
    "tags": []
   },
   "source": [
    "## R-Squared Error "
   ]
  },
  {
   "cell_type": "code",
   "execution_count": 23,
   "id": "ed5e7846",
   "metadata": {
    "execution": {
     "iopub.execute_input": "2024-12-12T01:49:34.969311Z",
     "iopub.status.busy": "2024-12-12T01:49:34.968443Z",
     "iopub.status.idle": "2024-12-12T01:49:34.975585Z",
     "shell.execute_reply": "2024-12-12T01:49:34.974302Z"
    },
    "papermill": {
     "duration": 0.021164,
     "end_time": "2024-12-12T01:49:34.977982",
     "exception": false,
     "start_time": "2024-12-12T01:49:34.956818",
     "status": "completed"
    },
    "tags": []
   },
   "outputs": [
    {
     "name": "stdout",
     "output_type": "stream",
     "text": [
      "R squared error:  0.988575286978078\n"
     ]
    }
   ],
   "source": [
    "error_score = metrics.r2_score(y_test, test_data_pred)\n",
    "print(\"R squared error: \", error_score)"
   ]
  },
  {
   "cell_type": "markdown",
   "id": "f2b4772b",
   "metadata": {
    "papermill": {
     "duration": 0.010065,
     "end_time": "2024-12-12T01:49:34.998985",
     "exception": false,
     "start_time": "2024-12-12T01:49:34.988920",
     "status": "completed"
    },
    "tags": []
   },
   "source": [
    "## Compare the Actual values and Predicted values in a plot"
   ]
  },
  {
   "cell_type": "code",
   "execution_count": 24,
   "id": "4ca5b14e",
   "metadata": {
    "execution": {
     "iopub.execute_input": "2024-12-12T01:49:35.021157Z",
     "iopub.status.busy": "2024-12-12T01:49:35.020780Z",
     "iopub.status.idle": "2024-12-12T01:49:35.025628Z",
     "shell.execute_reply": "2024-12-12T01:49:35.024551Z"
    },
    "papermill": {
     "duration": 0.01852,
     "end_time": "2024-12-12T01:49:35.027646",
     "exception": false,
     "start_time": "2024-12-12T01:49:35.009126",
     "status": "completed"
    },
    "tags": []
   },
   "outputs": [],
   "source": [
    "y_test = list(y_test)"
   ]
  },
  {
   "cell_type": "code",
   "execution_count": 25,
   "id": "efb1ac45",
   "metadata": {
    "execution": {
     "iopub.execute_input": "2024-12-12T01:49:35.050382Z",
     "iopub.status.busy": "2024-12-12T01:49:35.049229Z",
     "iopub.status.idle": "2024-12-12T01:49:35.363363Z",
     "shell.execute_reply": "2024-12-12T01:49:35.362231Z"
    },
    "papermill": {
     "duration": 0.327605,
     "end_time": "2024-12-12T01:49:35.365496",
     "exception": false,
     "start_time": "2024-12-12T01:49:35.037891",
     "status": "completed"
    },
    "tags": []
   },
   "outputs": [
    {
     "data": {
      "image/png": "[encoded data removed]",
      "text/plain": [
       "<Figure size 640x480 with 1 Axes>"
      ]
     },
     "metadata": {},
     "output_type": "display_data"
    }
   ],
   "source": [
    "plt.plot(y_test, color='blue', label = 'Actual Value')\n",
    "plt.plot(test_data_pred, color='green', label='Predicted Value')\n",
    "plt.title('Actual Price vs Predicted Price')\n",
    "plt.xlabel('Number of values')\n",
    "plt.ylabel('GLD Price')\n",
    "plt.legend()\n",
    "plt.show()"
   ]
  },
  {
   "cell_type": "markdown",
   "id": "ee9bd0ae",
   "metadata": {
    "papermill": {
     "duration": 0.011533,
     "end_time": "2024-12-12T01:49:35.389492",
     "exception": false,
     "start_time": "2024-12-12T01:49:35.377959",
     "status": "completed"
    },
    "tags": []
   },
   "source": [
    "# Build a predictive system"
   ]
  },
  {
   "cell_type": "code",
   "execution_count": 26,
   "id": "0f432b16",
   "metadata": {
    "execution": {
     "iopub.execute_input": "2024-12-12T01:49:35.414574Z",
     "iopub.status.busy": "2024-12-12T01:49:35.414129Z",
     "iopub.status.idle": "2024-12-12T01:49:35.429912Z",
     "shell.execute_reply": "2024-12-12T01:49:35.428555Z"
    },
    "papermill": {
     "duration": 0.031079,
     "end_time": "2024-12-12T01:49:35.432237",
     "exception": false,
     "start_time": "2024-12-12T01:49:35.401158",
     "status": "completed"
    },
    "tags": []
   },
   "outputs": [
    {
     "name": "stdout",
     "output_type": "stream",
     "text": [
      "[149.59740129]\n",
      "The gold price is : [149.59740129]\n"
     ]
    }
   ],
   "source": [
    "input_data = [ 1547.162234 , 88.475601,  45.2200 , 9.971462]\n",
    "\n",
    "# changing input_data to a numpy array\n",
    "input_data_as_numpy_arr = np.asarray(input_data)\n",
    "\n",
    "# Reshape the array \n",
    "input_data_reshapped = input_data_as_numpy_arr.reshape(1,-1)\n",
    "\n",
    "#prediction \n",
    "prediction = regressor.predict(input_data_reshapped)\n",
    "print(prediction)\n",
    "\n",
    "print('The gold price is :', prediction)"
   ]
  },
  {
   "cell_type": "code",
   "execution_count": null,
   "id": "502dd1cf",
   "metadata": {
    "papermill": {
     "duration": 0.011326,
     "end_time": "2024-12-12T01:49:35.455466",
     "exception": false,
     "start_time": "2024-12-12T01:49:35.444140",
     "status": "completed"
    },
    "tags": []
   },
   "outputs": [],
   "source": []
  }
 ],
 "metadata": {
  "kaggle": {
   "accelerator": "none",
   "dataSources": [
    {
     "datasetId": 145424,
     "sourceId": 339411,
     "sourceType": "datasetVersion"
    }
   ],
   "dockerImageVersionId": 30804,
   "isGpuEnabled": false,
   "isInternetEnabled": true,
   "language": "python",
   "sourceType": "notebook"
  },
  "kernelspec": {
   "display_name": "Python 3",
   "language": "python",
   "name": "python3"
  },
  "language_info": {
   "codemirror_mode": {
    "name": "ipython",
    "version": 3
   },
   "file_extension": ".py",
   "mimetype": "text/x-python",
   "name": "python",
   "nbconvert_exporter": "python",
   "pygments_lexer": "ipython3",
   "version": "3.10.14"
  },
  "papermill": {
   "default_parameters": {},
   "duration": 10.101085,
   "end_time": "2024-12-12T01:49:36.189761",
   "environment_variables": {},
   "exception": null,
   "input_path": "__notebook__.ipynb",
   "output_path": "__notebook__.ipynb",
   "parameters": {},
   "start_time": "2024-12-12T01:49:26.088676",
   "version": "2.6.0"
  }
 },
 "nbformat": 4,
 "nbformat_minor": 5
}
